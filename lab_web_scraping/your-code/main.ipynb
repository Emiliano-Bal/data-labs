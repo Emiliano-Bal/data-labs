{
 "cells": [
  {
   "cell_type": "markdown",
   "metadata": {
    "id": "0EICDNZ3XqIS"
   },
   "source": [
    "# Web Scraping Lab\n",
    "\n",
    "You will find in this notebook some scrapy exercises to practise your scraping skills.\n",
    "\n",
    "**Tips:**\n",
    "\n",
    "- Check the response status code for each request to ensure you have obtained the intended contennt.\n",
    "- Print the response text in each request to understand the kind of info you are getting and its format.\n",
    "- Check for patterns in the response text to extract the data/info requested in each question.\n",
    "- Visit each url and take a look at its source through Chrome DevTools. You'll need to identify the html tags, special class names etc. used for the html content you are expected to extract."
   ]
  },
  {
   "cell_type": "markdown",
   "metadata": {
    "id": "2wKGSvXAXqIX"
   },
   "source": [
    "- [Requests library](http://docs.python-requests.org/en/master/#the-user-guide) documentation \n",
    "- [Beautiful Soup Doc](https://www.crummy.com/software/BeautifulSoup/bs4/doc/)\n",
    "- [Urllib](https://docs.python.org/3/library/urllib.html#module-urllib)\n",
    "- [re lib](https://docs.python.org/3/library/re.html)\n",
    "- [lxml lib](https://lxml.de/)\n",
    "- [Scrapy](https://scrapy.org/)\n",
    "- [List of HTTP status codes](https://en.wikipedia.org/wiki/List_of_HTTP_status_codes)\n",
    "- [HTML basics](http://www.simplehtmlguide.com/cheatsheet.php)\n",
    "- [CSS basics](https://www.cssbasics.com/#page_start)"
   ]
  },
  {
   "cell_type": "markdown",
   "metadata": {
    "id": "62uIepbqXqIY"
   },
   "source": [
    "#### Below are the libraries and modules you may need. `requests`,  `BeautifulSoup` and `pandas` are imported for you. If you prefer to use additional libraries feel free to uncomment them."
   ]
  },
  {
   "cell_type": "code",
   "execution_count": 1,
   "metadata": {
    "id": "X2dR6kk5XqIZ"
   },
   "outputs": [],
   "source": [
    "import requests\n",
    "from bs4 import BeautifulSoup\n",
    "import pandas as pd\n",
    "# from pprint import pprint\n",
    "# from lxml import html\n",
    "# from lxml.html import fromstring\n",
    "# import urllib.request\n",
    "# from urllib.request import urlopen\n",
    "# import random\n",
    "# import re\n",
    "# import scrapy"
   ]
  },
  {
   "cell_type": "markdown",
   "metadata": {
    "id": "6tZBn-NwXqIb"
   },
   "source": [
    "#### Download, parse (using BeautifulSoup), and print the content from the Trending Developers page from GitHub:"
   ]
  },
  {
   "cell_type": "code",
   "execution_count": null,
   "metadata": {
    "id": "ON39vV32XqIb"
   },
   "outputs": [],
   "source": [
    "# This is the url you will scrape in this exercise\n",
    "url = 'https://github.com/trending/developers'\n",
    "\n",
    "# get the response and cook the soup\n",
    "response = requests.get(url)\n",
    "soup = BeautifulSoup(response.content, \"html.parser\")\n",
    "soup"
   ]
  },
  {
   "cell_type": "code",
   "execution_count": null,
   "metadata": {
    "id": "-FxLm2L7XqIc"
   },
   "outputs": [],
   "source": [
    "people_tags = soup.find_all('h1', {\"class\": \"h3 lh-condensed\"})\n",
    "people_tags"
   ]
  },
  {
   "cell_type": "code",
   "execution_count": null,
   "metadata": {
    "id": "tNh82aCQdGIt"
   },
   "outputs": [],
   "source": [
    "tag = ['h1','p']\n",
    "people = [tag.a.text.replace('\\n',' ').strip() for tag in people_tags]\n",
    "people\n"
   ]
  },
  {
   "cell_type": "code",
   "execution_count": 54,
   "metadata": {
    "id": "Vd_gPfrilv-6"
   },
   "outputs": [],
   "source": [
    "people_nicknames = soup.find_all('p', {\"class\": \"f4\"})\n"
   ]
  },
  {
   "cell_type": "code",
   "execution_count": 55,
   "metadata": {
    "colab": {
     "base_uri": "https://localhost:8080/"
    },
    "id": "gR7f2QbClwiS",
    "outputId": "c6cff0bb-b6f1-4da8-874c-a6c0637a012d"
   },
   "outputs": [
    {
     "data": {
      "text/plain": [
       "[]"
      ]
     },
     "execution_count": 55,
     "metadata": {},
     "output_type": "execute_result"
    }
   ],
   "source": [
    "people_nick = [tag.text.replace('\\n',' ').strip() for tag in people_nicknames][1:]\n",
    "people_nick\n",
    "\n",
    "#tag=[\"h1\",\"p\"]\n",
    "#text = [element.text.replace('\\n',' ').strip() for element in soup.find_all(tag)]\n",
    "#listofnames=[text[i]+\" (@\"+text[i+1]+\")\" for i in range(2,30)]\n",
    "#listofnames\n"
   ]
  },
  {
   "cell_type": "code",
   "execution_count": null,
   "metadata": {
    "id": "mj_BalMBlwnw"
   },
   "outputs": [],
   "source": [
    "trend_devops = [people[i] + '(' + people_nick[i] + ')' for i in range(len(people))]"
   ]
  },
  {
   "cell_type": "code",
   "execution_count": null,
   "metadata": {
    "id": "vRdSMOSFlwsg"
   },
   "outputs": [],
   "source": []
  },
  {
   "cell_type": "markdown",
   "metadata": {
    "id": "vbCPKNbDXqIc"
   },
   "source": [
    "#### Display the names of the trending developers retrieved in the previous step.\n",
    "\n",
    "Your output should be a Python list of developer names. Each name should not contain any html tag.\n",
    "\n",
    "**Instructions:**\n",
    "\n",
    "1. Find out the html tag and class names used for the developer names. You can achieve this using Chrome DevTools.\n",
    "\n",
    "1. Use BeautifulSoup to extract all the html elements that contain the developer names.\n",
    "\n",
    "1. Use string manipulation techniques to replace whitespaces and linebreaks (i.e. `\\n`) in the *text* of each html element. Use a list to store the clean names.\n",
    "\n",
    "1. Print the list of names.\n",
    "\n",
    "Your output should look like below:\n",
    "\n",
    "```\n",
    "['trimstray (@trimstray)',\n",
    " 'joewalnes (JoeWalnes)',\n",
    " 'charlax (Charles-AxelDein)',\n",
    " 'ForrestKnight (ForrestKnight)',\n",
    " 'revery-ui (revery-ui)',\n",
    " 'alibaba (Alibaba)',\n",
    " 'Microsoft (Microsoft)',\n",
    " 'github (GitHub)',\n",
    " 'facebook (Facebook)',\n",
    " 'boazsegev (Bo)',\n",
    " 'google (Google)',\n",
    " 'cloudfetch',\n",
    " 'sindresorhus (SindreSorhus)',\n",
    " 'tensorflow',\n",
    " 'apache (TheApacheSoftwareFoundation)',\n",
    " 'DevonCrawford (DevonCrawford)',\n",
    " 'ARMmbed (ArmMbed)',\n",
    " 'vuejs (vuejs)',\n",
    " 'fastai (fast.ai)',\n",
    " 'QiShaoXuan (Qi)',\n",
    " 'joelparkerhenderson (JoelParkerHenderson)',\n",
    " 'torvalds (LinusTorvalds)',\n",
    " 'CyC2018',\n",
    " 'komeiji-satori (神楽坂覚々)',\n",
    " 'script-8']\n",
    " ```"
   ]
  },
  {
   "cell_type": "code",
   "execution_count": null,
   "metadata": {
    "id": "q1aPtw_-XqIe"
   },
   "outputs": [],
   "source": [
    "#your code"
   ]
  },
  {
   "cell_type": "markdown",
   "metadata": {
    "id": "EzdyZONXXqIf"
   },
   "source": [
    "#### Display the trending Python repositories in GitHub\n",
    "\n",
    "The steps to solve this problem is similar to the previous one except that you need to find out the repository names instead of developer names."
   ]
  },
  {
   "cell_type": "code",
   "execution_count": null,
   "metadata": {
    "id": "-s0fJRDRoZY9"
   },
   "outputs": [],
   "source": []
  },
  {
   "cell_type": "code",
   "execution_count": 20,
   "metadata": {
    "id": "vK55AkvMXqIf"
   },
   "outputs": [],
   "source": [
    "# This is the url you will scrape in this exercise\n",
    "url = 'https://github.com/trending/python?since=daily'"
   ]
  },
  {
   "cell_type": "code",
   "execution_count": 23,
   "metadata": {
    "id": "rjM8QPuRXqIf"
   },
   "outputs": [],
   "source": [
    "response = requests.get(url)\n",
    "soup = BeautifulSoup(response.content, \"html.parser\")\n"
   ]
  },
  {
   "cell_type": "code",
   "execution_count": 22,
   "metadata": {
    "colab": {
     "base_uri": "https://localhost:8080/"
    },
    "id": "R7KQDDkWoYGq",
    "outputId": "12bbdb62-b585-42df-b1e5-9578c3105256"
   },
   "outputs": [
    {
     "data": {
      "text/plain": [
       "[('Eilonh', 's3crets_scanner'),\n",
       " ('geohot', 'tinygrad'),\n",
       " ('NVIDIA', 'DeepLearningExamples'),\n",
       " ('open-mmlab', 'mmdeploy'),\n",
       " ('hiroi-sora', 'Umi-OCR'),\n",
       " ('WZMIAOMIAO', 'deep-learning-for-image-processing'),\n",
       " ('facebookresearch', 'esm'),\n",
       " ('PaddlePaddle', 'PaddleSeg'),\n",
       " ('Sanster', 'lama-cleaner'),\n",
       " ('facebookresearch', 'detectron2'),\n",
       " ('MatrixTM', 'MHDDoS'),\n",
       " ('PaddlePaddle', 'PaddleHub'),\n",
       " ('open-mmlab', 'mmdetection'),\n",
       " ('open-mmlab', 'mmclassification'),\n",
       " ('huggingface', 'accelerate'),\n",
       " ('PaddlePaddle', 'PaddleClas'),\n",
       " ('tianqiraf', 'DouZero_For_HappyDouDiZhu'),\n",
       " ('pyg-team', 'pytorch_geometric'),\n",
       " ('commaai', 'openpilot'),\n",
       " ('magicleap', 'SuperGluePretrainedNetwork'),\n",
       " ('open-mmlab', 'mmsegmentation'),\n",
       " ('AUTOMATIC1111', 'stable-diffusion-webui'),\n",
       " ('UKPLab', 'sentence-transformers'),\n",
       " ('pytorch', 'examples'),\n",
       " ('QIN2DIM', 'hcaptcha-challenger')]"
      ]
     },
     "execution_count": 22,
     "metadata": {},
     "output_type": "execute_result"
    }
   ],
   "source": [
    "# find all repositories under h1 tag and additional class\n",
    "repos_tags = soup.find_all('h1', {\"class\": \"h3 lh-condensed\"})\n",
    "\n",
    "# get the text of the child of each element in list\n",
    "repos_users = [tag.span.text.strip()[:-2] for tag in repos_tags]\n",
    "repos_names = [tag.a.text.replace('\\n', '').split('/')[-1].strip() for tag in repos_tags]\n",
    "\n",
    "repos = list(zip(repos_users, repos_names))\n",
    "repos"
   ]
  },
  {
   "cell_type": "code",
   "execution_count": null,
   "metadata": {
    "id": "PAGVY6EgoYZD"
   },
   "outputs": [],
   "source": []
  },
  {
   "cell_type": "markdown",
   "metadata": {
    "id": "pI4g4SLhXqIg"
   },
   "source": [
    "#### Display all the image links from Walt Disney wikipedia page"
   ]
  },
  {
   "cell_type": "code",
   "execution_count": null,
   "metadata": {
    "id": "fcKdDOHrXqIh"
   },
   "outputs": [],
   "source": [
    "# This is the url you will scrape in this exercise\n",
    "url = 'https://en.wikipedia.org/wiki/Walt_Disney'\n",
    "response = requests.get(url)\n",
    "soup = BeautifulSoup(response.content, \"html.parser\")\n",
    "# find all repositories under img tag\n",
    "find_main_page = soup.find_all('img')\n",
    "\n",
    "# get the link\n",
    "images = [tag.get('src') for tag in find_main_page]\n",
    "images"
   ]
  },
  {
   "cell_type": "markdown",
   "metadata": {
    "id": "wiX8IsEgXqIh"
   },
   "source": [
    "#### Retrieve an arbitary Wikipedia page of \"Python\" and create a list of links on that page"
   ]
  },
  {
   "cell_type": "code",
   "execution_count": 3,
   "metadata": {
    "id": "7jM2a-FPXqIh"
   },
   "outputs": [],
   "source": [
    "# This is the url you will scrape in this exercise\n",
    "url ='https://en.wikipedia.org/wiki/Python' "
   ]
  },
  {
   "cell_type": "code",
   "execution_count": 4,
   "metadata": {
    "id": "PkP_77wNXqIi"
   },
   "outputs": [],
   "source": [
    "#your code"
   ]
  },
  {
   "cell_type": "markdown",
   "metadata": {
    "id": "VfTatynrXqIi"
   },
   "source": [
    "#### Number of Titles that have changed in the United States Code since its last release point "
   ]
  },
  {
   "cell_type": "code",
   "execution_count": 35,
   "metadata": {
    "id": "pIgj0Cm1XqIi"
   },
   "outputs": [],
   "source": [
    "# This is the url you will scrape in this exercise\n",
    "url = 'http://uscode.house.gov/download/download.shtml'\n",
    "response = requests.get(url)\n",
    "soup = BeautifulSoup(response.content, \"html.parser\")"
   ]
  },
  {
   "cell_type": "code",
   "execution_count": 36,
   "metadata": {
    "colab": {
     "base_uri": "https://localhost:8080/"
    },
    "id": "-dMmzFGNXqIi",
    "outputId": "075b0887-a2f6-470f-aec8-b10f0ded5c8d"
   },
   "outputs": [
    {
     "data": {
      "text/plain": [
       "['Title 17 - Copyrights',\n",
       " 'Title 22 - Foreign Relations and Intercourse',\n",
       " \"Title 38 - Veterans' Benefits\",\n",
       " 'Title 40 - Public Buildings, Property, and Works',\n",
       " 'Title 41 - Public Contracts',\n",
       " 'Title 42 - The Public Health and Welfare',\n",
       " 'Title 44 - Public Printing and Documents',\n",
       " 'Title 49 - Transportation',\n",
       " 'Title 54 - National Park Service and Related Programs']"
      ]
     },
     "execution_count": 36,
     "metadata": {},
     "output_type": "execute_result"
    }
   ],
   "source": [
    "main_page = soup.find_all('div', {'class':'usctitlechanged'})\n",
    "\n",
    "titles = [tag.text.replace('٭', '').strip() for tag in main_page if \"Title\" in tag.text]\n",
    "titles"
   ]
  },
  {
   "cell_type": "markdown",
   "metadata": {
    "id": "va8LKd5vXqIj"
   },
   "source": [
    "#### A Python list with the top ten FBI's Most Wanted names "
   ]
  },
  {
   "cell_type": "code",
   "execution_count": 37,
   "metadata": {
    "id": "2PHBtv0vXqIj"
   },
   "outputs": [],
   "source": [
    "# This is the url you will scrape in this exercise\n",
    "url = 'https://www.fbi.gov/wanted/topten'\n",
    "response = requests.get(url)\n",
    "soup = BeautifulSoup(response.content, \"html.parser\")\n"
   ]
  },
  {
   "cell_type": "code",
   "execution_count": 38,
   "metadata": {
    "colab": {
     "base_uri": "https://localhost:8080/"
    },
    "id": "tH2d0ZMKXqIj",
    "outputId": "2cc4decc-141f-4fa7-c09f-8e95d56e9d5b"
   },
   "outputs": [
    {
     "data": {
      "text/plain": [
       "['ALEXIS FLORES',\n",
       " 'JOSE RODOLFO VILLARREAL-HERNANDEZ',\n",
       " 'YULAN ADONAY ARCHAGA CARIAS',\n",
       " 'BHADRESHKUMAR CHETANBHAI PATEL',\n",
       " 'OMAR ALEXANDER CARDENAS',\n",
       " 'ALEJANDRO ROSALES CASTILLO',\n",
       " 'MICHAEL JAMES PRATT',\n",
       " 'RUJA IGNATOVA',\n",
       " 'ARNOLDO JIMENEZ',\n",
       " 'RAFAEL CARO-QUINTERO']"
      ]
     },
     "execution_count": 38,
     "metadata": {},
     "output_type": "execute_result"
    }
   ],
   "source": [
    "wanted_names = soup.find_all('h3', {'class': 'title'})\n",
    "most_wanted = [tag.a.text.replace('\\n',' ').strip() for tag in wanted_names]\n",
    "most_wanted"
   ]
  },
  {
   "cell_type": "markdown",
   "metadata": {
    "id": "46KJ34_8XqIj"
   },
   "source": [
    "####  20 latest earthquakes info (date, time, latitude, longitude and region name) by the EMSC as a pandas dataframe"
   ]
  },
  {
   "cell_type": "code",
   "execution_count": 58,
   "metadata": {
    "id": "rahBpfkhXqIj"
   },
   "outputs": [],
   "source": [
    "# This is the url you will scrape in this exercise\n",
    "url = 'https://www.emsc-csem.org/Earthquake/'\n",
    "response = requests.get(url)\n",
    "soup = BeautifulSoup(response.content, \"html.parser\")"
   ]
  },
  {
   "cell_type": "code",
   "execution_count": 59,
   "metadata": {
    "id": "Im5UuJNPXqIj"
   },
   "outputs": [],
   "source": [
    "earthquakes1  = soup.find_all('table')[3]\n"
   ]
  },
  {
   "cell_type": "code",
   "execution_count": 60,
   "metadata": {
    "id": "8_zeKNZRr3SN"
   },
   "outputs": [],
   "source": [
    "df4 = pd.DataFrame(pd.read_html(str(earthquakes1))[0])\n",
    "df1 = df4.drop(labels=[50,51,52])\n",
    "del df1['CitizenResponse']\n",
    "df2 = df1.drop(df1.index[21:])\n"
   ]
  },
  {
   "cell_type": "code",
   "execution_count": 61,
   "metadata": {
    "id": "PlJUZPsCr3iG"
   },
   "outputs": [
    {
     "data": {
      "text/html": [
       "<div>\n",
       "<style scoped>\n",
       "    .dataframe tbody tr th:only-of-type {\n",
       "        vertical-align: middle;\n",
       "    }\n",
       "\n",
       "    .dataframe tbody tr th {\n",
       "        vertical-align: top;\n",
       "    }\n",
       "\n",
       "    .dataframe thead tr th {\n",
       "        text-align: left;\n",
       "    }\n",
       "</style>\n",
       "<table border=\"1\" class=\"dataframe\">\n",
       "  <thead>\n",
       "    <tr>\n",
       "      <th></th>\n",
       "      <th>Date &amp; Time UTC</th>\n",
       "      <th colspan=\"2\" halign=\"left\">Latitude degrees</th>\n",
       "      <th colspan=\"2\" halign=\"left\">Longitude degrees</th>\n",
       "      <th>Depth km</th>\n",
       "      <th>Mag [+]</th>\n",
       "      <th>Region name [+]</th>\n",
       "      <th>Last update [-]</th>\n",
       "      <th>Unnamed: 12_level_0</th>\n",
       "    </tr>\n",
       "    <tr>\n",
       "      <th></th>\n",
       "      <th>12345678910›»</th>\n",
       "      <th>12345678910›»</th>\n",
       "      <th>12345678910›».1</th>\n",
       "      <th>12345678910›»</th>\n",
       "      <th>12345678910›».1</th>\n",
       "      <th>12345678910›»</th>\n",
       "      <th>12345678910›»</th>\n",
       "      <th>12345678910›»</th>\n",
       "      <th>12345678910›»</th>\n",
       "      <th>12345678910›»</th>\n",
       "    </tr>\n",
       "  </thead>\n",
       "  <tbody>\n",
       "    <tr>\n",
       "      <th>0</th>\n",
       "      <td>2022-11-04 20:29:26.024min ago</td>\n",
       "      <td>11.92</td>\n",
       "      <td>N</td>\n",
       "      <td>87.15</td>\n",
       "      <td>W</td>\n",
       "      <td>29</td>\n",
       "      <td>M</td>\n",
       "      <td>3.0</td>\n",
       "      <td>NEAR COAST OF NICARAGUA</td>\n",
       "      <td>2022-11-04 20:36</td>\n",
       "    </tr>\n",
       "    <tr>\n",
       "      <th>1</th>\n",
       "      <td>2022-11-04 20:29:15.424min ago</td>\n",
       "      <td>38.83</td>\n",
       "      <td>N</td>\n",
       "      <td>122.80</td>\n",
       "      <td>W</td>\n",
       "      <td>0</td>\n",
       "      <td>Md</td>\n",
       "      <td>2.6</td>\n",
       "      <td>NORTHERN CALIFORNIA</td>\n",
       "      <td>2022-11-04 20:32</td>\n",
       "    </tr>\n",
       "    <tr>\n",
       "      <th>2</th>\n",
       "      <td>2022-11-04 20:26:32.927min ago</td>\n",
       "      <td>38.83</td>\n",
       "      <td>N</td>\n",
       "      <td>122.80</td>\n",
       "      <td>W</td>\n",
       "      <td>2</td>\n",
       "      <td>Ml</td>\n",
       "      <td>3.4</td>\n",
       "      <td>NORTHERN CALIFORNIA</td>\n",
       "      <td>2022-11-04 20:29</td>\n",
       "    </tr>\n",
       "    <tr>\n",
       "      <th>3</th>\n",
       "      <td>2022-11-04 20:18:49.835min ago</td>\n",
       "      <td>61.98</td>\n",
       "      <td>N</td>\n",
       "      <td>150.49</td>\n",
       "      <td>W</td>\n",
       "      <td>17</td>\n",
       "      <td>ml</td>\n",
       "      <td>3.1</td>\n",
       "      <td>SOUTHERN ALASKA</td>\n",
       "      <td>2022-11-04 20:20</td>\n",
       "    </tr>\n",
       "    <tr>\n",
       "      <th>4</th>\n",
       "      <td>2022-11-04 20:16:06.038min ago</td>\n",
       "      <td>31.39</td>\n",
       "      <td>S</td>\n",
       "      <td>70.71</td>\n",
       "      <td>W</td>\n",
       "      <td>83</td>\n",
       "      <td>M</td>\n",
       "      <td>2.6</td>\n",
       "      <td>COQUIMBO, CHILE</td>\n",
       "      <td>2022-11-04 20:49</td>\n",
       "    </tr>\n",
       "    <tr>\n",
       "      <th>5</th>\n",
       "      <td>2022-11-04 19:02:37.01hr 51min ago</td>\n",
       "      <td>32.27</td>\n",
       "      <td>N</td>\n",
       "      <td>76.32</td>\n",
       "      <td>E</td>\n",
       "      <td>5</td>\n",
       "      <td>M</td>\n",
       "      <td>2.6</td>\n",
       "      <td>HIMACHAL PRADESH, INDIA</td>\n",
       "      <td>2022-11-04 20:05</td>\n",
       "    </tr>\n",
       "    <tr>\n",
       "      <th>6</th>\n",
       "      <td>2022-11-04 18:42:25.82hr 11min ago</td>\n",
       "      <td>39.70</td>\n",
       "      <td>N</td>\n",
       "      <td>22.11</td>\n",
       "      <td>E</td>\n",
       "      <td>2</td>\n",
       "      <td>ML</td>\n",
       "      <td>3.0</td>\n",
       "      <td>GREECE</td>\n",
       "      <td>2022-11-04 19:30</td>\n",
       "    </tr>\n",
       "    <tr>\n",
       "      <th>7</th>\n",
       "      <td>2022-11-04 18:38:31.62hr 15min ago</td>\n",
       "      <td>19.48</td>\n",
       "      <td>N</td>\n",
       "      <td>155.58</td>\n",
       "      <td>W</td>\n",
       "      <td>-2</td>\n",
       "      <td>ML</td>\n",
       "      <td>2.1</td>\n",
       "      <td>ISLAND OF HAWAII, HAWAII</td>\n",
       "      <td>2022-11-04 18:44</td>\n",
       "    </tr>\n",
       "    <tr>\n",
       "      <th>8</th>\n",
       "      <td>2022-11-04 18:37:26.72hr 16min ago</td>\n",
       "      <td>46.21</td>\n",
       "      <td>N</td>\n",
       "      <td>7.56</td>\n",
       "      <td>E</td>\n",
       "      <td>6</td>\n",
       "      <td>ML</td>\n",
       "      <td>1.2</td>\n",
       "      <td>SWITZERLAND</td>\n",
       "      <td>2022-11-04 18:43</td>\n",
       "    </tr>\n",
       "    <tr>\n",
       "      <th>9</th>\n",
       "      <td>2022-11-04 18:37:08.02hr 17min ago</td>\n",
       "      <td>11.36</td>\n",
       "      <td>N</td>\n",
       "      <td>86.98</td>\n",
       "      <td>W</td>\n",
       "      <td>25</td>\n",
       "      <td>M</td>\n",
       "      <td>2.9</td>\n",
       "      <td>NEAR COAST OF NICARAGUA</td>\n",
       "      <td>2022-11-04 18:46</td>\n",
       "    </tr>\n",
       "    <tr>\n",
       "      <th>10</th>\n",
       "      <td>2022-11-04 18:34:27.02hr 19min ago</td>\n",
       "      <td>15.58</td>\n",
       "      <td>N</td>\n",
       "      <td>119.97</td>\n",
       "      <td>E</td>\n",
       "      <td>20</td>\n",
       "      <td>M</td>\n",
       "      <td>3.4</td>\n",
       "      <td>LUZON, PHILIPPINES</td>\n",
       "      <td>2022-11-04 18:50</td>\n",
       "    </tr>\n",
       "    <tr>\n",
       "      <th>11</th>\n",
       "      <td>2022-11-04 18:29:30.02hr 24min ago</td>\n",
       "      <td>11.88</td>\n",
       "      <td>S</td>\n",
       "      <td>72.87</td>\n",
       "      <td>W</td>\n",
       "      <td>19</td>\n",
       "      <td>M</td>\n",
       "      <td>3.8</td>\n",
       "      <td>CENTRAL PERU</td>\n",
       "      <td>2022-11-04 18:46</td>\n",
       "    </tr>\n",
       "    <tr>\n",
       "      <th>12</th>\n",
       "      <td>2022-11-04 18:29:01.02hr 25min ago</td>\n",
       "      <td>11.34</td>\n",
       "      <td>N</td>\n",
       "      <td>86.99</td>\n",
       "      <td>W</td>\n",
       "      <td>24</td>\n",
       "      <td>M</td>\n",
       "      <td>2.5</td>\n",
       "      <td>NEAR COAST OF NICARAGUA</td>\n",
       "      <td>2022-11-04 18:35</td>\n",
       "    </tr>\n",
       "    <tr>\n",
       "      <th>13</th>\n",
       "      <td>2022-11-04 18:26:50.82hr 27min ago</td>\n",
       "      <td>60.02</td>\n",
       "      <td>N</td>\n",
       "      <td>153.08</td>\n",
       "      <td>W</td>\n",
       "      <td>122</td>\n",
       "      <td>ML</td>\n",
       "      <td>2.6</td>\n",
       "      <td>SOUTHERN ALASKA</td>\n",
       "      <td>2022-11-04 20:46</td>\n",
       "    </tr>\n",
       "    <tr>\n",
       "      <th>14</th>\n",
       "      <td>2022-11-04 18:21:40.02hr 32min ago</td>\n",
       "      <td>19.76</td>\n",
       "      <td>S</td>\n",
       "      <td>71.29</td>\n",
       "      <td>W</td>\n",
       "      <td>40</td>\n",
       "      <td>M</td>\n",
       "      <td>3.2</td>\n",
       "      <td>OFF COAST OF TARAPACA, CHILE</td>\n",
       "      <td>2022-11-04 18:46</td>\n",
       "    </tr>\n",
       "    <tr>\n",
       "      <th>15</th>\n",
       "      <td>2022-11-04 18:18:52.02hr 35min ago</td>\n",
       "      <td>13.84</td>\n",
       "      <td>N</td>\n",
       "      <td>124.12</td>\n",
       "      <td>E</td>\n",
       "      <td>2</td>\n",
       "      <td>M</td>\n",
       "      <td>3.2</td>\n",
       "      <td>CATANDUANES, PHILIPPINES</td>\n",
       "      <td>2022-11-04 18:30</td>\n",
       "    </tr>\n",
       "    <tr>\n",
       "      <th>16</th>\n",
       "      <td>2022-11-04 18:17:40.22hr 36min ago</td>\n",
       "      <td>36.79</td>\n",
       "      <td>N</td>\n",
       "      <td>121.25</td>\n",
       "      <td>W</td>\n",
       "      <td>8</td>\n",
       "      <td>Md</td>\n",
       "      <td>2.1</td>\n",
       "      <td>CENTRAL CALIFORNIA</td>\n",
       "      <td>2022-11-04 18:19</td>\n",
       "    </tr>\n",
       "    <tr>\n",
       "      <th>17</th>\n",
       "      <td>2022-11-04 18:16:27.22hr 37min ago</td>\n",
       "      <td>37.72</td>\n",
       "      <td>N</td>\n",
       "      <td>13.97</td>\n",
       "      <td>E</td>\n",
       "      <td>38</td>\n",
       "      <td>ML</td>\n",
       "      <td>2.9</td>\n",
       "      <td>SICILY, ITALY</td>\n",
       "      <td>2022-11-04 18:36</td>\n",
       "    </tr>\n",
       "    <tr>\n",
       "      <th>18</th>\n",
       "      <td>2022-11-04 18:15:10.02hr 39min ago</td>\n",
       "      <td>26.07</td>\n",
       "      <td>S</td>\n",
       "      <td>65.42</td>\n",
       "      <td>W</td>\n",
       "      <td>10</td>\n",
       "      <td>M</td>\n",
       "      <td>3.4</td>\n",
       "      <td>SALTA, ARGENTINA</td>\n",
       "      <td>2022-11-04 18:20</td>\n",
       "    </tr>\n",
       "    <tr>\n",
       "      <th>19</th>\n",
       "      <td>2022-11-04 18:10:11.52hr 44min ago</td>\n",
       "      <td>17.95</td>\n",
       "      <td>N</td>\n",
       "      <td>66.85</td>\n",
       "      <td>W</td>\n",
       "      <td>13</td>\n",
       "      <td>Md</td>\n",
       "      <td>2.3</td>\n",
       "      <td>PUERTO RICO REGION</td>\n",
       "      <td>2022-11-04 20:19</td>\n",
       "    </tr>\n",
       "    <tr>\n",
       "      <th>20</th>\n",
       "      <td>2022-11-04 17:25:01.53hr 29min ago</td>\n",
       "      <td>37.49</td>\n",
       "      <td>N</td>\n",
       "      <td>9.27</td>\n",
       "      <td>W</td>\n",
       "      <td>24</td>\n",
       "      <td>ML</td>\n",
       "      <td>2.3</td>\n",
       "      <td>PORTUGAL</td>\n",
       "      <td>2022-11-04 17:29</td>\n",
       "    </tr>\n",
       "  </tbody>\n",
       "</table>\n",
       "</div>"
      ],
      "text/plain": [
       "                       Date & Time UTC Latitude degrees                  \\\n",
       "                         12345678910›»    12345678910›» 12345678910›».1   \n",
       "0       2022-11-04 20:29:26.024min ago            11.92               N   \n",
       "1       2022-11-04 20:29:15.424min ago            38.83               N   \n",
       "2       2022-11-04 20:26:32.927min ago            38.83               N   \n",
       "3       2022-11-04 20:18:49.835min ago            61.98               N   \n",
       "4       2022-11-04 20:16:06.038min ago            31.39               S   \n",
       "5   2022-11-04 19:02:37.01hr 51min ago            32.27               N   \n",
       "6   2022-11-04 18:42:25.82hr 11min ago            39.70               N   \n",
       "7   2022-11-04 18:38:31.62hr 15min ago            19.48               N   \n",
       "8   2022-11-04 18:37:26.72hr 16min ago            46.21               N   \n",
       "9   2022-11-04 18:37:08.02hr 17min ago            11.36               N   \n",
       "10  2022-11-04 18:34:27.02hr 19min ago            15.58               N   \n",
       "11  2022-11-04 18:29:30.02hr 24min ago            11.88               S   \n",
       "12  2022-11-04 18:29:01.02hr 25min ago            11.34               N   \n",
       "13  2022-11-04 18:26:50.82hr 27min ago            60.02               N   \n",
       "14  2022-11-04 18:21:40.02hr 32min ago            19.76               S   \n",
       "15  2022-11-04 18:18:52.02hr 35min ago            13.84               N   \n",
       "16  2022-11-04 18:17:40.22hr 36min ago            36.79               N   \n",
       "17  2022-11-04 18:16:27.22hr 37min ago            37.72               N   \n",
       "18  2022-11-04 18:15:10.02hr 39min ago            26.07               S   \n",
       "19  2022-11-04 18:10:11.52hr 44min ago            17.95               N   \n",
       "20  2022-11-04 17:25:01.53hr 29min ago            37.49               N   \n",
       "\n",
       "   Longitude degrees                      Depth km       Mag [+]  \\\n",
       "       12345678910›» 12345678910›».1 12345678910›» 12345678910›»   \n",
       "0              87.15               W            29             M   \n",
       "1             122.80               W             0            Md   \n",
       "2             122.80               W             2            Ml   \n",
       "3             150.49               W            17            ml   \n",
       "4              70.71               W            83             M   \n",
       "5              76.32               E             5             M   \n",
       "6              22.11               E             2            ML   \n",
       "7             155.58               W            -2            ML   \n",
       "8               7.56               E             6            ML   \n",
       "9              86.98               W            25             M   \n",
       "10            119.97               E            20             M   \n",
       "11             72.87               W            19             M   \n",
       "12             86.99               W            24             M   \n",
       "13            153.08               W           122            ML   \n",
       "14             71.29               W            40             M   \n",
       "15            124.12               E             2             M   \n",
       "16            121.25               W             8            Md   \n",
       "17             13.97               E            38            ML   \n",
       "18             65.42               W            10             M   \n",
       "19             66.85               W            13            Md   \n",
       "20              9.27               W            24            ML   \n",
       "\n",
       "   Region name [+]               Last update [-] Unnamed: 12_level_0  \n",
       "     12345678910›»                 12345678910›»       12345678910›»  \n",
       "0              3.0       NEAR COAST OF NICARAGUA    2022-11-04 20:36  \n",
       "1              2.6           NORTHERN CALIFORNIA    2022-11-04 20:32  \n",
       "2              3.4           NORTHERN CALIFORNIA    2022-11-04 20:29  \n",
       "3              3.1               SOUTHERN ALASKA    2022-11-04 20:20  \n",
       "4              2.6               COQUIMBO, CHILE    2022-11-04 20:49  \n",
       "5              2.6       HIMACHAL PRADESH, INDIA    2022-11-04 20:05  \n",
       "6              3.0                        GREECE    2022-11-04 19:30  \n",
       "7              2.1      ISLAND OF HAWAII, HAWAII    2022-11-04 18:44  \n",
       "8              1.2                   SWITZERLAND    2022-11-04 18:43  \n",
       "9              2.9       NEAR COAST OF NICARAGUA    2022-11-04 18:46  \n",
       "10             3.4            LUZON, PHILIPPINES    2022-11-04 18:50  \n",
       "11             3.8                  CENTRAL PERU    2022-11-04 18:46  \n",
       "12             2.5       NEAR COAST OF NICARAGUA    2022-11-04 18:35  \n",
       "13             2.6               SOUTHERN ALASKA    2022-11-04 20:46  \n",
       "14             3.2  OFF COAST OF TARAPACA, CHILE    2022-11-04 18:46  \n",
       "15             3.2      CATANDUANES, PHILIPPINES    2022-11-04 18:30  \n",
       "16             2.1            CENTRAL CALIFORNIA    2022-11-04 18:19  \n",
       "17             2.9                 SICILY, ITALY    2022-11-04 18:36  \n",
       "18             3.4              SALTA, ARGENTINA    2022-11-04 18:20  \n",
       "19             2.3            PUERTO RICO REGION    2022-11-04 20:19  \n",
       "20             2.3                      PORTUGAL    2022-11-04 17:29  "
      ]
     },
     "execution_count": 61,
     "metadata": {},
     "output_type": "execute_result"
    }
   ],
   "source": [
    "df2"
   ]
  },
  {
   "cell_type": "code",
   "execution_count": 9,
   "metadata": {
    "id": "LUYkLKOcr3ms"
   },
   "outputs": [],
   "source": []
  },
  {
   "cell_type": "code",
   "execution_count": 9,
   "metadata": {
    "id": "N1tp_pm2r3vZ"
   },
   "outputs": [],
   "source": []
  },
  {
   "cell_type": "markdown",
   "metadata": {
    "id": "CZjKfbK_XqIk"
   },
   "source": [
    "#### Display the date, days, title, city, country of next 25 hackathon events as a Pandas dataframe table"
   ]
  },
  {
   "cell_type": "code",
   "execution_count": 124,
   "metadata": {
    "id": "3yvBnVerXqIk"
   },
   "outputs": [],
   "source": [
    "# This is the url you will scrape in this exercise\n",
    "url ='https://hackevents.co/hackathons'\n",
    "response = requests.get(url)\n",
    "soup = BeautifulSoup(response.content, \"html.parser\")"
   ]
  },
  {
   "cell_type": "code",
   "execution_count": null,
   "metadata": {
    "id": "8U_615hWXqIk"
   },
   "outputs": [],
   "source": [
    "#no me deja abrir el link"
   ]
  },
  {
   "cell_type": "markdown",
   "metadata": {
    "id": "9-Ye29bnXqIk"
   },
   "source": [
    "#### Count number of tweets by a given Twitter account."
   ]
  },
  {
   "cell_type": "markdown",
   "metadata": {
    "id": "8B22iPxuXqIk"
   },
   "source": [
    "You will need to include a ***try/except block*** for account names not found. \n",
    "<br>***Hint:*** the program should count the number of tweets for any provided account"
   ]
  },
  {
   "cell_type": "code",
   "execution_count": 47,
   "metadata": {
    "id": "n2a4hsQ9XqIk"
   },
   "outputs": [],
   "source": [
    "# This is the url you will scrape in this exercise \n",
    "# You will need to add the account credentials to this url\n",
    "url = 'https://twitter.com/elonmusk'\n",
    "response = requests.get(url)\n",
    "soup = BeautifulSoup(response.text, \"html.parser\")\n"
   ]
  },
  {
   "cell_type": "code",
   "execution_count": 49,
   "metadata": {
    "id": "y13s2VVGXqIl"
   },
   "outputs": [
    {
     "data": {
      "text/plain": [
       "<bound method Tag.prettify of <!DOCTYPE html>\n",
       "\n",
       "<html dir=\"ltr\" lang=\"en\">\n",
       "<head>\n",
       "<meta charset=\"utf-8\"/>\n",
       "<meta content=\"width=device-width,initial-scale=1,maximum-scale=1,user-scalable=0,viewport-fit=cover\" name=\"viewport\"/><link href=\"//abs.twimg.com\" rel=\"preconnect\"/><link href=\"//abs.twimg.com\" rel=\"dns-prefetch\"/><link href=\"//api.twitter.com\" rel=\"preconnect\"/><link href=\"//api.twitter.com\" rel=\"dns-prefetch\"/><link href=\"//pbs.twimg.com\" rel=\"preconnect\"/><link href=\"//pbs.twimg.com\" rel=\"dns-prefetch\"/><link href=\"//t.co\" rel=\"preconnect\"/><link href=\"//t.co\" rel=\"dns-prefetch\"/><link href=\"//video.twimg.com\" rel=\"preconnect\"/><link href=\"//video.twimg.com\" rel=\"dns-prefetch\"/><link as=\"script\" crossorigin=\"anonymous\" href=\"https://abs.twimg.com/responsive-web/client-web-legacy/feature-switch-manifest.aa6c1119.js\" nonce=\"YmExNDEzNzItY2UyYy00MTc0LTgzNzItYWJkOGI5NTkzZjdi\" rel=\"preload\"/><link as=\"script\" crossorigin=\"anonymous\" href=\"https://abs.twimg.com/responsive-web/client-web-legacy/polyfills.c7dfc719.js\" nonce=\"YmExNDEzNzItY2UyYy00MTc0LTgzNzItYWJkOGI5NTkzZjdi\" rel=\"preload\"/><link as=\"script\" crossorigin=\"anonymous\" href=\"https://abs.twimg.com/responsive-web/client-web-legacy/vendor.d9a7d629.js\" nonce=\"YmExNDEzNzItY2UyYy00MTc0LTgzNzItYWJkOGI5NTkzZjdi\" rel=\"preload\"/><link as=\"script\" crossorigin=\"anonymous\" href=\"https://abs.twimg.com/responsive-web/client-web-legacy/i18n/en.675f83d9.js\" nonce=\"YmExNDEzNzItY2UyYy00MTc0LTgzNzItYWJkOGI5NTkzZjdi\" rel=\"preload\"/><link as=\"script\" crossorigin=\"anonymous\" href=\"https://abs.twimg.com/responsive-web/client-web-legacy/main.75f983c9.js\" nonce=\"YmExNDEzNzItY2UyYy00MTc0LTgzNzItYWJkOGI5NTkzZjdi\" rel=\"preload\"/><meta content=\"2231777543\" property=\"fb:app_id\"/>\n",
       "<meta content=\"Twitter\" property=\"og:site_name\"/><meta content=\"acYOOcR5z6puMzLn6hLDZI1nNHXPxt57OIstz1vnCV0\" name=\"google-site-verification\"/><meta content=\"x6sdcc8b5ju3bh8nbm59eswogvg6t1\" name=\"facebook-domain-verification\"/><meta content=\"https://twitter3e4tixl4xyajtrzo62zg5vztmjuricljdp2c5kshju4avyoid.onion/\" http-equiv=\"onion-location\"/><link crossorigin=\"use-credentials\" href=\"/manifest.json\" rel=\"manifest\"/><link href=\"https://twitter.com/elonmusk\" hreflang=\"x-default\" rel=\"alternate\"/><link href=\"https://twitter.com/elonmusk?lang=en\" hreflang=\"en\" rel=\"alternate\"/><link href=\"https://twitter.com/elonmusk?lang=ar\" hreflang=\"ar\" rel=\"alternate\"/><link href=\"https://twitter.com/elonmusk?lang=ar-x-fm\" hreflang=\"ar-x-fm\" rel=\"alternate\"/><link href=\"https://twitter.com/elonmusk?lang=bg\" hreflang=\"bg\" rel=\"alternate\"/><link href=\"https://twitter.com/elonmusk?lang=bn\" hreflang=\"bn\" rel=\"alternate\"/><link href=\"https://twitter.com/elonmusk?lang=ca\" hreflang=\"ca\" rel=\"alternate\"/><link href=\"https://twitter.com/elonmusk?lang=cs\" hreflang=\"cs\" rel=\"alternate\"/><link href=\"https://twitter.com/elonmusk?lang=da\" hreflang=\"da\" rel=\"alternate\"/><link href=\"https://twitter.com/elonmusk?lang=de\" hreflang=\"de\" rel=\"alternate\"/><link href=\"https://twitter.com/elonmusk?lang=el\" hreflang=\"el\" rel=\"alternate\"/><link href=\"https://twitter.com/elonmusk?lang=en-GB\" hreflang=\"en-GB\" rel=\"alternate\"/><link href=\"https://twitter.com/elonmusk?lang=es\" hreflang=\"es\" rel=\"alternate\"/><link href=\"https://twitter.com/elonmusk?lang=eu\" hreflang=\"eu\" rel=\"alternate\"/><link href=\"https://twitter.com/elonmusk?lang=fa\" hreflang=\"fa\" rel=\"alternate\"/><link href=\"https://twitter.com/elonmusk?lang=fi\" hreflang=\"fi\" rel=\"alternate\"/><link href=\"https://twitter.com/elonmusk?lang=fil\" hreflang=\"fil\" rel=\"alternate\"/><link href=\"https://twitter.com/elonmusk?lang=fr\" hreflang=\"fr\" rel=\"alternate\"/><link href=\"https://twitter.com/elonmusk?lang=ga\" hreflang=\"ga\" rel=\"alternate\"/><link href=\"https://twitter.com/elonmusk?lang=gl\" hreflang=\"gl\" rel=\"alternate\"/><link href=\"https://twitter.com/elonmusk?lang=gu\" hreflang=\"gu\" rel=\"alternate\"/><link href=\"https://twitter.com/elonmusk?lang=ha\" hreflang=\"ha\" rel=\"alternate\"/><link href=\"https://twitter.com/elonmusk?lang=he\" hreflang=\"he\" rel=\"alternate\"/><link href=\"https://twitter.com/elonmusk?lang=hi\" hreflang=\"hi\" rel=\"alternate\"/><link href=\"https://twitter.com/elonmusk?lang=hr\" hreflang=\"hr\" rel=\"alternate\"/><link href=\"https://twitter.com/elonmusk?lang=hu\" hreflang=\"hu\" rel=\"alternate\"/><link href=\"https://twitter.com/elonmusk?lang=id\" hreflang=\"id\" rel=\"alternate\"/><link href=\"https://twitter.com/elonmusk?lang=ig\" hreflang=\"ig\" rel=\"alternate\"/><link href=\"https://twitter.com/elonmusk?lang=it\" hreflang=\"it\" rel=\"alternate\"/><link href=\"https://twitter.com/elonmusk?lang=ja\" hreflang=\"ja\" rel=\"alternate\"/><link href=\"https://twitter.com/elonmusk?lang=kn\" hreflang=\"kn\" rel=\"alternate\"/><link href=\"https://twitter.com/elonmusk?lang=ko\" hreflang=\"ko\" rel=\"alternate\"/><link href=\"https://twitter.com/elonmusk?lang=mr\" hreflang=\"mr\" rel=\"alternate\"/><link href=\"https://twitter.com/elonmusk?lang=ms\" hreflang=\"ms\" rel=\"alternate\"/><link href=\"https://twitter.com/elonmusk?lang=nb\" hreflang=\"nb\" rel=\"alternate\"/><link href=\"https://twitter.com/elonmusk?lang=nl\" hreflang=\"nl\" rel=\"alternate\"/><link href=\"https://twitter.com/elonmusk?lang=pl\" hreflang=\"pl\" rel=\"alternate\"/><link href=\"https://twitter.com/elonmusk?lang=pt\" hreflang=\"pt\" rel=\"alternate\"/><link href=\"https://twitter.com/elonmusk?lang=ro\" hreflang=\"ro\" rel=\"alternate\"/><link href=\"https://twitter.com/elonmusk?lang=ru\" hreflang=\"ru\" rel=\"alternate\"/><link href=\"https://twitter.com/elonmusk?lang=sk\" hreflang=\"sk\" rel=\"alternate\"/><link href=\"https://twitter.com/elonmusk?lang=sr\" hreflang=\"sr\" rel=\"alternate\"/><link href=\"https://twitter.com/elonmusk?lang=sv\" hreflang=\"sv\" rel=\"alternate\"/><link href=\"https://twitter.com/elonmusk?lang=ta\" hreflang=\"ta\" rel=\"alternate\"/><link href=\"https://twitter.com/elonmusk?lang=th\" hreflang=\"th\" rel=\"alternate\"/><link href=\"https://twitter.com/elonmusk?lang=tr\" hreflang=\"tr\" rel=\"alternate\"/><link href=\"https://twitter.com/elonmusk?lang=uk\" hreflang=\"uk\" rel=\"alternate\"/><link href=\"https://twitter.com/elonmusk?lang=ur\" hreflang=\"ur\" rel=\"alternate\"/><link href=\"https://twitter.com/elonmusk?lang=vi\" hreflang=\"vi\" rel=\"alternate\"/><link href=\"https://twitter.com/elonmusk?lang=yo\" hreflang=\"yo\" rel=\"alternate\"/><link href=\"https://twitter.com/elonmusk?lang=zh\" hreflang=\"zh\" rel=\"alternate\"/><link href=\"https://twitter.com/elonmusk?lang=zh-Hant\" hreflang=\"zh-Hant\" rel=\"alternate\"/><link href=\"https://twitter.com/elonmusk\" rel=\"canonical\"/><link href=\"/opensearch.xml\" rel=\"search\" title=\"Twitter\" type=\"application/opensearchdescription+xml\"/><link color=\"#1D9BF0\" href=\"https://abs.twimg.com/responsive-web/client-web-legacy/icon-svg.168b89d9.svg\" rel=\"mask-icon\" sizes=\"any\"/><link href=\"//abs.twimg.com/favicons/twitter.2.ico\" rel=\"shortcut icon\"/><link href=\"https://abs.twimg.com/responsive-web/client-web-legacy/icon-ios.b1fc7279.png\" rel=\"apple-touch-icon\" sizes=\"192x192\"><meta content=\"yes\" name=\"mobile-web-app-capable\"/>\n",
       "<meta content=\"Twitter\" name=\"apple-mobile-web-app-title\"/>\n",
       "<meta content=\"white\" name=\"apple-mobile-web-app-status-bar-style\"/>\n",
       "<meta content=\"#ffffff\" name=\"theme-color\"/>\n",
       "<script type=\"application/ld+json\">{\"@context\":\"https://schema.org\",\"@type\":\"WebSite\",\"url\":\"https://twitter.com/\",\"potentialAction\":{\"@type\":\"SearchAction\",\"query-input\":\"required name=search_term_string\",\"target\":{\"@type\":\"EntryPoint\",\"urlTemplate\":\"https://twitter.com/search?q={search_term_string}&ref_src=twcamp%5Eseo_searchbox%7Ctwsrc%5Eseo\"}}}</script><meta content=\"AlpCmb40F5ZjDi9ZYe+wnr/V8MF+XmY41K4qUhoq+2mbepJTNd3q4CRqlACfnythEPZqcjryfAS1+ExS0FFRcA8AAABmeyJvcmlnaW4iOiJodHRwczovL3R3aXR0ZXIuY29tOjQ0MyIsImZlYXR1cmUiOiJMYXVuY2ggSGFuZGxlciIsImV4cGlyeSI6MTY1NTI1MTE5OSwiaXNTdWJkb21haW4iOnRydWV9\" http-equiv=\"origin-trial\"/><style>html,body{height: 100%;}</style><style id=\"react-native-stylesheet\">[stylesheet-group=\"0\"]{}\n",
       "html{-ms-text-size-adjust:100%;-webkit-text-size-adjust:100%;-webkit-tap-highlight-color:rgba(0,0,0,0);}\n",
       "body{margin:0;}\n",
       "button::-moz-focus-inner,input::-moz-focus-inner{border:0;padding:0;}\n",
       "input::-webkit-search-cancel-button,input::-webkit-search-decoration,input::-webkit-search-results-button,input::-webkit-search-results-decoration{display:none;}\n",
       "[stylesheet-group=\"0.1\"]{}\n",
       ":focus:not([data-focusvisible-polyfill]){outline: none;}\n",
       "[stylesheet-group=\"1\"]{}\n",
       ".css-1dbjc4n{-ms-flex-align:stretch;-ms-flex-direction:column;-ms-flex-negative:0;-ms-flex-preferred-size:auto;-webkit-align-items:stretch;-webkit-box-align:stretch;-webkit-box-direction:normal;-webkit-box-orient:vertical;-webkit-flex-basis:auto;-webkit-flex-direction:column;-webkit-flex-shrink:0;align-items:stretch;border:0 solid black;box-sizing:border-box;display:-webkit-box;display:-moz-box;display:-ms-flexbox;display:-webkit-flex;display:flex;flex-basis:auto;flex-direction:column;flex-shrink:0;margin-bottom:0px;margin-left:0px;margin-right:0px;margin-top:0px;min-height:0px;min-width:0px;padding-bottom:0px;padding-left:0px;padding-right:0px;padding-top:0px;position:relative;z-index:0;}\n",
       ".css-901oao{border:0 solid black;box-sizing:border-box;color:rgba(0,0,0,1.00);display:inline;font:14px -apple-system,BlinkMacSystemFont,\"Segoe UI\",Roboto,Helvetica,Arial,sans-serif;margin-bottom:0px;margin-left:0px;margin-right:0px;margin-top:0px;padding-bottom:0px;padding-left:0px;padding-right:0px;padding-top:0px;white-space:pre-wrap;word-wrap:break-word;}\n",
       ".css-16my406{color:inherit;font:inherit;white-space:inherit;}\n",
       "[stylesheet-group=\"2\"]{}\n",
       ".r-13awgt0{-ms-flex:1 1 0%;-webkit-flex:1;flex:1;}\n",
       ".r-4qtqp9{display:inline-block;}\n",
       ".r-ywje51{margin-bottom:auto;margin-left:auto;margin-right:auto;margin-top:auto;}\n",
       ".r-hvic4v{display:none;}\n",
       ".r-1adg3ll{display:block;}\n",
       "[stylesheet-group=\"2.2\"]{}\n",
       ".r-12vffkv>*{pointer-events:auto;}\n",
       ".r-12vffkv{pointer-events:none!important;}\n",
       ".r-14lw9ot{background-color:rgba(255,255,255,1.00);}\n",
       ".r-1p0dtai{bottom:0px;}\n",
       ".r-1d2f490{left:0px;}\n",
       ".r-1xcajam{position:fixed;}\n",
       ".r-zchlnj{right:0px;}\n",
       ".r-ipm5af{top:0px;}\n",
       ".r-yyyyoo{fill:currentcolor;}\n",
       ".r-1xvli5t{height:1.25em;}\n",
       ".r-dnmrzs{max-width:100%;}\n",
       ".r-bnwqim{position:relative;}\n",
       ".r-1plcrui{vertical-align:text-bottom;}\n",
       ".r-lrvibr{-moz-user-select:none;-ms-user-select:none;-webkit-user-select:none;user-select:none;}\n",
       ".r-13gxpu9{color:rgba(29,161,242,1.00);}\n",
       ".r-wy61xf{height:72px;}\n",
       ".r-u8s1d{position:absolute;}\n",
       ".r-1blnp2b{width:72px;}\n",
       ".r-1ykxob0{top:60%;}\n",
       ".r-q4m81j{text-align:center;}\n",
       ".r-bcqeeo{min-width:0px;}\n",
       ".r-qvutc0{word-wrap:break-word;}\n",
       ".r-rjixqe{line-height:20px;}\n",
       ".r-1qd0xha{font-family:-apple-system,BlinkMacSystemFont,\"Segoe UI\",Roboto,Helvetica,Arial,sans-serif;}\n",
       ".r-a023e6{font-size:15px;}\n",
       ".r-16dba41{font-weight:400;}\n",
       ".r-poiln3{font-family:inherit;}</style></link></head>\n",
       "<body style=\"background-color: #FFFFFF;\">\n",
       "<noscript>\n",
       "<style>\n",
       "    body {\n",
       "      -ms-overflow-style: scrollbar;\n",
       "      overflow-y: scroll;\n",
       "      overscroll-behavior-y: none;\n",
       "    }\n",
       "\n",
       "    .errorContainer {\n",
       "      background-color: #FFF;\n",
       "      color: #0F1419;\n",
       "      max-width: 600px;\n",
       "      margin: 0 auto;\n",
       "      padding: 10%;\n",
       "      font-family: Helvetica, sans-serif;\n",
       "      font-size: 16px;\n",
       "    }\n",
       "\n",
       "    .errorButton {\n",
       "      margin: 3em 0;\n",
       "    }\n",
       "\n",
       "    .errorButton a {\n",
       "      background: #1DA1F2;\n",
       "      border-radius: 2.5em;\n",
       "      color: white;\n",
       "      padding: 1em 2em;\n",
       "      text-decoration: none;\n",
       "    }\n",
       "\n",
       "    .errorButton a:hover,\n",
       "    .errorButton a:focus {\n",
       "      background: rgb(26, 145, 218);\n",
       "    }\n",
       "\n",
       "    .errorFooter {\n",
       "      color: #657786;\n",
       "      font-size: 80%;\n",
       "      line-height: 1.5;\n",
       "      padding: 1em 0;\n",
       "    }\n",
       "\n",
       "    .errorFooter a,\n",
       "    .errorFooter a:visited {\n",
       "      color: #657786;\n",
       "      text-decoration: none;\n",
       "      padding-right: 1em;\n",
       "    }\n",
       "\n",
       "    .errorFooter a:hover,\n",
       "    .errorFooter a:active {\n",
       "      text-decoration: underline;\n",
       "    }\n",
       "\n",
       "      #placeholder,\n",
       "      #react-root {\n",
       "        display: none !important;\n",
       "      }\n",
       "      body {\n",
       "        background-color: #FFF !important;\n",
       "      }\n",
       "    </style>\n",
       "<div class=\"errorContainer\">\n",
       "<img alt=\"Twitter\" height=\"38\" src=\"https://abs.twimg.com/errors/logo46x38.png\" srcset=\"https://abs.twimg.com/errors/logo46x38.png 1x, https://abs.twimg.com/errors/logo46x38@2x.png 2x\" width=\"46\"/>\n",
       "<h1>JavaScript is not available.</h1>\n",
       "<p>We’ve detected that JavaScript is disabled in this browser. Please enable JavaScript or switch to a supported browser to continue using twitter.com. You can see a list of supported browsers in our Help Center.</p>\n",
       "<p class=\"errorButton\"><a href=\"https://help.twitter.com/using-twitter/twitter-supported-browsers\">Help Center</a></p>\n",
       "<p class=\"errorFooter\">\n",
       "<a href=\"https://twitter.com/tos\">Terms of Service</a>\n",
       "<a href=\"https://twitter.com/privacy\">Privacy Policy</a>\n",
       "<a href=\"https://support.twitter.com/articles/20170514\">Cookie Policy</a>\n",
       "<a href=\"https://legal.twitter.com/imprint.html\">Imprint</a>\n",
       "<a href=\"https://business.twitter.com/en/help/troubleshooting/how-twitter-ads-work.html?ref=web-twc-ao-gbl-adsinfo&amp;utm_source=twc&amp;utm_medium=web&amp;utm_campaign=ao&amp;utm_content=adsinfo\">Ads info</a>\n",
       "      © 2022 Twitter, Inc.\n",
       "    </p>\n",
       "</div>\n",
       "</noscript><div id=\"react-root\" style=\"height:100%;display:flex;\"><div class=\"css-1dbjc4n r-13awgt0 r-12vffkv\"><div class=\"css-1dbjc4n r-13awgt0 r-12vffkv\"><style>\n",
       "@media (prefers-color-scheme: dark) {\n",
       "  #placeholder {\n",
       "    background-color: #000000\n",
       "  }\n",
       "}\n",
       "</style><div aria-label=\"Loading…\" class=\"css-1dbjc4n r-14lw9ot r-1p0dtai r-1d2f490 r-1xcajam r-zchlnj r-ipm5af\" id=\"placeholder\"><svg aria-hidden=\"true\" class=\"r-1p0dtai r-13gxpu9 r-4qtqp9 r-yyyyoo r-wy61xf r-1d2f490 r-ywje51 r-dnmrzs r-u8s1d r-zchlnj r-1plcrui r-ipm5af r-lrvibr r-1blnp2b\" viewbox=\"0 0 24 24\"><g><path d=\"M23.643 4.937c-.835.37-1.732.62-2.675.733.962-.576 1.7-1.49 2.048-2.578-.9.534-1.897.922-2.958 1.13-.85-.904-2.06-1.47-3.4-1.47-2.572 0-4.658 2.086-4.658 4.66 0 .364.042.718.12 1.06-3.873-.195-7.304-2.05-9.602-4.868-.4.69-.63 1.49-.63 2.342 0 1.616.823 3.043 2.072 3.878-.764-.025-1.482-.234-2.11-.583v.06c0 2.257 1.605 4.14 3.737 4.568-.392.106-.803.162-1.227.162-.3 0-.593-.028-.877-.082.593 1.85 2.313 3.198 4.352 3.234-1.595 1.25-3.604 1.995-5.786 1.995-.376 0-.747-.022-1.112-.065 2.062 1.323 4.51 2.093 7.14 2.093 8.57 0 13.255-7.098 13.255-13.254 0-.2-.005-.402-.014-.602.91-.658 1.7-1.477 2.323-2.41z\"></path></g></svg></div><div class=\"css-1dbjc4n r-hvic4v r-1d2f490 r-1xcajam r-zchlnj r-1ykxob0\" id=\"ScriptLoadFailure\"><form action=\"\" method=\"GET\"><div class=\"css-1dbjc4n r-1adg3ll r-q4m81j\"><div class=\"css-901oao r-1qd0xha r-a023e6 r-16dba41 r-rjixqe r-bcqeeo r-qvutc0\" dir=\"auto\" style=\"color:rgba(15,20,25,1.00)\"><span class=\"css-901oao css-16my406 r-poiln3 r-bcqeeo r-qvutc0\">Something went wrong, but don’t fret — let’s give it another shot.</span></div><br/><input name=\"failedScript\" type=\"hidden\" value=\"\"/><input type=\"submit\" value=\"Try again\"/></div></form></div></div></div></div><script charset=\"utf-8\" nonce=\"YmExNDEzNzItY2UyYy00MTc0LTgzNzItYWJkOGI5NTkzZjdi\" type=\"text/javascript\">window.__INITIAL_STATE__={\"optimist\":[],\"entities\":{\"broadcasts\":{\"entities\":{},\"errors\":{},\"fetchStatus\":{}},\"cards\":{\"entities\":{},\"errors\":{},\"fetchStatus\":{}},\"commerceItems\":{\"entities\":{},\"errors\":{},\"fetchStatus\":{}},\"communities\":{\"entities\":{},\"errors\":{},\"fetchStatus\":{}},\"conversations\":{\"entities\":{},\"errors\":{},\"fetchStatus\":{}},\"entries\":{\"entities\":{},\"errors\":{},\"fetchStatus\":{}},\"lists\":{\"entities\":{},\"errors\":{},\"fetchStatus\":{}},\"moments\":{\"entities\":{},\"errors\":{},\"fetchStatus\":{}},\"topics\":{\"entities\":{},\"errors\":{},\"fetchStatus\":{}},\"tweets\":{\"entities\":{},\"errors\":{},\"fetchStatus\":{}},\"twitterArticles\":{\"entities\":{},\"errors\":{},\"fetchStatus\":{}},\"trustedFriends\":{\"entities\":{},\"errors\":{},\"fetchStatus\":{}},\"userPresence\":{\"entities\":{},\"errors\":{},\"fetchStatus\":{}},\"userCommunityInviteActionResult\":{\"entities\":{},\"errors\":{},\"fetchStatus\":{}},\"users\":{\"entities\":{},\"errors\":{},\"fetchStatus\":{}},\"userCommunityRoleRelationship\":{\"entities\":{},\"errors\":{},\"fetchStatus\":{}}},\"featureSwitch\":{\"debug\":{},\"defaultConfig\":{\"2fa_temporary_password_enabled\":{\"value\":false},\"Arkose_rweb_hosted_page\":{\"value\":true},\"Arkose_use_invisible_challenge_key\":{\"value\":false},\"account_2fa_standalone_security_key_enabled\":{\"value\":true},\"account_country_setting_countries_whitelist\":{\"value\":[\"ad\",\"ae\",\"af\",\"ag\",\"ai\",\"al\",\"am\",\"ao\",\"ar\",\"as\",\"at\",\"au\",\"aw\",\"ax\",\"az\",\"ba\",\"bb\",\"bd\",\"be\",\"bf\",\"bg\",\"bh\",\"bi\",\"bj\",\"bl\",\"bm\",\"bn\",\"bo\",\"bq\",\"br\",\"bs\",\"bt\",\"bv\",\"bw\",\"by\",\"bz\",\"ca\",\"cc\",\"cd\",\"cf\",\"cg\",\"ch\",\"ci\",\"ck\",\"cl\",\"cm\",\"co\",\"cr\",\"cu\",\"cv\",\"cw\",\"cx\",\"cy\",\"cz\",\"de\",\"dj\",\"dk\",\"dm\",\"do\",\"dz\",\"ec\",\"ee\",\"eg\",\"er\",\"es\",\"et\",\"fi\",\"fj\",\"fk\",\"fm\",\"fo\",\"fr\",\"ga\",\"gb\",\"gd\",\"ge\",\"gf\",\"gg\",\"gh\",\"gi\",\"gl\",\"gm\",\"gn\",\"gp\",\"gq\",\"gr\",\"gs\",\"gt\",\"gu\",\"gw\",\"gy\",\"hk\",\"hn\",\"hr\",\"ht\",\"hu\",\"id\",\"ie\",\"il\",\"im\",\"in\",\"io\",\"iq\",\"ir\",\"is\",\"it\",\"je\",\"jm\",\"jo\",\"jp\",\"ke\",\"kg\",\"kh\",\"ki\",\"km\",\"kn\",\"kr\",\"kw\",\"ky\",\"kz\",\"la\",\"lb\",\"lc\",\"li\",\"lk\",\"lr\",\"ls\",\"lt\",\"lu\",\"lv\",\"ly\",\"ma\",\"mc\",\"md\",\"me\",\"mf\",\"mg\",\"mh\",\"mk\",\"ml\",\"mn\",\"mo\",\"mp\",\"mq\",\"mr\",\"ms\",\"mt\",\"mu\",\"mv\",\"mw\",\"mx\",\"my\",\"mz\",\"na\",\"nc\",\"ne\",\"nf\",\"ng\",\"ni\",\"nl\",\"no\",\"np\",\"nr\",\"nu\",\"nz\",\"om\",\"pa\",\"pe\",\"pf\",\"pg\",\"ph\",\"pk\",\"pl\",\"pm\",\"pn\",\"pr\",\"ps\",\"pt\",\"pw\",\"py\",\"qa\",\"re\",\"ro\",\"rs\",\"ru\",\"rw\",\"sa\",\"sb\",\"sc\",\"se\",\"sg\",\"sh\",\"si\",\"sk\",\"sl\",\"sm\",\"sn\",\"so\",\"sr\",\"st\",\"sv\",\"sx\",\"sz\",\"tc\",\"td\",\"tf\",\"tg\",\"th\",\"tj\",\"tk\",\"tl\",\"tm\",\"tn\",\"to\",\"tr\",\"tt\",\"tv\",\"tw\",\"tz\",\"ua\",\"ug\",\"us\",\"uy\",\"uz\",\"va\",\"vc\",\"ve\",\"vi\",\"vn\",\"vu\",\"wf\",\"ws\",\"xk\",\"ye\",\"yt\",\"za\",\"zm\",\"zw\"]},\"account_session_console_from_graphql_enabled\":{\"value\":true},\"account_taxonomy_automated_label_enabled\":{\"value\":true},\"account_taxonomy_automation_opt_in_enabled\":{\"value\":false},\"ads_spacing_client_fallback_minimum_spacing\":{\"value\":3},\"arkose_challenge_lo_web_notification_dev\":{\"value\":\"BF5FA6C8-9668-4AF9-AFA2-E362F56E5B71\"},\"arkose_challenge_lo_web_notification_mobile_prod\":{\"value\":\"6A2FD110-7C1A-47CD-82EE-D01FFB4810D7\"},\"arkose_challenge_lo_web_notification_prod\":{\"value\":\"50706BFE-942C-4EEC-B9AD-03F7CD268FB1\"},\"arkose_challenge_login_web_devel\":{\"value\":\"DF58DD3B-DFCC-4502-91FA-EDC0DC385CFF\"},\"arkose_challenge_login_web_prod\":{\"value\":\"2F4F0B28-BC94-4271-8AD7-A51662E3C91C\"},\"arkose_challenge_open_app_dev\":{\"value\":\"560C66A3-C8EB-4D11-BE53-A8232734AA62\"},\"arkose_challenge_open_app_prod\":{\"value\":\"6E8D3D6E-30D4-45F1-9838-BA3D9651AAA1\"},\"arkose_challenge_signup_mobile_dev\":{\"value\":\"006B5E87-7497-403E-9E0C-8FFBAAC6FA67\"},\"arkose_challenge_signup_mobile_prod\":{\"value\":\"867D55F2-24FD-4C56-AB6D-589EDAF5E7C5\"},\"arkose_challenge_signup_web_dev\":{\"value\":\"DF58DD3B-DFCC-4502-91FA-EDC0DC385CFF\"},\"arkose_challenge_signup_web_prod\":{\"value\":\"2CB16598-CB82-4CF7-B332-5990DB66F3AB\"},\"arkose_challenge_transparent_signup_dev\":{\"value\":\"6627C16B-DA60-47A5-85F7-CFF23BD2BE69\"},\"arkose_challenge_transparent_signup_prod\":{\"value\":\"4CB8C8B0-40FF-439C-9D0D-9A389ADA18CB\"},\"author_moderated_replies_urt_container_enabled\":{\"value\":false},\"branded_like_preview_enabled\":{\"value\":false},\"c9s_auto_collapse_community_detail_header_enabled\":{\"value\":true},\"c9s_communities_search_enabled\":{\"value\":true},\"c9s_community_composer_hashtag_suggestions_enabled\":{\"value\":false},\"c9s_community_creation_enabled\":{\"value\":true},\"c9s_community_creation_form_membership_type_enabled\":{\"value\":true},\"c9s_community_creation_setup_checklist_enabled\":{\"value\":true},\"c9s_community_deletion_enabled\":{\"value\":true},\"c9s_community_hashtags_carousel_enabled\":{\"value\":false},\"c9s_community_hashtags_enabled\":{\"value\":true},\"c9s_edit_moderators_enabled\":{\"value\":true},\"c9s_enabled\":{\"value\":true},\"c9s_highlight_tweet_enabled\":{\"value\":true},\"c9s_list_members_action_api_enabled\":{\"value\":false},\"c9s_logged_out_access_enabled\":{\"value\":true},\"c9s_max_community_description_length\":{\"value\":160},\"c9s_max_community_name_length\":{\"value\":30},\"c9s_max_rule_count\":{\"value\":10},\"c9s_max_rule_description_length\":{\"value\":160},\"c9s_max_rule_name_length\":{\"value\":60},\"c9s_members_list_search_enabled\":{\"value\":true},\"c9s_moderation_enabled\":{\"value\":true},\"c9s_nav_list_activity_details_enabled\":{\"value\":false},\"c9s_notification_settings_enabled\":{\"value\":true},\"c9s_notification_settings_pinned_tweet_enabled\":{\"value\":true},\"c9s_participation_enabled\":{\"value\":true},\"c9s_poll_creation_enabled\":{\"value\":true},\"c9s_remove_member_enabled\":{\"value\":true},\"c9s_remove_member_list_enabled\":{\"value\":true},\"c9s_report_community_enabled\":{\"value\":false},\"c9s_rule_management_enabled\":{\"value\":true},\"c9s_spotlight_consumption_enabled\":{\"value\":true},\"c9s_spotlight_creation_enabled\":{\"value\":false},\"c9s_ssr_enabled\":{\"value\":false},\"c9s_tab_visibility\":{\"value\":\"members_only\"},\"c9s_timelines_default_selection\":{\"value\":\"ranked\"},\"c9s_timelines_ranking_enabled\":{\"value\":false},\"c9s_unread_indicator_global_enabled\":{\"value\":true},\"c9s_unread_indicator_mod_actions_enabled\":{\"value\":true},\"c9s_unread_indicator_tweets_enabled\":{\"value\":true},\"card_compose_preview_retry_after_ms\":{\"value\":3000},\"card_compose_preview_retry_max\":{\"value\":5},\"content_language_setting_enabled\":{\"value\":true},\"conversation_controls_change_enabled\":{\"value\":true},\"conversation_controls_change_tooltip_enabled\":{\"value\":true},\"conversation_controls_limited_replies_consumption_configuration\":{\"value\":\"no_reply\"},\"conversation_controls_limited_replies_creation_enabled\":{\"value\":true},\"conversation_controls_persistence_enabled\":{\"value\":true},\"conversational_safety_heads_up_treatment_A_enabled\":{\"value\":\"\"},\"dash_region_specific_de_and_tr_media_transparency_items_enabled\":{\"value\":false},\"dash_region_specific_de_media_transparency_items_enabled\":{\"value\":false},\"direct_messages_incremental_holdback_2022h1\":{\"value\":true},\"dm_conversation_labels_max_pinned_count\":{\"value\":6},\"dm_conversation_labels_pinned_education_enabled\":{\"value\":true},\"dm_conversation_labels_pinned_enabled\":{\"value\":true},\"dm_conversations_nsfw_media_filter_enabled\":{\"value\":false},\"dm_education_flags_prompt\":{\"value\":false},\"dm_evolution_conversation_read_enabled\":{\"value\":false},\"dm_evolution_enabled\":{\"value\":true},\"dm_evolution_inbox_primary_enabled\":{\"value\":false},\"dm_evolution_inbox_secondary_enabled\":{\"value\":false},\"dm_evolution_inbox_tertiary_enabled\":{\"value\":false},\"dm_evolution_message_creation_enabled\":{\"value\":true},\"dm_evolution_responsive_web_early_bird_only_switch\":{\"value\":false},\"dm_inbox_search_groups_bucket_size\":{\"value\":5},\"dm_inbox_search_max_recent_searches_stored\":{\"value\":5},\"dm_inbox_search_message_attachment_previews_enabled\":{\"value\":true},\"dm_inbox_search_message_results_enabled\":{\"value\":true},\"dm_inbox_search_messages_bucket_size\":{\"value\":5},\"dm_inbox_search_modular_results_enabled\":{\"value\":true},\"dm_inbox_search_people_bucket_size\":{\"value\":5},\"dm_inbox_search_query_highlighting_conversation_results_enabled\":{\"value\":true},\"dm_inbox_search_query_highlighting_message_results_enabled\":{\"value\":true},\"dm_reactions_config_active_reactions\":{\"value\":[\"😂:funny\",\"😲:surprised\",\"😢:sad\",\"❤️:like\",\"🔥:excited\",\"👍:agree\",\"👎:disagree\"]},\"dm_reactions_config_inactive_reactions\":{\"value\":[\"😠:angry\",\"😷:mask\"]},\"dm_share_sheet_send_individually_enabled\":{\"value\":true},\"dm_share_sheet_send_individually_max_count\":{\"value\":20},\"dm_vdl_chat_p0_enabled\":{\"value\":true},\"dm_vdl_enabled\":{\"value\":true},\"dm_vdl_inbox_p0_enabled\":{\"value\":true},\"dm_voice_rendering_enabled\":{\"value\":true},\"dont_mention_me_enabled\":{\"value\":true},\"dont_mention_me_mentions_tab_education_enabled\":{\"value\":true},\"dont_mention_me_view_api_enabled\":{\"value\":true},\"ecd_dispute_form_link_enabled\":{\"value\":true},\"employee_role\":{\"value\":false},\"enable_label_appealing_misinfo_enabled\":{\"value\":false},\"enable_label_appealing_sensitive_content_enabled\":{\"value\":false},\"explore_relaunch_enable_immersive_web\":{\"value\":false},\"explore_relaunch_enable_immersive_web_navigation_button\":{\"value\":false},\"explore_relaunch_enable_immersive_web_tap_to_hide\":{\"value\":false},\"explore_relaunch_enabled\":{\"value\":false},\"explore_relaunch_onboarding_bar_show_count\":{\"value\":3},\"explore_relaunch_updated_scrubber_position\":{\"value\":false},\"focused_timeline_actions_onboarding_likes\":{\"value\":3},\"follow_nudge_conversation_enabled\":{\"value\":false},\"follow_nudge_search_enabled\":{\"value\":false},\"global_mention_settings_enabled\":{\"value\":false},\"graphql_composer_and_dm_card_previews_enabled\":{\"value\":false},\"graphql_is_translatable_rweb_tweet_is_translatable_enabled\":{\"value\":true},\"graphql_mutation_destroy_mode\":{\"value\":\"graphql_only\"},\"graphql_mutation_retweet_mode\":{\"value\":\"graphql_only\"},\"graphql_mutation_unretweet_mode\":{\"value\":\"graphql_only\"},\"graphql_mutation_update_mode\":{\"value\":\"graphql_only\"},\"graphql_timeline_v2_bookmark_timeline\":{\"value\":false},\"graphql_timeline_v2_query_threaded_conversation_with_injections\":{\"value\":true},\"graphql_timeline_v2_user_favorites_by_time_timeline\":{\"value\":true},\"graphql_timeline_v2_user_media_timeline\":{\"value\":true},\"graphql_timeline_v2_user_profile_timeline\":{\"value\":true},\"graphql_timeline_v2_user_profile_with_replies_timeline\":{\"value\":true},\"gryphon_hide_quick_promote\":{\"value\":false},\"gryphon_optout_in_settings\":{\"value\":false},\"guest_broadcasting_timeline_decorations_enabled\":{\"value\":false},\"hashflags_animation_like_button_enabled\":{\"value\":true},\"home_timeline_extended_reactivity_tweet_clicks_enabled\":{\"value\":false},\"home_timeline_extended_reactivity_tweet_clicks_fatigue\":{\"value\":5},\"home_timeline_extended_reactivity_tweet_clicks_trigger_seconds\":{\"value\":120},\"home_timeline_latest_timeline_switch_enabled\":{\"value\":true},\"home_timeline_like_reactivity_enabled\":{\"value\":true},\"home_timeline_like_reactivity_fatigue\":{\"value\":10},\"home_timeline_scribing_section_change_enabled\":{\"value\":false},\"home_timeline_spheres_detail_page_muting_enabled\":{\"value\":true},\"home_timeline_spheres_max_user_owned_or_subscribed_lists_count\":{\"value\":5},\"home_timeline_spheres_ranking_mode_control_enabled\":{\"value\":true},\"home_timeline_tweet_auto_inline_reply_enabled\":{\"value\":false},\"identity_verification_debadging_notification_enabled\":{\"value\":true},\"identity_verification_educational_prompt_enabled\":{\"value\":true},\"identity_verification_intake_enabled\":{\"value\":true},\"identity_verification_notable_demo_survey\":{\"value\":false},\"interactive_text_enabled\":{\"value\":true},\"linked_search_experiment\":{\"value\":false},\"live_event_docking_enabled\":{\"value\":true},\"live_event_interstitial_seen_cache_enabled\":{\"value\":true},\"live_event_multi_video_auto_advance_dock_enabled\":{\"value\":true},\"live_event_multi_video_auto_advance_enabled\":{\"value\":true},\"live_event_multi_video_auto_advance_fullscreen_enabled\":{\"value\":false},\"live_event_multi_video_auto_advance_transition_duration_seconds\":{\"value\":5},\"live_event_multi_video_enabled\":{\"value\":true},\"live_event_timeline_default_refresh_rate_interval_seconds\":{\"value\":30},\"live_event_timeline_minimum_refresh_rate_interval_seconds\":{\"value\":10},\"live_event_timeline_server_controlled_refresh_rate_enabled\":{\"value\":true},\"livepipeline_client_enabled\":{\"value\":true},\"livepipeline_tweetengagement_enabled\":{\"value\":true},\"longform_ad_free_articles_badging_enabled\":{\"value\":false},\"longform_reader_mode_view_in_reader_mode_entry_button_enabled\":{\"value\":false},\"longform_top_articles_friends_of_friends_enabled\":{\"value\":true},\"longform_top_articles_time_window_enabled\":{\"value\":true},\"machine_translation_holdback_logged_in\":{\"value\":false},\"machine_translation_holdback_logged_out\":{\"value\":false},\"media_edge_to_edge_content_enabled\":{\"value\":false},\"media_infra_play_icon_version_number\":{\"value\":\"playicon_v0\"},\"moment_annotations_enabled\":{\"value\":true},\"moments_new_share_variant_floating_action_button\":{\"value\":false},\"network_layer_503_backoff_mode\":{\"value\":\"host\"},\"ocf_2fa_enrollment_bouncer_enabled\":{\"value\":true},\"ocf_2fa_enrollment_enabled\":{\"value\":true},\"ocf_2fa_unenrollment_enabled\":{\"value\":true},\"onboarding_connect_tab_urt_graphql_enabled\":{\"value\":false},\"onboarding_project_uls_enabled\":{\"value\":false},\"papago_tweet_translation_from_korean_entity_protected\":{\"value\":false},\"papago_tweet_translation_from_korean_entity_protected_destinations\":{\"value\":[\"en\",\"ja\",\"zh\",\"zh-cn\",\"zh-Hans\",\"zh-tw\",\"zh-Hant\"]},\"papago_tweet_translation_from_korean_entity_unprotected\":{\"value\":false},\"papago_tweet_translation_from_korean_entity_unprotected_destinations\":{\"value\":[\"id\",\"es\",\"th\"]},\"papago_tweet_translation_to_korean\":{\"value\":false},\"papago_tweet_translation_to_korean_sources\":{\"value\":[\"en\",\"ja\"]},\"professional_launchpad_m1_enabled\":{\"value\":true},\"professional_launchpad_mobile_promotable_timeline\":{\"value\":false},\"professional_launchpad_upload_address_book\":{\"value\":true},\"profile_foundations_about_tab_enabled\":{\"value\":false},\"profile_foundations_about_tab_tooltip_enabled\":{\"value\":false},\"profile_foundations_header_fields_hidden\":{\"value\":false},\"profile_foundations_tweet_stats_enabled\":{\"value\":false},\"profile_foundations_tweet_stats_tweet_count\":{\"value\":false},\"profile_foundations_tweet_stats_tweet_frequency\":{\"value\":false},\"profile_foundations_tweet_stats_tweet_topics\":{\"value\":false},\"profile_navigation_likes_tab_prominence_enabled\":{\"value\":false},\"report_center_mvp_r1_enabled\":{\"value\":true},\"report_center_mvp_r2_enabled\":{\"value\":false},\"responsive_web_3rd_party_category_branch\":{\"value\":3},\"responsive_web_3rd_party_category_double_click\":{\"value\":3},\"responsive_web_3rd_party_category_external_referer\":{\"value\":3},\"responsive_web_3rd_party_category_ga\":{\"value\":3},\"responsive_web_3rd_party_category_google_platform\":{\"value\":2},\"responsive_web_3rd_party_category_google_recaptcha\":{\"value\":2},\"responsive_web_3rd_party_category_player_card\":{\"value\":3},\"responsive_web_3rd_party_category_sentry\":{\"value\":2},\"responsive_web_3rd_party_category_sign_in_with_apple\":{\"value\":2},\"responsive_web_account_access_language_lo_banners\":{\"value\":\"control\"},\"responsive_web_account_access_language_lo_splash_sidebar\":{\"value\":\"control\"},\"responsive_web_account_search_readability_enabled\":{\"value\":true},\"responsive_web_alt_svc\":{\"value\":false},\"responsive_web_alt_text_nudges_enabled\":{\"value\":true},\"responsive_web_alt_text_nudges_settings_enabled\":{\"value\":true},\"responsive_web_alt_text_translations_enabled\":{\"value\":true},\"responsive_web_api_transition_enabled\":{\"value\":true},\"responsive_web_article_nudge_enabled\":{\"value\":true},\"responsive_web_audio_space_ring_home_timeline\":{\"value\":false},\"responsive_web_author_labels_avatar_label_enabled\":{\"value\":false},\"responsive_web_author_labels_focal_label_enabled\":{\"value\":false},\"responsive_web_author_labels_handle_label_enabled\":{\"value\":false},\"responsive_web_auto_logout_multiaccount_enabled\":{\"value\":true},\"responsive_web_auto_logout_restrictedauthtoken_enabled\":{\"value\":true},\"responsive_web_auto_logout_twid_enabled\":{\"value\":true},\"responsive_web_behavioral_events_communities_enabled\":{\"value\":true},\"responsive_web_behavioral_events_enabled\":{\"value\":false},\"responsive_web_behavioral_events_home_enabled\":{\"value\":true},\"responsive_web_behavioral_events_htl_breadcrumbs\":{\"value\":true},\"responsive_web_behavioral_events_session_id_enabled\":{\"value\":true},\"responsive_web_behavioral_events_target_view_v2_enabled\":{\"value\":true},\"responsive_web_birdwatch_aliases_enabled\":{\"value\":true},\"responsive_web_birdwatch_appeals_enabled\":{\"value\":true},\"responsive_web_birdwatch_consumption_enabled\":{\"value\":false},\"responsive_web_birdwatch_contribution_enabled\":{\"value\":false},\"responsive_web_birdwatch_country_allowed\":{\"value\":false},\"responsive_web_birdwatch_deleted_notes_enabled\":{\"value\":true},\"responsive_web_birdwatch_earn_in_enabled\":{\"value\":true},\"responsive_web_birdwatch_earn_out_enabled\":{\"value\":true},\"responsive_web_birdwatch_hcomp_user\":{\"value\":false},\"responsive_web_birdwatch_history_enabled\":{\"value\":false},\"responsive_web_birdwatch_impressions_enabled\":{\"value\":false},\"responsive_web_birdwatch_new_note_submission_modal_enabled\":{\"value\":true},\"responsive_web_birdwatch_note_awards_enabled\":{\"value\":true},\"responsive_web_birdwatch_note_writing_enabled\":{\"value\":false},\"responsive_web_birdwatch_pivots_enabled\":{\"value\":false},\"responsive_web_birdwatch_profile_awards_enabled\":{\"value\":true},\"responsive_web_birdwatch_rating_crowd_enabled\":{\"value\":false},\"responsive_web_birdwatch_rating_mini_survey_enabled\":{\"value\":false},\"responsive_web_birdwatch_rating_participant_enabled\":{\"value\":false},\"responsive_web_birdwatch_ratings_m2_tags_enabled\":{\"value\":true},\"responsive_web_birdwatch_ratings_v2_enabled\":{\"value\":true},\"responsive_web_birdwatch_site_enabled\":{\"value\":true},\"responsive_web_birdwatch_traffic_lights_enabled\":{\"value\":true},\"responsive_web_branch_cpid_enabled\":{\"value\":false},\"responsive_web_branch_sdk_enabled\":{\"value\":true},\"responsive_web_captions_always_display_enabled\":{\"value\":false},\"responsive_web_captions_always_display_settings_enabled\":{\"value\":false},\"responsive_web_card_conversion_hoisted\":{\"value\":\"off\"},\"responsive_web_card_preconnect_enabled\":{\"value\":false},\"responsive_web_card_preload_mode\":{\"value\":false},\"responsive_web_carousel_v2_cards_non_safari_enabled\":{\"value\":false},\"responsive_web_carousel_v2_cards_safari_variant\":{\"value\":\"control\"},\"responsive_web_carousel_v2_media_detail_enabled\":{\"value\":false},\"responsive_web_cleanup_macaw_swift_indexed_db\":{\"value\":true},\"responsive_web_collection_ads_enabled\":{\"value\":true},\"responsive_web_commerce_shop_spotlight_enabled\":{\"value\":false},\"responsive_web_communities_slices_enabled\":{\"value\":true},\"responsive_web_composer_configurable_video_player_enabled\":{\"value\":false},\"responsive_web_continue_as_always_enabled\":{\"value\":false},\"responsive_web_continue_as_param_enabled\":{\"value\":true},\"responsive_web_convert_card_video_to_gif_enabled\":{\"value\":false},\"responsive_web_cookie_compliance_1st_party_killswitch_list\":{\"value\":[]},\"responsive_web_cookie_compliance_banner_enabled\":{\"value\":false},\"responsive_web_cookie_compliance_gingersnap_enabled\":{\"value\":false},\"responsive_web_cookie_consent_signal_enabled\":{\"value\":false},\"responsive_web_cotweet_consumption_enabled\":{\"value\":true},\"responsive_web_csrf_clientside_enabled\":{\"value\":true},\"responsive_web_dance_cc_tools_enabled\":{\"value\":false},\"responsive_web_dance_cc_tools_include_development_enabled\":{\"value\":false},\"responsive_web_dcm_2_enabled\":{\"value\":true},\"responsive_web_deamplification_replies_dropdown_selector_enabled\":{\"value\":false},\"responsive_web_deamplification_transparent_cursors_enabled\":{\"value\":false},\"responsive_web_device_follow_without_user_follow_enabled\":{\"value\":false},\"responsive_web_disconnect_third_party_sso_enabled\":{\"value\":true},\"responsive_web_dockable_autoplay_policy_enabled\":{\"value\":true},\"responsive_web_drew_mute_and_block_enabled\":{\"value\":false},\"responsive_web_drew_profile_block_enabled\":{\"value\":false},\"responsive_web_drew_timeline_block_enabled\":{\"value\":false},\"responsive_web_dtime_fccts_enabled\":{\"value\":false},\"responsive_web_dtime_featured_timelines_modal_enabled\":{\"value\":true},\"responsive_web_dtime_show_new_tweets_enabled\":{\"value\":true},\"responsive_web_dtime_sparkle_menu_featured_timelines_enabled\":{\"value\":false},\"responsive_web_dtime_timelines_directory_enabled\":{\"value\":false},\"responsive_web_dtime_timelines_preview_enabled\":{\"value\":false},\"responsive_web_dtime_tpat_enabled\":{\"value\":true},\"responsive_web_dynamic_product_ads_enabled\":{\"value\":true},\"responsive_web_edit_tweet_api_enabled\":{\"value\":true},\"responsive_web_edit_tweet_composition_enabled\":{\"value\":true},\"responsive_web_edit_tweet_enabled\":{\"value\":false},\"responsive_web_edit_tweet_pdp_dialog_enabled\":{\"value\":true},\"responsive_web_edit_tweet_perspective_enabled\":{\"value\":false},\"responsive_web_edit_tweet_upsell_enabled\":{\"value\":true},\"responsive_web_element_size_impression_scribe_enabled\":{\"value\":true},\"responsive_web_enhance_cards_enabled\":{\"value\":true},\"responsive_web_eu_countries\":{\"value\":[\"at\",\"be\",\"bg\",\"ch\",\"cy\",\"cz\",\"de\",\"dk\",\"ee\",\"es\",\"fi\",\"fr\",\"gb\",\"gr\",\"hr\",\"hu\",\"ie\",\"is\",\"it\",\"li\",\"lt\",\"lu\",\"lv\",\"mt\",\"nl\",\"no\",\"pl\",\"pt\",\"ro\",\"se\",\"si\",\"sk\"]},\"responsive_web_explorer_ads_enabled\":{\"value\":true},\"responsive_web_extension_compatibility_hide\":{\"value\":false},\"responsive_web_extension_compatibility_impression_guard\":{\"value\":true},\"responsive_web_extension_compatibility_override_param\":{\"value\":false},\"responsive_web_extension_compatibility_scribe\":{\"value\":true},\"responsive_web_extension_compatibility_size_threshold\":{\"value\":50},\"responsive_web_fake_root_twitter_domain_for_testing\":{\"value\":false},\"responsive_web_feature_gating_enabled\":{\"value\":true},\"responsive_web_fetch_hashflags_on_boot\":{\"value\":false},\"responsive_web_footer_categorized_variant_enabled\":{\"value\":false},\"responsive_web_framerate_tracking_home_enabled\":{\"value\":false},\"responsive_web_gaggle_site_enabled\":{\"value\":false},\"responsive_web_graphql_conversations_enabled\":{\"value\":true},\"responsive_web_graphql_dark_reads_probability\":{\"value\":0},\"responsive_web_graphql_feedback\":{\"value\":true},\"responsive_web_graphql_home_enabled\":{\"value\":true},\"responsive_web_graphql_likes_timeline\":{\"value\":true},\"responsive_web_graphql_media_timeline\":{\"value\":true},\"responsive_web_graphql_timeline_navigation_enabled\":{\"value\":true},\"responsive_web_graphql_topic_timeline_enabled\":{\"value\":true},\"responsive_web_hashtag_highlight_is_enabled\":{\"value\":false},\"responsive_web_hashtag_highlight_show_avatar\":{\"value\":false},\"responsive_web_hashtag_highlight_use_small_font\":{\"value\":false},\"responsive_web_hevc_upload_preview_enabled\":{\"value\":false},\"responsive_web_home_new_tweets_pill_v2\":{\"value\":false},\"responsive_web_home_pinned_timelines_latest_enabled\":{\"value\":false},\"responsive_web_home_pinned_timelines_lists_enabled\":{\"value\":false},\"responsive_web_home_sticky_new_tweets_pill_delay_seconds\":{\"value\":1},\"responsive_web_home_sticky_new_tweets_pill_duration_seconds\":{\"value\":120},\"responsive_web_home_sticky_new_tweets_pill_enabled\":{\"value\":true},\"responsive_web_htl_empty_state_redesign_variant\":{\"value\":\"control\"},\"responsive_web_impression_pixel_enabled\":{\"value\":true},\"responsive_web_impression_tracker_refactor_enabled\":{\"value\":true},\"responsive_web_install_banner_show_immediate\":{\"value\":false},\"responsive_web_instream_video_redesign_enabled\":{\"value\":true},\"responsive_web_instream_video_store_keyed\":{\"value\":true},\"responsive_web_lbm_v2_home_enabled\":{\"value\":false},\"responsive_web_lbm_v2_replies_enabled\":{\"value\":false},\"responsive_web_left_nav_refresh_connect_enabled\":{\"value\":false},\"responsive_web_left_nav_refresh_topics_enabled\":{\"value\":false},\"responsive_web_like_by_author_enabled\":{\"value\":false},\"responsive_web_like_by_author_new_line\":{\"value\":false},\"responsive_web_list_tweet_integration_enabled\":{\"value\":false},\"responsive_web_live_commerce_enabled\":{\"value\":false},\"responsive_web_live_video_parity_periscope_auth_enabled\":{\"value\":false},\"responsive_web_lo_gating_prominent_sta_button_paths\":{\"value\":\"switch-to-app-footer\"},\"responsive_web_locale_context_direction_enabled\":{\"value\":false},\"responsive_web_location_spotlight_display_map\":{\"value\":true},\"responsive_web_location_spotlight_v1_config\":{\"value\":true},\"responsive_web_location_spotlight_v1_display\":{\"value\":true},\"responsive_web_logged_out_explore_enabled\":{\"value\":true},\"responsive_web_logged_out_explore_home_path_enabled\":{\"value\":true},\"responsive_web_logged_out_gating_13622_ddg\":{\"value\":\"\"},\"responsive_web_logged_out_gating_14788_ddg\":{\"value\":\"\"},\"responsive_web_logged_out_gating_14992_ddg\":{\"value\":\"\"},\"responsive_web_logged_out_gating_15377_ddg\":{\"value\":\"\"},\"responsive_web_logged_out_gating_non_holdback_ddgs\":{\"value\":\"\"},\"responsive_web_logged_out_notifications_enabled\":{\"value\":false},\"responsive_web_logged_out_notifications_including_home\":{\"value\":false},\"responsive_web_login_input_type_email_enabled\":{\"value\":false},\"responsive_web_login_signup_sheet_app_install_cta_enabled\":{\"value\":true},\"responsive_web_media_upload_limit_2g\":{\"value\":250},\"responsive_web_media_upload_limit_3g\":{\"value\":1500},\"responsive_web_media_upload_limit_slow_2g\":{\"value\":150},\"responsive_web_media_upload_md5_hashing_enabled\":{\"value\":true},\"responsive_web_media_upload_metrics_enabled\":{\"value\":true},\"responsive_web_media_upload_target_jpg_pixels_per_byte\":{\"value\":6},\"responsive_web_menu_section_divider_enabled\":{\"value\":false},\"responsive_web_misinfo_label_revamp_tweaks_enabled\":{\"value\":false},\"responsive_web_mixed_media_composition_enabled\":{\"value\":false},\"responsive_web_mixed_media_consumption_enabled\":{\"value\":true},\"responsive_web_mobile_app_spotlight_v1_config\":{\"value\":false},\"responsive_web_mobile_app_spotlight_v1_display\":{\"value\":false},\"responsive_web_moment_maker_annotations_enabled\":{\"value\":false},\"responsive_web_moment_maker_enabled\":{\"value\":true},\"responsive_web_moment_maker_promoted_tweets_enabled\":{\"value\":false},\"responsive_web_multiple_account_limit\":{\"value\":5},\"responsive_web_new_copy_security_key_2fa_enabled\":{\"value\":true},\"responsive_web_newsletters_callout_enabled\":{\"value\":true},\"responsive_web_newsletters_menu_enabled\":{\"value\":true},\"responsive_web_newsletters_profile_subscribe_enabled\":{\"value\":true},\"responsive_web_newsletters_subscribe_double_opt_in_removal_enabled\":{\"value\":true},\"responsive_web_nft_avatar\":{\"value\":true},\"responsive_web_nft_avatar_help_link\":{\"value\":\"https://help.twitter.com/en/using-twitter/twitter-blue-labs#nft\"},\"responsive_web_notifications_empty_state_redesign_variant\":{\"value\":\"control\"},\"responsive_web_notifications_overrides_desktop_enabled\":{\"value\":false},\"responsive_web_notifications_overrides_mobile_enabled\":{\"value\":false},\"responsive_web_ntab_verified_mentions_vit_internal_dogfood\":{\"value\":false},\"responsive_web_nux_web_to_app_drop_gate_enabled\":{\"value\":false},\"responsive_web_oauth2_consent_flow_enabled\":{\"value\":true},\"responsive_web_ocf_reportflow_appeals_enabled\":{\"value\":false},\"responsive_web_ocf_reportflow_dms_enabled\":{\"value\":false},\"responsive_web_ocf_reportflow_lists_enabled\":{\"value\":true},\"responsive_web_ocf_reportflow_profiles_enabled\":{\"value\":true},\"responsive_web_ocf_reportflow_spaces_enabled\":{\"value\":false},\"responsive_web_ocf_reportflow_suspension_appeals_enabled\":{\"value\":false},\"responsive_web_ocf_reportflow_testers\":{\"value\":false},\"responsive_web_ocf_reportflow_tweets_enabled\":{\"value\":true},\"responsive_web_ocf_sms_autoverify_darkwrite\":{\"value\":false},\"responsive_web_ocf_sms_autoverify_enabled\":{\"value\":false},\"responsive_web_offscreen_video_scroller_removal_enabled\":{\"value\":false},\"responsive_web_open_app_appbar_button_enabled\":{\"value\":true},\"responsive_web_open_in_app_prompt_enabled\":{\"value\":false},\"responsive_web_opengraph_image_tweet_copy_1\":{\"value\":true},\"responsive_web_opengraph_play_icon_overlay\":{\"value\":true},\"responsive_web_opengraph_video_tweet_copy_1\":{\"value\":true},\"responsive_web_original_tweet_nudge_enabled\":{\"value\":false},\"responsive_web_original_tweet_nudge_show_nudge\":{\"value\":false},\"responsive_web_original_tweet_nudge_supported_languages\":{\"value\":[\"en\"]},\"responsive_web_passwordless_sso_enabled\":{\"value\":false},\"responsive_web_pinned_replies_enabled\":{\"value\":false},\"responsive_web_placeholder_siwg_button_enabled\":{\"value\":false},\"responsive_web_prerolls_fullscreen_disabled_on_ios\":{\"value\":false},\"responsive_web_professional_journeys_holdback_enabled\":{\"value\":false},\"responsive_web_profile_spotlight_v0_config\":{\"value\":true},\"responsive_web_profile_spotlight_v0_display\":{\"value\":true},\"responsive_web_promoted_account_card_enabled\":{\"value\":true},\"responsive_web_promoted_badge_below_header\":{\"value\":false},\"responsive_web_promoted_badge_use_circle_icon\":{\"value\":false},\"responsive_web_qp_graphql_accounts_enabled\":{\"value\":true},\"responsive_web_qp_intro_experiment_enabled\":{\"value\":false},\"responsive_web_qp_payment_select_enabled\":{\"value\":true},\"responsive_web_reactions_api_test\":{\"value\":false},\"responsive_web_reactions_enabled\":{\"value\":false},\"responsive_web_reactions_fruit_basket_threshold\":{\"value\":20},\"responsive_web_reactions_legacy_heart\":{\"value\":true},\"responsive_web_reactions_nux_banner\":{\"value\":false},\"responsive_web_reader_extended_menu\":{\"value\":true},\"responsive_web_recent_searches_events_enabled\":{\"value\":true},\"responsive_web_recent_searches_topics_enabled\":{\"value\":true},\"responsive_web_recent_searches_users_enabled\":{\"value\":true},\"responsive_web_repeat_profile_visits_notifications_device_follow_only_version_enabled\":{\"value\":false},\"responsive_web_repeat_profile_visits_notifications_enabled\":{\"value\":false},\"responsive_web_reply_nudge_copy_version\":{\"value\":0},\"responsive_web_reply_nudge_enabled\":{\"value\":false},\"responsive_web_reply_nudge_show_nudge\":{\"value\":true},\"responsive_web_reply_nudge_supported_languages\":{\"value\":[\"en\"]},\"responsive_web_reply_nudge_testing_keyword\":{\"value\":false},\"responsive_web_reply_storm_enabled\":{\"value\":false},\"responsive_web_report_page_not_found\":{\"value\":false},\"responsive_web_scroller_autopoll_enabled\":{\"value\":false},\"responsive_web_scroller_top_positioning_enabled\":{\"value\":false},\"responsive_web_search_home_page_design_variation\":{\"value\":\"\"},\"responsive_web_send_cookies_metadata_enabled\":{\"value\":true},\"responsive_web_settings_timeline_polling_enabled\":{\"value\":false},\"responsive_web_settings_timeline_polling_interval_ms\":{\"value\":0},\"responsive_web_settings_timeline_refresh_background_interval\":{\"value\":0},\"responsive_web_share_action_order_desktop\":{\"value\":\"copy_link_first_bookmark_last\"},\"responsive_web_share_action_order_mobile\":{\"value\":\"default\"},\"responsive_web_share_only_tweet_url_omit_title_and_text\":{\"value\":true},\"responsive_web_sidebar_ttf_enabled\":{\"value\":false},\"responsive_web_spud_enabled\":{\"value\":true},\"responsive_web_sso_redirect_enabled\":{\"value\":true},\"responsive_web_ssr_footer_categorized_variant_enabled\":{\"value\":true},\"responsive_web_ssr_verified_crawler_rux_injections_enabled\":{\"value\":true},\"responsive_web_suppress_app_button_banner_suppressed\":{\"value\":false},\"responsive_web_text_conversations_enabled\":{\"value\":false},\"responsive_web_themed_scrollbars\":{\"value\":false},\"responsive_web_third_party_sso_buttons_enabled\":{\"value\":true},\"responsive_web_timeline_cover_killswitch_enabled\":{\"value\":false},\"responsive_web_timeline_refetching_on_revisit_enabled\":{\"value\":true},\"responsive_web_timeline_relay_lists_management_enabled\":{\"value\":false},\"responsive_web_timeline_relay_user_lists_enabled\":{\"value\":false},\"responsive_web_tracer_global_trace_sample_rate\":{\"value\":1},\"responsive_web_trends_setting_new_endpoints\":{\"value\":true},\"responsive_web_tweet_analytics_m2_enabled\":{\"value\":false},\"responsive_web_tweet_analytics_m3_enabled\":{\"value\":false},\"responsive_web_tweet_analytics_promoted_audience_demographics_enabled\":{\"value\":false},\"responsive_web_tweet_analytics_video_metrics_v2_enabled\":{\"value\":true},\"responsive_web_twitter_article_compose_enabled\":{\"value\":false},\"responsive_web_twitter_article_cover_aspect_ratio_5_2\":{\"value\":true},\"responsive_web_twitter_article_data_v2_enabled\":{\"value\":false},\"responsive_web_twitter_article_geo_gated\":{\"value\":false},\"responsive_web_twitter_article_max_times_show_tweet_banner\":{\"value\":3},\"responsive_web_twitter_article_tweet_other_notes_enabled\":{\"value\":true},\"responsive_web_twitter_article_tweet_own_notes_enabled\":{\"value\":false},\"responsive_web_twitter_article_view_enabled\":{\"value\":true},\"responsive_web_twitter_blue_growth_primary_nav_enabled\":{\"value\":false},\"responsive_web_twitter_blue_home_redesign_enabled\":{\"value\":true},\"responsive_web_twitter_blue_signup_nux_enabled\":{\"value\":true},\"responsive_web_twitter_blue_subscriptions_disabled\":{\"value\":false},\"responsive_web_twitter_blue_verified_badge_is_enabled\":{\"value\":false},\"responsive_web_twitter_blue_verified_badge_ntab_empty_state_enabled\":{\"value\":false},\"responsive_web_twitter_blue_verified_badge_ntab_verified_as_first_tab\":{\"value\":false},\"responsive_web_twitter_blue_verified_badge_settings_blue_verified_features_enabled\":{\"value\":false},\"responsive_web_typeahead_reverse_bolding_enabled\":{\"value\":true},\"responsive_web_uc_gql_enabled\":{\"value\":true},\"responsive_web_unsupported_entry_tombstone\":{\"value\":false},\"responsive_web_use_app_button_variations\":{\"value\":\"treatment_1\"},\"responsive_web_use_app_prompt_copy_variant\":{\"value\":\"\"},\"responsive_web_use_app_prompt_enabled\":{\"value\":false},\"responsive_web_use_badge_counts_for_ntab\":{\"value\":false},\"responsive_web_vdl_dash_redesign_enabled\":{\"value\":true},\"responsive_web_video_pcomplete_enabled\":{\"value\":true},\"responsive_web_video_promoted_logging_enabled\":{\"value\":false},\"responsive_web_video_trimmer_enabled\":{\"value\":false},\"responsive_web_vod_muted_captions_enabled\":{\"value\":true},\"responsive_web_vs_config_resize_observer_enabled\":{\"value\":true},\"responsive_web_zipkin_api_requests_enabled\":{\"value\":false},\"responsive_web_zipkin_api_requests_paths_allowlist\":{\"value\":[\"/2/timeline/home.json\"]},\"rito_safety_mode_blocked_profile_enabled\":{\"value\":true},\"rito_safety_mode_features_enabled\":{\"value\":false},\"rito_safety_mode_modal_prompt_enabled\":{\"value\":false},\"rito_safety_mode_settings_enabled\":{\"value\":false},\"rweb_home_perf_client_prefetch_mode\":{\"value\":\"all\"},\"rweb_home_perf_client_prefetch_timeout_ms\":{\"value\":0},\"rweb_reply_downvote_before_like\":{\"value\":false},\"rweb_reply_downvote_enabled\":{\"value\":false},\"rweb_reply_downvote_inline_days\":{\"value\":1},\"rweb_reply_downvote_inline_education\":{\"value\":60},\"rweb_reply_downvote_inline_survey\":{\"value\":0},\"rweb_reply_downvote_nux_inline_days\":{\"value\":7},\"rweb_update_fatigue_switch_to_app_day_timeout\":{\"value\":7},\"rweb_update_fatigue_switch_to_app_link\":{\"value\":\"BannerSwitchToApp\"},\"rweb_video_tagging_enabled\":{\"value\":false},\"sc_mock_data_enabled\":{\"value\":false},\"sc_r4_enabled\":{\"value\":false},\"scribe_api_error_sample_size\":{\"value\":0},\"scribe_api_sample_size\":{\"value\":100},\"scribe_cdn_host_list\":{\"value\":[\"si0.twimg.com\",\"si1.twimg.com\",\"si2.twimg.com\",\"si3.twimg.com\",\"a0.twimg.com\",\"a1.twimg.com\",\"a2.twimg.com\",\"a3.twimg.com\",\"abs.twimg.com\",\"amp.twimg.com\",\"o.twimg.com\",\"pbs.twimg.com\",\"pbs-eb.twimg.com\",\"pbs-ec.twimg.com\",\"pbs-v6.twimg.com\",\"pbs-h1.twimg.com\",\"pbs-h2.twimg.com\",\"video.twimg.com\",\"platform.twitter.com\",\"cdn.api.twitter.com\",\"ton.twimg.com\",\"v.cdn.vine.co\",\"mtc.cdn.vine.co\",\"edge.vncdn.co\",\"mid.vncdn.co\"]},\"scribe_cdn_sample_size\":{\"value\":50},\"scribe_web_nav_sample_size\":{\"value\":100},\"sensitive_media_settings_enabled\":{\"value\":false},\"sensitive_tweet_warnings_enabled\":{\"value\":true},\"settings_revamp_search_bar_enabled\":{\"value\":false},\"share_animation_after_like_enabled\":{\"value\":false},\"share_h1_2023_trigger\":{\"value\":\"\"},\"shortened_tracking_parameters_mapping\":{\"value\":[\"01:twcamp^share|twsrc^android|twgr^sms\",\"02:twcamp^share|twsrc^android|twgr^email\",\"03:twcamp^share|twsrc^android|twgr^gmail\",\"04:twcamp^share|twsrc^android|twgr^facebook\",\"05:twcamp^share|twsrc^android|twgr^wechat\",\"06:twcamp^share|twsrc^android|twgr^line\",\"07:twcamp^share|twsrc^android|twgr^fbmessenger\",\"08:twcamp^share|twsrc^android|twgr^whatsapp\",\"09:twcamp^share|twsrc^android|twgr^other\",\"10:twcamp^share|twsrc^ios|twgr^sms\",\"11:twcamp^share|twsrc^ios|twgr^email\",\"12:twcamp^share|twsrc^ios|twgr^other\",\"13:twcamp^share|twsrc^android|twgr^download\",\"14:twcamp^share|twsrc^ios|twgr^download\",\"15:twcamp^share|twsrc^android|twgr^hangouts\",\"16:twcamp^share|twsrc^android|twgr^twitterdm\",\"17:twcamp^share|twsrc^m5|twgr^email\",\"18:twcamp^share|twsrc^m5|twgr^download\",\"19:twcamp^share|twsrc^android|twgr^copy\",\"20:twcamp^share|twsrc^m5|twgr^copy\",\"21:twcamp^share|twsrc^ios|twgr^copy\",\"22:twcamp^share|twsrc^ios|twgr^snapchat\",\"23:twcamp^share|twsrc^android|twgr^snapchat\",\"24:twcamp^share|twsrc^ios|twgr^whatsapp\",\"25:twcamp^share|twsrc^ios|twgr^fbmessenger\",\"26:twcamp^share|twsrc^ios|twgr^facebook\",\"27:twcamp^share|twsrc^ios|twgr^gmail\",\"28:twcamp^share|twsrc^ios|twgr^telegram\",\"29:twcamp^share|twsrc^ios|twgr^line\",\"30:twcamp^share|twsrc^ios|twgr^viber\",\"31:twcamp^share|twsrc^android|twgr^slack\",\"32:twcamp^share|twsrc^android|twgr^kakao\",\"33:twcamp^share|twsrc^android|twgr^discord\",\"34:twcamp^share|twsrc^android|twgr^reddit\",\"35:twcamp^share|twsrc^android|twgr^telegram\",\"36:twcamp^share|twsrc^android|twgr^instagram\",\"37:twcamp^share|twsrc^android|twgr^daum\",\"38:twcamp^share|twsrc^ios|twgr^instagram\",\"39:twcamp^share|twsrc^ios|twgr^linkedin\",\"40:twcamp^share|twsrc^android|twgr^linkedin\",\"41:twcamp^share|twsrc^gryphon|twgr^copy\",\"42:twcamp^share|twsrc^iphone|twgr^sms\",\"43:twcamp^share|twsrc^iphone|twgr^email\",\"44:twcamp^share|twsrc^iphone|twgr^other\",\"45:twcamp^share|twsrc^iphone|twgr^download\",\"46:twcamp^share|twsrc^iphone|twgr^copy\",\"47:twcamp^share|twsrc^iphone|twgr^snapchat\",\"48:twcamp^share|twsrc^iphone|twgr^whatsapp\",\"49:twcamp^share|twsrc^iphone|twgr^fbmessenger\",\"50:twcamp^share|twsrc^iphone|twgr^facebook\",\"51:twcamp^share|twsrc^iphone|twgr^gmail\",\"52:twcamp^share|twsrc^iphone|twgr^telegram\",\"53:twcamp^share|twsrc^iphone|twgr^line\",\"54:twcamp^share|twsrc^iphone|twgr^viber\",\"55:twcamp^share|twsrc^iphone|twgr^instagram\",\"56:twcamp^share|twsrc^iphone|twgr^linkedin\",\"57:twcamp^share|twsrc^ipad|twgr^sms\",\"58:twcamp^share|twsrc^ipad|twgr^email\",\"59:twcamp^share|twsrc^ipad|twgr^other\",\"60:twcamp^share|twsrc^ipad|twgr^download\",\"61:twcamp^share|twsrc^ipad|twgr^copy\",\"62:twcamp^share|twsrc^ipad|twgr^snapchat\",\"63:twcamp^share|twsrc^ipad|twgr^whatsapp\",\"64:twcamp^share|twsrc^ipad|twgr^fbmessenger\",\"65:twcamp^share|twsrc^ipad|twgr^facebook\",\"66:twcamp^share|twsrc^ipad|twgr^gmail\",\"67:twcamp^share|twsrc^ipad|twgr^telegram\",\"68:twcamp^share|twsrc^ipad|twgr^line\",\"69:twcamp^share|twsrc^ipad|twgr^viber\",\"70:twcamp^share|twsrc^ipad|twgr^instagram\",\"71:twcamp^share|twsrc^ipad|twgr^linkedin\"]},\"smbo_legacy_pac_is_in_follow_position_test\":{\"value\":false},\"social_context_and_topic_context_refresh_alignment_enabled\":{\"value\":false},\"spaces_2022_h2_clipping\":{\"value\":true},\"spaces_2022_h2_clipping_consumption\":{\"value\":true},\"spaces_2022_h2_clipping_duration_seconds\":{\"value\":30},\"spaces_2022_h2_follow_host\":{\"value\":true},\"spaces_2022_h2_reactions_web_send\":{\"value\":false},\"spaces_2022_h2_spacebar\":{\"value\":false},\"spaces_2022_h2_spacebar_use_mock_data\":{\"value\":false},\"spaces_2022_h2_spacebar_web_sidebar\":{\"value\":false},\"spaces_2022_h2_spacebar_web_topnavbar\":{\"value\":\"disabled\"},\"spaces_2022_h2_spacebar_web_use_topnavbar\":{\"value\":true},\"spaces_2022_h2_spaces_communities\":{\"value\":true},\"standardized_nudges_misinfo\":{\"value\":true},\"standardized_nudges_toxicity\":{\"value\":false},\"stateful_login_enabled\":{\"value\":true},\"subscriptions_blue_premium_labeling_enabled\":{\"value\":true},\"subscriptions_enabled\":{\"value\":true},\"subscriptions_feature_1002\":{\"value\":true},\"subscriptions_feature_1003\":{\"value\":true},\"subscriptions_feature_1005\":{\"value\":true},\"subscriptions_feature_1006\":{\"value\":false},\"subscriptions_feature_1007\":{\"value\":true},\"subscriptions_feature_1009\":{\"value\":true},\"subscriptions_feature_1011\":{\"value\":true},\"subscriptions_feature_labs_1001\":{\"value\":true},\"subscriptions_feature_labs_1004\":{\"value\":true},\"subscriptions_long_video_rweb_new_copy_enabled\":{\"value\":true},\"subscriptions_long_video_upload\":{\"value\":true},\"subscriptions_management_enabled\":{\"value\":true},\"subscriptions_marketing_page_refresh_enabled\":{\"value\":true},\"subscriptions_settings_item_enabled\":{\"value\":true},\"subscriptions_sign_up_enabled\":{\"value\":false},\"subscriptions_stripe_testing\":{\"value\":false},\"subscriptions_tab_customization_on_android_enabled\":{\"value\":true},\"subscriptions_top_articles_on_ios_enabled\":{\"value\":true},\"subscriptions_twitter_blue_logo_enabled\":{\"value\":true},\"super_follow_android_web_subscription_enabled\":{\"value\":false},\"super_follow_exclusive_tweet_creation_api_enabled\":{\"value\":true},\"super_follow_tweet_api_enabled\":{\"value\":true},\"super_follow_user_api_enabled\":{\"value\":true},\"super_follow_web_application_enabled\":{\"value\":false},\"super_follow_web_deactivate_enabled\":{\"value\":true},\"super_follow_web_debug_enabled\":{\"value\":false},\"super_follow_web_edit_perks_enabled\":{\"value\":true},\"super_follow_web_onboarding_enabled\":{\"value\":true},\"super_follow_web_rename_enabled\":{\"value\":false},\"targeted_project_friday_enabled\":{\"value\":false},\"topic_landing_page_clearer_controls_enabled\":{\"value\":true},\"topic_landing_page_cta_text\":{\"value\":\"control\"},\"topic_landing_page_share_enabled\":{\"value\":true},\"topics_context_controls_followed_variation\":{\"value\":\"see_more\"},\"topics_context_controls_implicit_context_x_enabled\":{\"value\":true},\"topics_context_controls_implicit_variation\":{\"value\":\"see_more\"},\"topics_context_controls_inline_prompt_enabled\":{\"value\":false},\"topics_discovery_page_enabled\":{\"value\":false},\"toxic_reply_filter_inline_callout_enabled\":{\"value\":false},\"toxic_reply_filter_settings_enabled\":{\"value\":false},\"traffic_rewrite_map\":{\"value\":[]},\"trusted_friends_audience_control_exp_variant\":{\"value\":\"control\"},\"trusted_friends_consumption_enabled\":{\"value\":true},\"trusted_friends_dash_discovery_enabled\":{\"value\":true},\"trusted_friends_tweet_creation_enabled\":{\"value\":true},\"tweet_limited_actions_config_community_tweet_community_deleted\":{\"value\":[\"add_to_bookmarks\",\"add_to_moment\",\"embed\",\"follow\",\"hide_community_tweet\",\"like\",\"lists_add_remove\",\"mute_conversation\",\"pin_to_profile\",\"quote_tweet\",\"react\",\"remove_from_community\",\"reply\",\"retweet\",\"send_via_dm\",\"share_tweet_via\",\"view_hidden_replies\",\"view_tweet_activity\",\"vote_on_poll\"]},\"tweet_limited_actions_config_community_tweet_community_not_found\":{\"value\":[\"add_to_bookmarks\",\"add_to_moment\",\"embed\",\"follow\",\"hide_community_tweet\",\"like\",\"lists_add_remove\",\"mute_conversation\",\"pin_to_profile\",\"quote_tweet\",\"react\",\"remove_from_community\",\"reply\",\"retweet\",\"send_via_dm\",\"share_tweet_via\",\"view_hidden_replies\",\"view_tweet_activity\",\"vote_on_poll\"]},\"tweet_limited_actions_config_community_tweet_community_suspended\":{\"value\":[\"add_to_bookmarks\",\"add_to_moment\",\"embed\",\"follow\",\"hide_community_tweet\",\"like\",\"lists_add_remove\",\"mute_conversation\",\"pin_to_profile\",\"quote_tweet\",\"react\",\"remove_from_community\",\"reply\",\"retweet\",\"send_via_dm\",\"share_tweet_via\",\"view_hidden_replies\",\"view_tweet_activity\",\"vote_on_poll\"]},\"tweet_limited_actions_config_community_tweet_hidden\":{\"value\":[\"add_to_bookmarks\",\"add_to_moment\",\"embed\",\"follow\",\"hide_community_tweet\",\"like\",\"lists_add_remove\",\"mute_conversation\",\"pin_to_profile\",\"quote_tweet\",\"react\",\"reply\",\"retweet\",\"send_via_dm\",\"share_tweet_via\",\"view_hidden_replies\",\"view_tweet_activity\",\"vote_on_poll\"]},\"tweet_limited_actions_config_community_tweet_member\":{\"value\":[\"embed\",\"pin_to_profile\",\"retweet\"]},\"tweet_limited_actions_config_community_tweet_member_removed\":{\"value\":[\"add_to_bookmarks\",\"add_to_moment\",\"embed\",\"follow\",\"hide_community_tweet\",\"like\",\"lists_add_remove\",\"mute_conversation\",\"pin_to_profile\",\"quote_tweet\",\"react\",\"remove_from_community\",\"reply\",\"retweet\",\"send_via_dm\",\"share_tweet_via\",\"view_hidden_replies\",\"view_tweet_activity\",\"vote_on_poll\"]},\"tweet_limited_actions_config_community_tweet_non_member\":{\"value\":[\"embed\",\"like\",\"pin_to_profile\",\"react\",\"reply\",\"reply_down_vote\",\"retweet\",\"share_tweet_via\",\"vote_on_poll\"]},\"tweet_limited_actions_config_disable_state_media_autoplay\":{\"value\":[\"autoplay\"]},\"tweet_limited_actions_config_dpa_enabled\":{\"value\":true},\"tweet_limited_actions_config_dynamic_product_ad\":{\"value\":[\"reply\",\"retweet\",\"quote_tweet\",\"share_tweet_via\",\"send_via_dm\",\"copy_link\",\"add_to_bookmarks\",\"like\"]},\"tweet_limited_actions_config_enabled\":{\"value\":true},\"tweet_limited_actions_config_limit_trusted_friends_tweet\":{\"value\":[\"retweet\",\"quote_tweet\",\"share_tweet_via\",\"send_via_dm\",\"copy_link\",\"view_tweet_activity\",\"embed\",\"add_to_moment\"]},\"tweet_limited_actions_config_non_compliant\":{\"value\":[\"reply\",\"retweet\",\"like\",\"react\",\"send_via_dm\",\"add_to_bookmarks\",\"add_to_moment\",\"pin_to_profile\",\"view_tweet_activity\",\"share_tweet_via\",\"copy_link\"]},\"tweet_limited_actions_config_skip_tweet_detail\":{\"value\":[\"reply\"]},\"tweet_limited_actions_config_skip_tweet_detail_enabled\":{\"value\":true},\"tweet_limited_actions_config_soft_nudge_with_quote_tweet\":{\"value\":[\"show_retweet_action_menu\"]},\"tweet_with_visibility_results_prefer_gql_limited_actions_policy_enabled\":{\"value\":false},\"tweetypie_unmention_optimization_enabled\":{\"value\":true},\"twitter_chat_communities_chat_enabled\":{\"value\":false},\"twitter_delegate_enabled\":{\"value\":false},\"ucpd_enabled\":{\"value\":true},\"unified_cards_ad_metadata_container_dynamic_card_content_query_enabled\":{\"value\":true},\"unified_cards_collection_ads_convert_to_image_website_card\":{\"value\":false},\"unified_cards_dpa_cta_button_enabled\":{\"value\":true},\"unified_cards_dpa_metadata_enabled\":{\"value\":true},\"unified_cards_dpa_placeholder_media_key\":{\"value\":[\"3_1485707239990054912\"]},\"unified_cards_follow_card_consumption_enabled\":{\"value\":true},\"user_display_name_max_limit\":{\"value\":50},\"verified_phone_label_enabled\":{\"value\":false},\"vibe_api_enabled\":{\"value\":true},\"vibe_tweet_context_enabled\":{\"value\":true},\"vod_attribution_tweet_detail_pivot_enabled\":{\"value\":true},\"voice_consumption_enabled\":{\"value\":true},\"voice_rooms_card_version\":{\"value\":2},\"voice_rooms_discovery_page_enabled\":{\"value\":false},\"voice_rooms_end_screen_participants\":{\"value\":true},\"voice_rooms_expanded_dock\":{\"value\":true},\"voice_rooms_expanded_dock_reactions\":{\"value\":true},\"voice_rooms_host_analytics_enabled\":{\"value\":true},\"voice_rooms_recent_search_audiospace_ring_enabled\":{\"value\":true},\"voice_rooms_replay_consumption\":{\"value\":true},\"voice_rooms_search_results_page_audiospace_ring_enabled\":{\"value\":false},\"voice_rooms_sharing_listening_data_with_followers_setting_enabled\":{\"value\":true},\"voice_rooms_speaking_enabled\":{\"value\":false},\"voice_rooms_typeahead_audiospace_ring_enabled\":{\"value\":true},\"web_video_bitrate_persistence_enabled\":{\"value\":false},\"web_video_caption_repositioning_enabled\":{\"value\":true},\"web_video_hls_android_mse_enabled\":{\"value\":true},\"web_video_hls_mp4_threshold_sec\":{\"value\":0},\"web_video_hls_variant_version\":{\"value\":\"1\"},\"web_video_hlsjs_version\":{\"value\":\"\"},\"web_video_playback_rate_enabled\":{\"value\":false},\"web_video_player_size_cap_disabled\":{\"value\":false},\"web_video_prefetch_playlist_autoplay_disabled\":{\"value\":false},\"web_video_transcribed_captions_enabled\":{\"value\":false}},\"featureSetToken\":\"3573d062f1d9d88d6b1cb333b24718811733ffad\",\"isLoaded\":true,\"isLoading\":false,\"useEventAllowlist\":true,\"user\":{\"config\":{\"2fa_temporary_password_enabled\":{\"value\":false},\"Arkose_rweb_hosted_page\":{\"value\":true},\"Arkose_use_invisible_challenge_key\":{\"value\":false},\"account_2fa_standalone_security_key_enabled\":{\"value\":true},\"account_country_setting_countries_whitelist\":{\"value\":[\"ad\",\"ae\",\"af\",\"ag\",\"ai\",\"al\",\"am\",\"ao\",\"ar\",\"as\",\"at\",\"au\",\"aw\",\"ax\",\"az\",\"ba\",\"bb\",\"bd\",\"be\",\"bf\",\"bg\",\"bh\",\"bi\",\"bj\",\"bl\",\"bm\",\"bn\",\"bo\",\"bq\",\"br\",\"bs\",\"bt\",\"bv\",\"bw\",\"by\",\"bz\",\"ca\",\"cc\",\"cd\",\"cf\",\"cg\",\"ch\",\"ci\",\"ck\",\"cl\",\"cm\",\"co\",\"cr\",\"cu\",\"cv\",\"cw\",\"cx\",\"cy\",\"cz\",\"de\",\"dj\",\"dk\",\"dm\",\"do\",\"dz\",\"ec\",\"ee\",\"eg\",\"er\",\"es\",\"et\",\"fi\",\"fj\",\"fk\",\"fm\",\"fo\",\"fr\",\"ga\",\"gb\",\"gd\",\"ge\",\"gf\",\"gg\",\"gh\",\"gi\",\"gl\",\"gm\",\"gn\",\"gp\",\"gq\",\"gr\",\"gs\",\"gt\",\"gu\",\"gw\",\"gy\",\"hk\",\"hn\",\"hr\",\"ht\",\"hu\",\"id\",\"ie\",\"il\",\"im\",\"in\",\"io\",\"iq\",\"ir\",\"is\",\"it\",\"je\",\"jm\",\"jo\",\"jp\",\"ke\",\"kg\",\"kh\",\"ki\",\"km\",\"kn\",\"kr\",\"kw\",\"ky\",\"kz\",\"la\",\"lb\",\"lc\",\"li\",\"lk\",\"lr\",\"ls\",\"lt\",\"lu\",\"lv\",\"ly\",\"ma\",\"mc\",\"md\",\"me\",\"mf\",\"mg\",\"mh\",\"mk\",\"ml\",\"mn\",\"mo\",\"mp\",\"mq\",\"mr\",\"ms\",\"mt\",\"mu\",\"mv\",\"mw\",\"mx\",\"my\",\"mz\",\"na\",\"nc\",\"ne\",\"nf\",\"ng\",\"ni\",\"nl\",\"no\",\"np\",\"nr\",\"nu\",\"nz\",\"om\",\"pa\",\"pe\",\"pf\",\"pg\",\"ph\",\"pk\",\"pl\",\"pm\",\"pn\",\"pr\",\"ps\",\"pt\",\"pw\",\"py\",\"qa\",\"re\",\"ro\",\"rs\",\"ru\",\"rw\",\"sa\",\"sb\",\"sc\",\"se\",\"sg\",\"sh\",\"si\",\"sk\",\"sl\",\"sm\",\"sn\",\"so\",\"sr\",\"st\",\"sv\",\"sx\",\"sz\",\"tc\",\"td\",\"tf\",\"tg\",\"th\",\"tj\",\"tk\",\"tl\",\"tm\",\"tn\",\"to\",\"tr\",\"tt\",\"tv\",\"tw\",\"tz\",\"ua\",\"ug\",\"us\",\"uy\",\"uz\",\"va\",\"vc\",\"ve\",\"vi\",\"vn\",\"vu\",\"wf\",\"ws\",\"xk\",\"ye\",\"yt\",\"za\",\"zm\",\"zw\"]},\"account_session_console_from_graphql_enabled\":{\"value\":true},\"account_taxonomy_automated_label_enabled\":{\"value\":true},\"account_taxonomy_automation_opt_in_enabled\":{\"value\":false},\"ads_spacing_client_fallback_minimum_spacing\":{\"value\":3},\"arkose_challenge_lo_web_notification_dev\":{\"value\":\"BF5FA6C8-9668-4AF9-AFA2-E362F56E5B71\"},\"arkose_challenge_lo_web_notification_mobile_prod\":{\"value\":\"6A2FD110-7C1A-47CD-82EE-D01FFB4810D7\"},\"arkose_challenge_lo_web_notification_prod\":{\"value\":\"50706BFE-942C-4EEC-B9AD-03F7CD268FB1\"},\"arkose_challenge_login_web_devel\":{\"value\":\"DF58DD3B-DFCC-4502-91FA-EDC0DC385CFF\"},\"arkose_challenge_login_web_prod\":{\"value\":\"2F4F0B28-BC94-4271-8AD7-A51662E3C91C\"},\"arkose_challenge_open_app_dev\":{\"value\":\"560C66A3-C8EB-4D11-BE53-A8232734AA62\"},\"arkose_challenge_open_app_prod\":{\"value\":\"6E8D3D6E-30D4-45F1-9838-BA3D9651AAA1\"},\"arkose_challenge_signup_mobile_dev\":{\"value\":\"006B5E87-7497-403E-9E0C-8FFBAAC6FA67\"},\"arkose_challenge_signup_mobile_prod\":{\"value\":\"867D55F2-24FD-4C56-AB6D-589EDAF5E7C5\"},\"arkose_challenge_signup_web_dev\":{\"value\":\"DF58DD3B-DFCC-4502-91FA-EDC0DC385CFF\"},\"arkose_challenge_signup_web_prod\":{\"value\":\"2CB16598-CB82-4CF7-B332-5990DB66F3AB\"},\"arkose_challenge_transparent_signup_dev\":{\"value\":\"6627C16B-DA60-47A5-85F7-CFF23BD2BE69\"},\"arkose_challenge_transparent_signup_prod\":{\"value\":\"4CB8C8B0-40FF-439C-9D0D-9A389ADA18CB\"},\"author_moderated_replies_urt_container_enabled\":{\"value\":false},\"branded_like_preview_enabled\":{\"value\":false},\"c9s_auto_collapse_community_detail_header_enabled\":{\"value\":true},\"c9s_communities_search_enabled\":{\"value\":true},\"c9s_community_composer_hashtag_suggestions_enabled\":{\"value\":false},\"c9s_community_creation_enabled\":{\"value\":true},\"c9s_community_creation_form_membership_type_enabled\":{\"value\":true},\"c9s_community_creation_setup_checklist_enabled\":{\"value\":true},\"c9s_community_deletion_enabled\":{\"value\":true},\"c9s_community_hashtags_carousel_enabled\":{\"value\":false},\"c9s_community_hashtags_enabled\":{\"value\":true},\"c9s_edit_moderators_enabled\":{\"value\":true},\"c9s_enabled\":{\"value\":true},\"c9s_highlight_tweet_enabled\":{\"value\":true},\"c9s_list_members_action_api_enabled\":{\"value\":false},\"c9s_logged_out_access_enabled\":{\"value\":true},\"c9s_max_community_description_length\":{\"value\":160},\"c9s_max_community_name_length\":{\"value\":30},\"c9s_max_rule_count\":{\"value\":10},\"c9s_max_rule_description_length\":{\"value\":160},\"c9s_max_rule_name_length\":{\"value\":60},\"c9s_members_list_search_enabled\":{\"value\":true},\"c9s_moderation_enabled\":{\"value\":true},\"c9s_nav_list_activity_details_enabled\":{\"value\":false},\"c9s_notification_settings_enabled\":{\"value\":true},\"c9s_notification_settings_pinned_tweet_enabled\":{\"value\":true},\"c9s_participation_enabled\":{\"value\":true},\"c9s_poll_creation_enabled\":{\"value\":true},\"c9s_remove_member_enabled\":{\"value\":true},\"c9s_remove_member_list_enabled\":{\"value\":true},\"c9s_report_community_enabled\":{\"value\":false},\"c9s_rule_management_enabled\":{\"value\":true},\"c9s_spotlight_consumption_enabled\":{\"value\":true},\"c9s_spotlight_creation_enabled\":{\"value\":false},\"c9s_ssr_enabled\":{\"value\":false},\"c9s_tab_visibility\":{\"value\":\"members_only\"},\"c9s_timelines_default_selection\":{\"value\":\"ranked\"},\"c9s_timelines_ranking_enabled\":{\"value\":false},\"c9s_unread_indicator_global_enabled\":{\"value\":true},\"c9s_unread_indicator_mod_actions_enabled\":{\"value\":true},\"c9s_unread_indicator_tweets_enabled\":{\"value\":true},\"card_compose_preview_retry_after_ms\":{\"value\":3000},\"card_compose_preview_retry_max\":{\"value\":5},\"content_language_setting_enabled\":{\"value\":true},\"conversation_controls_change_enabled\":{\"value\":true},\"conversation_controls_change_tooltip_enabled\":{\"value\":true},\"conversation_controls_limited_replies_consumption_configuration\":{\"value\":\"no_reply\"},\"conversation_controls_limited_replies_creation_enabled\":{\"value\":true},\"conversation_controls_persistence_enabled\":{\"value\":true},\"conversational_safety_heads_up_treatment_A_enabled\":{\"value\":\"\"},\"dash_region_specific_de_and_tr_media_transparency_items_enabled\":{\"value\":false},\"dash_region_specific_de_media_transparency_items_enabled\":{\"value\":false},\"direct_messages_incremental_holdback_2022h1\":{\"value\":true},\"dm_conversation_labels_max_pinned_count\":{\"value\":6},\"dm_conversation_labels_pinned_education_enabled\":{\"value\":true},\"dm_conversation_labels_pinned_enabled\":{\"value\":true},\"dm_conversations_nsfw_media_filter_enabled\":{\"value\":false},\"dm_education_flags_prompt\":{\"value\":false},\"dm_evolution_conversation_read_enabled\":{\"value\":false},\"dm_evolution_enabled\":{\"value\":true},\"dm_evolution_inbox_primary_enabled\":{\"value\":false},\"dm_evolution_inbox_secondary_enabled\":{\"value\":false},\"dm_evolution_inbox_tertiary_enabled\":{\"value\":false},\"dm_evolution_message_creation_enabled\":{\"value\":true},\"dm_evolution_responsive_web_early_bird_only_switch\":{\"value\":false},\"dm_inbox_search_groups_bucket_size\":{\"value\":5},\"dm_inbox_search_max_recent_searches_stored\":{\"value\":5},\"dm_inbox_search_message_attachment_previews_enabled\":{\"value\":true},\"dm_inbox_search_message_results_enabled\":{\"value\":true},\"dm_inbox_search_messages_bucket_size\":{\"value\":5},\"dm_inbox_search_modular_results_enabled\":{\"value\":true},\"dm_inbox_search_people_bucket_size\":{\"value\":5},\"dm_inbox_search_query_highlighting_conversation_results_enabled\":{\"value\":true},\"dm_inbox_search_query_highlighting_message_results_enabled\":{\"value\":true},\"dm_reactions_config_active_reactions\":{\"value\":[\"😂:funny\",\"😲:surprised\",\"😢:sad\",\"❤️:like\",\"🔥:excited\",\"👍:agree\",\"👎:disagree\"]},\"dm_reactions_config_inactive_reactions\":{\"value\":[\"😠:angry\",\"😷:mask\"]},\"dm_share_sheet_send_individually_enabled\":{\"value\":true},\"dm_share_sheet_send_individually_max_count\":{\"value\":20},\"dm_vdl_chat_p0_enabled\":{\"value\":true},\"dm_vdl_enabled\":{\"value\":true},\"dm_vdl_inbox_p0_enabled\":{\"value\":true},\"dm_voice_rendering_enabled\":{\"value\":true},\"dont_mention_me_enabled\":{\"value\":true},\"dont_mention_me_mentions_tab_education_enabled\":{\"value\":true},\"dont_mention_me_view_api_enabled\":{\"value\":true},\"ecd_dispute_form_link_enabled\":{\"value\":true},\"employee_role\":{\"value\":false},\"enable_label_appealing_misinfo_enabled\":{\"value\":false},\"enable_label_appealing_sensitive_content_enabled\":{\"value\":false},\"explore_relaunch_enable_immersive_web\":{\"value\":false},\"explore_relaunch_enable_immersive_web_navigation_button\":{\"value\":false},\"explore_relaunch_enable_immersive_web_tap_to_hide\":{\"value\":false},\"explore_relaunch_enabled\":{\"value\":false},\"explore_relaunch_onboarding_bar_show_count\":{\"value\":3},\"explore_relaunch_updated_scrubber_position\":{\"value\":false},\"focused_timeline_actions_onboarding_likes\":{\"value\":3},\"follow_nudge_conversation_enabled\":{\"value\":false},\"follow_nudge_search_enabled\":{\"value\":false},\"global_mention_settings_enabled\":{\"value\":false},\"graphql_composer_and_dm_card_previews_enabled\":{\"value\":false},\"graphql_is_translatable_rweb_tweet_is_translatable_enabled\":{\"value\":true},\"graphql_mutation_destroy_mode\":{\"value\":\"graphql_only\"},\"graphql_mutation_retweet_mode\":{\"value\":\"graphql_only\"},\"graphql_mutation_unretweet_mode\":{\"value\":\"graphql_only\"},\"graphql_mutation_update_mode\":{\"value\":\"graphql_only\"},\"graphql_timeline_v2_bookmark_timeline\":{\"value\":false},\"graphql_timeline_v2_query_threaded_conversation_with_injections\":{\"value\":true},\"graphql_timeline_v2_user_favorites_by_time_timeline\":{\"value\":true},\"graphql_timeline_v2_user_media_timeline\":{\"value\":true},\"graphql_timeline_v2_user_profile_timeline\":{\"value\":true},\"graphql_timeline_v2_user_profile_with_replies_timeline\":{\"value\":true},\"gryphon_hide_quick_promote\":{\"value\":false},\"gryphon_optout_in_settings\":{\"value\":false},\"guest_broadcasting_timeline_decorations_enabled\":{\"value\":false},\"hashflags_animation_like_button_enabled\":{\"value\":true},\"home_timeline_extended_reactivity_tweet_clicks_enabled\":{\"value\":false},\"home_timeline_extended_reactivity_tweet_clicks_fatigue\":{\"value\":5},\"home_timeline_extended_reactivity_tweet_clicks_trigger_seconds\":{\"value\":120},\"home_timeline_latest_timeline_switch_enabled\":{\"value\":true},\"home_timeline_like_reactivity_enabled\":{\"value\":true},\"home_timeline_like_reactivity_fatigue\":{\"value\":10},\"home_timeline_scribing_section_change_enabled\":{\"value\":false},\"home_timeline_spheres_detail_page_muting_enabled\":{\"value\":true},\"home_timeline_spheres_max_user_owned_or_subscribed_lists_count\":{\"value\":5},\"home_timeline_spheres_ranking_mode_control_enabled\":{\"value\":true},\"home_timeline_tweet_auto_inline_reply_enabled\":{\"value\":false},\"identity_verification_debadging_notification_enabled\":{\"value\":true},\"identity_verification_educational_prompt_enabled\":{\"value\":true},\"identity_verification_intake_enabled\":{\"value\":true},\"identity_verification_notable_demo_survey\":{\"value\":false},\"interactive_text_enabled\":{\"value\":true},\"linked_search_experiment\":{\"value\":false},\"live_event_docking_enabled\":{\"value\":true},\"live_event_interstitial_seen_cache_enabled\":{\"value\":true},\"live_event_multi_video_auto_advance_dock_enabled\":{\"value\":true},\"live_event_multi_video_auto_advance_enabled\":{\"value\":true},\"live_event_multi_video_auto_advance_fullscreen_enabled\":{\"value\":false},\"live_event_multi_video_auto_advance_transition_duration_seconds\":{\"value\":5},\"live_event_multi_video_enabled\":{\"value\":true},\"live_event_timeline_default_refresh_rate_interval_seconds\":{\"value\":30},\"live_event_timeline_minimum_refresh_rate_interval_seconds\":{\"value\":10},\"live_event_timeline_server_controlled_refresh_rate_enabled\":{\"value\":true},\"livepipeline_client_enabled\":{\"value\":true},\"livepipeline_tweetengagement_enabled\":{\"value\":true},\"longform_ad_free_articles_badging_enabled\":{\"value\":false},\"longform_reader_mode_view_in_reader_mode_entry_button_enabled\":{\"value\":false},\"longform_top_articles_friends_of_friends_enabled\":{\"value\":true},\"longform_top_articles_time_window_enabled\":{\"value\":true},\"machine_translation_holdback_logged_in\":{\"value\":false},\"machine_translation_holdback_logged_out\":{\"value\":false},\"media_edge_to_edge_content_enabled\":{\"value\":false},\"media_infra_play_icon_version_number\":{\"value\":\"playicon_v0\"},\"moment_annotations_enabled\":{\"value\":true},\"moments_new_share_variant_floating_action_button\":{\"value\":false},\"network_layer_503_backoff_mode\":{\"value\":\"host\"},\"ocf_2fa_enrollment_bouncer_enabled\":{\"value\":true},\"ocf_2fa_enrollment_enabled\":{\"value\":true},\"ocf_2fa_unenrollment_enabled\":{\"value\":true},\"onboarding_connect_tab_urt_graphql_enabled\":{\"value\":false},\"onboarding_project_uls_enabled\":{\"value\":false},\"papago_tweet_translation_from_korean_entity_protected\":{\"value\":false},\"papago_tweet_translation_from_korean_entity_protected_destinations\":{\"value\":[\"en\",\"ja\",\"zh\",\"zh-cn\",\"zh-Hans\",\"zh-tw\",\"zh-Hant\"]},\"papago_tweet_translation_from_korean_entity_unprotected\":{\"value\":false},\"papago_tweet_translation_from_korean_entity_unprotected_destinations\":{\"value\":[\"id\",\"es\",\"th\"]},\"papago_tweet_translation_to_korean\":{\"value\":false},\"papago_tweet_translation_to_korean_sources\":{\"value\":[\"en\",\"ja\"]},\"professional_launchpad_m1_enabled\":{\"value\":true},\"professional_launchpad_mobile_promotable_timeline\":{\"value\":false},\"professional_launchpad_upload_address_book\":{\"value\":true},\"profile_foundations_about_tab_enabled\":{\"value\":false},\"profile_foundations_about_tab_tooltip_enabled\":{\"value\":false},\"profile_foundations_header_fields_hidden\":{\"value\":false},\"profile_foundations_tweet_stats_enabled\":{\"value\":false},\"profile_foundations_tweet_stats_tweet_count\":{\"value\":false},\"profile_foundations_tweet_stats_tweet_frequency\":{\"value\":false},\"profile_foundations_tweet_stats_tweet_topics\":{\"value\":false},\"profile_navigation_likes_tab_prominence_enabled\":{\"value\":false},\"report_center_mvp_r1_enabled\":{\"value\":true},\"report_center_mvp_r2_enabled\":{\"value\":false},\"responsive_web_3rd_party_category_branch\":{\"value\":3},\"responsive_web_3rd_party_category_double_click\":{\"value\":3},\"responsive_web_3rd_party_category_external_referer\":{\"value\":3},\"responsive_web_3rd_party_category_ga\":{\"value\":3},\"responsive_web_3rd_party_category_google_platform\":{\"value\":2},\"responsive_web_3rd_party_category_google_recaptcha\":{\"value\":2},\"responsive_web_3rd_party_category_player_card\":{\"value\":3},\"responsive_web_3rd_party_category_sentry\":{\"value\":2},\"responsive_web_3rd_party_category_sign_in_with_apple\":{\"value\":2},\"responsive_web_account_access_language_lo_banners\":{\"value\":\"control\"},\"responsive_web_account_access_language_lo_splash_sidebar\":{\"value\":\"control\"},\"responsive_web_account_search_readability_enabled\":{\"value\":true},\"responsive_web_alt_svc\":{\"value\":false},\"responsive_web_alt_text_nudges_enabled\":{\"value\":true},\"responsive_web_alt_text_nudges_settings_enabled\":{\"value\":true},\"responsive_web_alt_text_translations_enabled\":{\"value\":true},\"responsive_web_api_transition_enabled\":{\"value\":true},\"responsive_web_article_nudge_enabled\":{\"value\":true},\"responsive_web_audio_space_ring_home_timeline\":{\"value\":false},\"responsive_web_author_labels_avatar_label_enabled\":{\"value\":false},\"responsive_web_author_labels_focal_label_enabled\":{\"value\":false},\"responsive_web_author_labels_handle_label_enabled\":{\"value\":false},\"responsive_web_auto_logout_multiaccount_enabled\":{\"value\":true},\"responsive_web_auto_logout_restrictedauthtoken_enabled\":{\"value\":true},\"responsive_web_auto_logout_twid_enabled\":{\"value\":true},\"responsive_web_behavioral_events_communities_enabled\":{\"value\":true},\"responsive_web_behavioral_events_enabled\":{\"value\":false},\"responsive_web_behavioral_events_home_enabled\":{\"value\":true},\"responsive_web_behavioral_events_htl_breadcrumbs\":{\"value\":true},\"responsive_web_behavioral_events_session_id_enabled\":{\"value\":true},\"responsive_web_behavioral_events_target_view_v2_enabled\":{\"value\":true},\"responsive_web_birdwatch_aliases_enabled\":{\"value\":true},\"responsive_web_birdwatch_appeals_enabled\":{\"value\":true},\"responsive_web_birdwatch_consumption_enabled\":{\"value\":false},\"responsive_web_birdwatch_contribution_enabled\":{\"value\":false},\"responsive_web_birdwatch_country_allowed\":{\"value\":false},\"responsive_web_birdwatch_deleted_notes_enabled\":{\"value\":true},\"responsive_web_birdwatch_earn_in_enabled\":{\"value\":true},\"responsive_web_birdwatch_earn_out_enabled\":{\"value\":true},\"responsive_web_birdwatch_hcomp_user\":{\"value\":false},\"responsive_web_birdwatch_history_enabled\":{\"value\":false},\"responsive_web_birdwatch_impressions_enabled\":{\"value\":false},\"responsive_web_birdwatch_new_note_submission_modal_enabled\":{\"value\":true},\"responsive_web_birdwatch_note_awards_enabled\":{\"value\":true},\"responsive_web_birdwatch_note_writing_enabled\":{\"value\":false},\"responsive_web_birdwatch_pivots_enabled\":{\"value\":false},\"responsive_web_birdwatch_profile_awards_enabled\":{\"value\":true},\"responsive_web_birdwatch_rating_crowd_enabled\":{\"value\":false},\"responsive_web_birdwatch_rating_mini_survey_enabled\":{\"value\":false},\"responsive_web_birdwatch_rating_participant_enabled\":{\"value\":false},\"responsive_web_birdwatch_ratings_m2_tags_enabled\":{\"value\":true},\"responsive_web_birdwatch_ratings_v2_enabled\":{\"value\":true},\"responsive_web_birdwatch_site_enabled\":{\"value\":true},\"responsive_web_birdwatch_traffic_lights_enabled\":{\"value\":true},\"responsive_web_branch_cpid_enabled\":{\"value\":false},\"responsive_web_branch_sdk_enabled\":{\"value\":true},\"responsive_web_captions_always_display_enabled\":{\"value\":false},\"responsive_web_captions_always_display_settings_enabled\":{\"value\":false},\"responsive_web_card_conversion_hoisted\":{\"value\":\"off\"},\"responsive_web_card_preconnect_enabled\":{\"value\":false},\"responsive_web_card_preload_mode\":{\"value\":false},\"responsive_web_carousel_v2_cards_non_safari_enabled\":{\"value\":false},\"responsive_web_carousel_v2_cards_safari_variant\":{\"value\":\"control\"},\"responsive_web_carousel_v2_media_detail_enabled\":{\"value\":false},\"responsive_web_cleanup_macaw_swift_indexed_db\":{\"value\":true},\"responsive_web_collection_ads_enabled\":{\"value\":true},\"responsive_web_commerce_shop_spotlight_enabled\":{\"value\":false},\"responsive_web_communities_slices_enabled\":{\"value\":true},\"responsive_web_composer_configurable_video_player_enabled\":{\"value\":false},\"responsive_web_continue_as_always_enabled\":{\"value\":false},\"responsive_web_continue_as_param_enabled\":{\"value\":true},\"responsive_web_convert_card_video_to_gif_enabled\":{\"value\":false},\"responsive_web_cookie_compliance_1st_party_killswitch_list\":{\"value\":[]},\"responsive_web_cookie_compliance_banner_enabled\":{\"value\":false},\"responsive_web_cookie_compliance_gingersnap_enabled\":{\"value\":false},\"responsive_web_cookie_consent_signal_enabled\":{\"value\":false},\"responsive_web_cotweet_consumption_enabled\":{\"value\":true},\"responsive_web_csrf_clientside_enabled\":{\"value\":true},\"responsive_web_dance_cc_tools_enabled\":{\"value\":false},\"responsive_web_dance_cc_tools_include_development_enabled\":{\"value\":false},\"responsive_web_dcm_2_enabled\":{\"value\":true},\"responsive_web_deamplification_replies_dropdown_selector_enabled\":{\"value\":false},\"responsive_web_deamplification_transparent_cursors_enabled\":{\"value\":false},\"responsive_web_device_follow_without_user_follow_enabled\":{\"value\":false},\"responsive_web_disconnect_third_party_sso_enabled\":{\"value\":true},\"responsive_web_dockable_autoplay_policy_enabled\":{\"value\":true},\"responsive_web_drew_mute_and_block_enabled\":{\"value\":false},\"responsive_web_drew_profile_block_enabled\":{\"value\":false},\"responsive_web_drew_timeline_block_enabled\":{\"value\":false},\"responsive_web_dtime_fccts_enabled\":{\"value\":false},\"responsive_web_dtime_featured_timelines_modal_enabled\":{\"value\":true},\"responsive_web_dtime_show_new_tweets_enabled\":{\"value\":true},\"responsive_web_dtime_sparkle_menu_featured_timelines_enabled\":{\"value\":false},\"responsive_web_dtime_timelines_directory_enabled\":{\"value\":false},\"responsive_web_dtime_timelines_preview_enabled\":{\"value\":false},\"responsive_web_dtime_tpat_enabled\":{\"value\":true},\"responsive_web_dynamic_product_ads_enabled\":{\"value\":true},\"responsive_web_edit_tweet_api_enabled\":{\"value\":true},\"responsive_web_edit_tweet_composition_enabled\":{\"value\":true},\"responsive_web_edit_tweet_enabled\":{\"value\":false},\"responsive_web_edit_tweet_pdp_dialog_enabled\":{\"value\":true},\"responsive_web_edit_tweet_perspective_enabled\":{\"value\":false},\"responsive_web_edit_tweet_upsell_enabled\":{\"value\":true},\"responsive_web_element_size_impression_scribe_enabled\":{\"value\":true},\"responsive_web_enhance_cards_enabled\":{\"value\":true},\"responsive_web_eu_countries\":{\"value\":[\"at\",\"be\",\"bg\",\"ch\",\"cy\",\"cz\",\"de\",\"dk\",\"ee\",\"es\",\"fi\",\"fr\",\"gb\",\"gr\",\"hr\",\"hu\",\"ie\",\"is\",\"it\",\"li\",\"lt\",\"lu\",\"lv\",\"mt\",\"nl\",\"no\",\"pl\",\"pt\",\"ro\",\"se\",\"si\",\"sk\"]},\"responsive_web_explorer_ads_enabled\":{\"value\":true},\"responsive_web_extension_compatibility_hide\":{\"value\":false},\"responsive_web_extension_compatibility_impression_guard\":{\"value\":true},\"responsive_web_extension_compatibility_override_param\":{\"value\":false},\"responsive_web_extension_compatibility_scribe\":{\"value\":true},\"responsive_web_extension_compatibility_size_threshold\":{\"value\":50},\"responsive_web_fake_root_twitter_domain_for_testing\":{\"value\":false},\"responsive_web_feature_gating_enabled\":{\"value\":true},\"responsive_web_fetch_hashflags_on_boot\":{\"value\":true},\"responsive_web_footer_categorized_variant_enabled\":{\"value\":false},\"responsive_web_framerate_tracking_home_enabled\":{\"value\":false},\"responsive_web_gaggle_site_enabled\":{\"value\":false},\"responsive_web_graphql_conversations_enabled\":{\"value\":true},\"responsive_web_graphql_dark_reads_probability\":{\"value\":0},\"responsive_web_graphql_feedback\":{\"value\":true},\"responsive_web_graphql_home_enabled\":{\"value\":true},\"responsive_web_graphql_likes_timeline\":{\"value\":true},\"responsive_web_graphql_media_timeline\":{\"value\":true},\"responsive_web_graphql_timeline_navigation_enabled\":{\"value\":true},\"responsive_web_graphql_topic_timeline_enabled\":{\"value\":true},\"responsive_web_hashtag_highlight_is_enabled\":{\"value\":false},\"responsive_web_hashtag_highlight_show_avatar\":{\"value\":false},\"responsive_web_hashtag_highlight_use_small_font\":{\"value\":false},\"responsive_web_hevc_upload_preview_enabled\":{\"value\":false},\"responsive_web_home_new_tweets_pill_v2\":{\"value\":false},\"responsive_web_home_pinned_timelines_latest_enabled\":{\"value\":false},\"responsive_web_home_pinned_timelines_lists_enabled\":{\"value\":false},\"responsive_web_home_sticky_new_tweets_pill_delay_seconds\":{\"value\":1},\"responsive_web_home_sticky_new_tweets_pill_duration_seconds\":{\"value\":120},\"responsive_web_home_sticky_new_tweets_pill_enabled\":{\"value\":true},\"responsive_web_htl_empty_state_redesign_variant\":{\"value\":\"control\"},\"responsive_web_impression_pixel_enabled\":{\"value\":true},\"responsive_web_impression_tracker_refactor_enabled\":{\"value\":true},\"responsive_web_install_banner_show_immediate\":{\"value\":false},\"responsive_web_instream_video_redesign_enabled\":{\"value\":true},\"responsive_web_instream_video_store_keyed\":{\"value\":true},\"responsive_web_lbm_v2_home_enabled\":{\"value\":false},\"responsive_web_lbm_v2_replies_enabled\":{\"value\":false},\"responsive_web_left_nav_refresh_connect_enabled\":{\"value\":false},\"responsive_web_left_nav_refresh_topics_enabled\":{\"value\":false},\"responsive_web_like_by_author_enabled\":{\"value\":false},\"responsive_web_like_by_author_new_line\":{\"value\":false},\"responsive_web_list_tweet_integration_enabled\":{\"value\":false},\"responsive_web_live_commerce_enabled\":{\"value\":true},\"responsive_web_live_video_parity_periscope_auth_enabled\":{\"value\":false},\"responsive_web_lo_gating_prominent_sta_button_paths\":{\"value\":\"switch-to-app-footer\"},\"responsive_web_locale_context_direction_enabled\":{\"value\":false},\"responsive_web_location_spotlight_display_map\":{\"value\":true},\"responsive_web_location_spotlight_v1_config\":{\"value\":true},\"responsive_web_location_spotlight_v1_display\":{\"value\":true},\"responsive_web_logged_out_explore_enabled\":{\"value\":true},\"responsive_web_logged_out_explore_home_path_enabled\":{\"value\":true},\"responsive_web_logged_out_gating_13622_ddg\":{\"value\":\"\"},\"responsive_web_logged_out_gating_14788_ddg\":{\"value\":\"\"},\"responsive_web_logged_out_gating_14992_ddg\":{\"value\":\"\"},\"responsive_web_logged_out_gating_15377_ddg\":{\"value\":\"\"},\"responsive_web_logged_out_gating_non_holdback_ddgs\":{\"value\":\"\"},\"responsive_web_logged_out_notifications_enabled\":{\"value\":false},\"responsive_web_logged_out_notifications_including_home\":{\"value\":false},\"responsive_web_login_input_type_email_enabled\":{\"value\":false},\"responsive_web_login_signup_sheet_app_install_cta_enabled\":{\"value\":true},\"responsive_web_media_upload_limit_2g\":{\"value\":250},\"responsive_web_media_upload_limit_3g\":{\"value\":1500},\"responsive_web_media_upload_limit_slow_2g\":{\"value\":150},\"responsive_web_media_upload_md5_hashing_enabled\":{\"value\":true},\"responsive_web_media_upload_metrics_enabled\":{\"value\":true},\"responsive_web_media_upload_target_jpg_pixels_per_byte\":{\"value\":6},\"responsive_web_menu_section_divider_enabled\":{\"value\":false},\"responsive_web_misinfo_label_revamp_tweaks_enabled\":{\"value\":false},\"responsive_web_mixed_media_composition_enabled\":{\"value\":false},\"responsive_web_mixed_media_consumption_enabled\":{\"value\":true},\"responsive_web_mobile_app_spotlight_v1_config\":{\"value\":false},\"responsive_web_mobile_app_spotlight_v1_display\":{\"value\":false},\"responsive_web_moment_maker_annotations_enabled\":{\"value\":false},\"responsive_web_moment_maker_enabled\":{\"value\":true},\"responsive_web_moment_maker_promoted_tweets_enabled\":{\"value\":false},\"responsive_web_multiple_account_limit\":{\"value\":5},\"responsive_web_new_copy_security_key_2fa_enabled\":{\"value\":true},\"responsive_web_newsletters_callout_enabled\":{\"value\":true},\"responsive_web_newsletters_menu_enabled\":{\"value\":true},\"responsive_web_newsletters_profile_subscribe_enabled\":{\"value\":true},\"responsive_web_newsletters_subscribe_double_opt_in_removal_enabled\":{\"value\":true},\"responsive_web_nft_avatar\":{\"value\":true},\"responsive_web_nft_avatar_help_link\":{\"value\":\"https://help.twitter.com/en/using-twitter/twitter-blue-labs#nft\"},\"responsive_web_notifications_empty_state_redesign_variant\":{\"value\":\"control\"},\"responsive_web_notifications_overrides_desktop_enabled\":{\"value\":false},\"responsive_web_notifications_overrides_mobile_enabled\":{\"value\":false},\"responsive_web_ntab_verified_mentions_vit_internal_dogfood\":{\"value\":false},\"responsive_web_nux_web_to_app_drop_gate_enabled\":{\"value\":false},\"responsive_web_oauth2_consent_flow_enabled\":{\"value\":true},\"responsive_web_ocf_reportflow_appeals_enabled\":{\"value\":false},\"responsive_web_ocf_reportflow_dms_enabled\":{\"value\":false},\"responsive_web_ocf_reportflow_lists_enabled\":{\"value\":true},\"responsive_web_ocf_reportflow_profiles_enabled\":{\"value\":true},\"responsive_web_ocf_reportflow_spaces_enabled\":{\"value\":false},\"responsive_web_ocf_reportflow_suspension_appeals_enabled\":{\"value\":false},\"responsive_web_ocf_reportflow_testers\":{\"value\":false},\"responsive_web_ocf_reportflow_tweets_enabled\":{\"value\":true},\"responsive_web_ocf_sms_autoverify_darkwrite\":{\"value\":false},\"responsive_web_ocf_sms_autoverify_enabled\":{\"value\":false},\"responsive_web_offscreen_video_scroller_removal_enabled\":{\"value\":false},\"responsive_web_open_app_appbar_button_enabled\":{\"value\":true},\"responsive_web_open_in_app_prompt_enabled\":{\"value\":false},\"responsive_web_opengraph_image_tweet_copy_1\":{\"value\":true},\"responsive_web_opengraph_play_icon_overlay\":{\"value\":true},\"responsive_web_opengraph_video_tweet_copy_1\":{\"value\":true},\"responsive_web_original_tweet_nudge_enabled\":{\"value\":false},\"responsive_web_original_tweet_nudge_show_nudge\":{\"value\":false},\"responsive_web_original_tweet_nudge_supported_languages\":{\"value\":[\"en\"]},\"responsive_web_passwordless_sso_enabled\":{\"value\":false},\"responsive_web_pinned_replies_enabled\":{\"value\":false},\"responsive_web_placeholder_siwg_button_enabled\":{\"value\":false},\"responsive_web_prerolls_fullscreen_disabled_on_ios\":{\"value\":false},\"responsive_web_professional_journeys_holdback_enabled\":{\"value\":false},\"responsive_web_profile_spotlight_v0_config\":{\"value\":true},\"responsive_web_profile_spotlight_v0_display\":{\"value\":true},\"responsive_web_promoted_account_card_enabled\":{\"value\":true},\"responsive_web_promoted_badge_below_header\":{\"value\":false},\"responsive_web_promoted_badge_use_circle_icon\":{\"value\":false},\"responsive_web_qp_graphql_accounts_enabled\":{\"value\":true},\"responsive_web_qp_intro_experiment_enabled\":{\"value\":false},\"responsive_web_qp_payment_select_enabled\":{\"value\":true},\"responsive_web_reactions_api_test\":{\"value\":false},\"responsive_web_reactions_enabled\":{\"value\":false},\"responsive_web_reactions_fruit_basket_threshold\":{\"value\":20},\"responsive_web_reactions_legacy_heart\":{\"value\":true},\"responsive_web_reactions_nux_banner\":{\"value\":false},\"responsive_web_reader_extended_menu\":{\"value\":true},\"responsive_web_recent_searches_events_enabled\":{\"value\":true},\"responsive_web_recent_searches_topics_enabled\":{\"value\":true},\"responsive_web_recent_searches_users_enabled\":{\"value\":true},\"responsive_web_repeat_profile_visits_notifications_device_follow_only_version_enabled\":{\"value\":false},\"responsive_web_repeat_profile_visits_notifications_enabled\":{\"value\":false},\"responsive_web_reply_nudge_copy_version\":{\"value\":0},\"responsive_web_reply_nudge_enabled\":{\"value\":true},\"responsive_web_reply_nudge_show_nudge\":{\"value\":true},\"responsive_web_reply_nudge_supported_languages\":{\"value\":[\"es\"]},\"responsive_web_reply_nudge_testing_keyword\":{\"value\":false},\"responsive_web_reply_storm_enabled\":{\"value\":false},\"responsive_web_report_page_not_found\":{\"value\":false},\"responsive_web_scroller_autopoll_enabled\":{\"value\":false},\"responsive_web_scroller_top_positioning_enabled\":{\"value\":false},\"responsive_web_search_home_page_design_variation\":{\"value\":\"\"},\"responsive_web_send_cookies_metadata_enabled\":{\"value\":true},\"responsive_web_settings_timeline_polling_enabled\":{\"value\":false},\"responsive_web_settings_timeline_polling_interval_ms\":{\"value\":0},\"responsive_web_settings_timeline_refresh_background_interval\":{\"value\":0},\"responsive_web_share_action_order_desktop\":{\"value\":\"copy_link_first_bookmark_last\"},\"responsive_web_share_action_order_mobile\":{\"value\":\"default\"},\"responsive_web_share_only_tweet_url_omit_title_and_text\":{\"value\":true},\"responsive_web_sidebar_ttf_enabled\":{\"value\":false},\"responsive_web_spud_enabled\":{\"value\":true},\"responsive_web_sso_redirect_enabled\":{\"value\":true},\"responsive_web_ssr_footer_categorized_variant_enabled\":{\"value\":true},\"responsive_web_ssr_verified_crawler_rux_injections_enabled\":{\"value\":true},\"responsive_web_suppress_app_button_banner_suppressed\":{\"value\":false},\"responsive_web_text_conversations_enabled\":{\"value\":false},\"responsive_web_themed_scrollbars\":{\"value\":false},\"responsive_web_third_party_sso_buttons_enabled\":{\"value\":true},\"responsive_web_timeline_cover_killswitch_enabled\":{\"value\":false},\"responsive_web_timeline_refetching_on_revisit_enabled\":{\"value\":true},\"responsive_web_timeline_relay_lists_management_enabled\":{\"value\":false},\"responsive_web_timeline_relay_user_lists_enabled\":{\"value\":false},\"responsive_web_tracer_global_trace_sample_rate\":{\"value\":1},\"responsive_web_trends_setting_new_endpoints\":{\"value\":true},\"responsive_web_tweet_analytics_m2_enabled\":{\"value\":false},\"responsive_web_tweet_analytics_m3_enabled\":{\"value\":false},\"responsive_web_tweet_analytics_promoted_audience_demographics_enabled\":{\"value\":false},\"responsive_web_tweet_analytics_video_metrics_v2_enabled\":{\"value\":true},\"responsive_web_twitter_article_compose_enabled\":{\"value\":false},\"responsive_web_twitter_article_cover_aspect_ratio_5_2\":{\"value\":true},\"responsive_web_twitter_article_data_v2_enabled\":{\"value\":false},\"responsive_web_twitter_article_geo_gated\":{\"value\":false},\"responsive_web_twitter_article_max_times_show_tweet_banner\":{\"value\":3},\"responsive_web_twitter_article_tweet_other_notes_enabled\":{\"value\":true},\"responsive_web_twitter_article_tweet_own_notes_enabled\":{\"value\":false},\"responsive_web_twitter_article_view_enabled\":{\"value\":true},\"responsive_web_twitter_blue_growth_primary_nav_enabled\":{\"value\":false},\"responsive_web_twitter_blue_home_redesign_enabled\":{\"value\":true},\"responsive_web_twitter_blue_signup_nux_enabled\":{\"value\":true},\"responsive_web_twitter_blue_subscriptions_disabled\":{\"value\":false},\"responsive_web_twitter_blue_verified_badge_is_enabled\":{\"value\":false},\"responsive_web_twitter_blue_verified_badge_ntab_empty_state_enabled\":{\"value\":false},\"responsive_web_twitter_blue_verified_badge_ntab_verified_as_first_tab\":{\"value\":false},\"responsive_web_twitter_blue_verified_badge_settings_blue_verified_features_enabled\":{\"value\":false},\"responsive_web_typeahead_reverse_bolding_enabled\":{\"value\":true},\"responsive_web_uc_gql_enabled\":{\"value\":true},\"responsive_web_unsupported_entry_tombstone\":{\"value\":false},\"responsive_web_use_app_button_variations\":{\"value\":\"treatment_1\"},\"responsive_web_use_app_prompt_copy_variant\":{\"value\":\"prompt_better\"},\"responsive_web_use_app_prompt_enabled\":{\"value\":true},\"responsive_web_use_badge_counts_for_ntab\":{\"value\":false},\"responsive_web_vdl_dash_redesign_enabled\":{\"value\":true},\"responsive_web_video_pcomplete_enabled\":{\"value\":true},\"responsive_web_video_promoted_logging_enabled\":{\"value\":true},\"responsive_web_video_trimmer_enabled\":{\"value\":false},\"responsive_web_vod_muted_captions_enabled\":{\"value\":true},\"responsive_web_vs_config_resize_observer_enabled\":{\"value\":true},\"responsive_web_zipkin_api_requests_enabled\":{\"value\":false},\"responsive_web_zipkin_api_requests_paths_allowlist\":{\"value\":[\"/2/timeline/home.json\"]},\"rito_safety_mode_blocked_profile_enabled\":{\"value\":true},\"rito_safety_mode_features_enabled\":{\"value\":false},\"rito_safety_mode_modal_prompt_enabled\":{\"value\":false},\"rito_safety_mode_settings_enabled\":{\"value\":false},\"rweb_home_perf_client_prefetch_mode\":{\"value\":\"all\"},\"rweb_home_perf_client_prefetch_timeout_ms\":{\"value\":0},\"rweb_reply_downvote_before_like\":{\"value\":false},\"rweb_reply_downvote_enabled\":{\"value\":false},\"rweb_reply_downvote_inline_days\":{\"value\":1},\"rweb_reply_downvote_inline_education\":{\"value\":60},\"rweb_reply_downvote_inline_survey\":{\"value\":0},\"rweb_reply_downvote_nux_inline_days\":{\"value\":7},\"rweb_update_fatigue_switch_to_app_day_timeout\":{\"value\":7},\"rweb_update_fatigue_switch_to_app_link\":{\"value\":\"BannerSwitchToApp\"},\"rweb_video_tagging_enabled\":{\"value\":false},\"sc_mock_data_enabled\":{\"value\":false},\"sc_r4_enabled\":{\"value\":false},\"scribe_api_error_sample_size\":{\"value\":0},\"scribe_api_sample_size\":{\"value\":100},\"scribe_cdn_host_list\":{\"value\":[\"si0.twimg.com\",\"si1.twimg.com\",\"si2.twimg.com\",\"si3.twimg.com\",\"a0.twimg.com\",\"a1.twimg.com\",\"a2.twimg.com\",\"a3.twimg.com\",\"abs.twimg.com\",\"amp.twimg.com\",\"o.twimg.com\",\"pbs.twimg.com\",\"pbs-eb.twimg.com\",\"pbs-ec.twimg.com\",\"pbs-v6.twimg.com\",\"pbs-h1.twimg.com\",\"pbs-h2.twimg.com\",\"video.twimg.com\",\"platform.twitter.com\",\"cdn.api.twitter.com\",\"ton.twimg.com\",\"v.cdn.vine.co\",\"mtc.cdn.vine.co\",\"edge.vncdn.co\",\"mid.vncdn.co\"]},\"scribe_cdn_sample_size\":{\"value\":50},\"scribe_web_nav_sample_size\":{\"value\":100},\"sensitive_media_settings_enabled\":{\"value\":false},\"sensitive_tweet_warnings_enabled\":{\"value\":true},\"settings_revamp_search_bar_enabled\":{\"value\":false},\"share_animation_after_like_enabled\":{\"value\":false},\"share_h1_2023_trigger\":{\"value\":\"\"},\"shortened_tracking_parameters_mapping\":{\"value\":[\"01:twcamp^share|twsrc^android|twgr^sms\",\"02:twcamp^share|twsrc^android|twgr^email\",\"03:twcamp^share|twsrc^android|twgr^gmail\",\"04:twcamp^share|twsrc^android|twgr^facebook\",\"05:twcamp^share|twsrc^android|twgr^wechat\",\"06:twcamp^share|twsrc^android|twgr^line\",\"07:twcamp^share|twsrc^android|twgr^fbmessenger\",\"08:twcamp^share|twsrc^android|twgr^whatsapp\",\"09:twcamp^share|twsrc^android|twgr^other\",\"10:twcamp^share|twsrc^ios|twgr^sms\",\"11:twcamp^share|twsrc^ios|twgr^email\",\"12:twcamp^share|twsrc^ios|twgr^other\",\"13:twcamp^share|twsrc^android|twgr^download\",\"14:twcamp^share|twsrc^ios|twgr^download\",\"15:twcamp^share|twsrc^android|twgr^hangouts\",\"16:twcamp^share|twsrc^android|twgr^twitterdm\",\"17:twcamp^share|twsrc^m5|twgr^email\",\"18:twcamp^share|twsrc^m5|twgr^download\",\"19:twcamp^share|twsrc^android|twgr^copy\",\"20:twcamp^share|twsrc^m5|twgr^copy\",\"21:twcamp^share|twsrc^ios|twgr^copy\",\"22:twcamp^share|twsrc^ios|twgr^snapchat\",\"23:twcamp^share|twsrc^android|twgr^snapchat\",\"24:twcamp^share|twsrc^ios|twgr^whatsapp\",\"25:twcamp^share|twsrc^ios|twgr^fbmessenger\",\"26:twcamp^share|twsrc^ios|twgr^facebook\",\"27:twcamp^share|twsrc^ios|twgr^gmail\",\"28:twcamp^share|twsrc^ios|twgr^telegram\",\"29:twcamp^share|twsrc^ios|twgr^line\",\"30:twcamp^share|twsrc^ios|twgr^viber\",\"31:twcamp^share|twsrc^android|twgr^slack\",\"32:twcamp^share|twsrc^android|twgr^kakao\",\"33:twcamp^share|twsrc^android|twgr^discord\",\"34:twcamp^share|twsrc^android|twgr^reddit\",\"35:twcamp^share|twsrc^android|twgr^telegram\",\"36:twcamp^share|twsrc^android|twgr^instagram\",\"37:twcamp^share|twsrc^android|twgr^daum\",\"38:twcamp^share|twsrc^ios|twgr^instagram\",\"39:twcamp^share|twsrc^ios|twgr^linkedin\",\"40:twcamp^share|twsrc^android|twgr^linkedin\",\"41:twcamp^share|twsrc^gryphon|twgr^copy\",\"42:twcamp^share|twsrc^iphone|twgr^sms\",\"43:twcamp^share|twsrc^iphone|twgr^email\",\"44:twcamp^share|twsrc^iphone|twgr^other\",\"45:twcamp^share|twsrc^iphone|twgr^download\",\"46:twcamp^share|twsrc^iphone|twgr^copy\",\"47:twcamp^share|twsrc^iphone|twgr^snapchat\",\"48:twcamp^share|twsrc^iphone|twgr^whatsapp\",\"49:twcamp^share|twsrc^iphone|twgr^fbmessenger\",\"50:twcamp^share|twsrc^iphone|twgr^facebook\",\"51:twcamp^share|twsrc^iphone|twgr^gmail\",\"52:twcamp^share|twsrc^iphone|twgr^telegram\",\"53:twcamp^share|twsrc^iphone|twgr^line\",\"54:twcamp^share|twsrc^iphone|twgr^viber\",\"55:twcamp^share|twsrc^iphone|twgr^instagram\",\"56:twcamp^share|twsrc^iphone|twgr^linkedin\",\"57:twcamp^share|twsrc^ipad|twgr^sms\",\"58:twcamp^share|twsrc^ipad|twgr^email\",\"59:twcamp^share|twsrc^ipad|twgr^other\",\"60:twcamp^share|twsrc^ipad|twgr^download\",\"61:twcamp^share|twsrc^ipad|twgr^copy\",\"62:twcamp^share|twsrc^ipad|twgr^snapchat\",\"63:twcamp^share|twsrc^ipad|twgr^whatsapp\",\"64:twcamp^share|twsrc^ipad|twgr^fbmessenger\",\"65:twcamp^share|twsrc^ipad|twgr^facebook\",\"66:twcamp^share|twsrc^ipad|twgr^gmail\",\"67:twcamp^share|twsrc^ipad|twgr^telegram\",\"68:twcamp^share|twsrc^ipad|twgr^line\",\"69:twcamp^share|twsrc^ipad|twgr^viber\",\"70:twcamp^share|twsrc^ipad|twgr^instagram\",\"71:twcamp^share|twsrc^ipad|twgr^linkedin\"]},\"smbo_legacy_pac_is_in_follow_position_test\":{\"value\":false},\"social_context_and_topic_context_refresh_alignment_enabled\":{\"value\":false},\"spaces_2022_h2_clipping\":{\"value\":true},\"spaces_2022_h2_clipping_consumption\":{\"value\":true},\"spaces_2022_h2_clipping_duration_seconds\":{\"value\":30},\"spaces_2022_h2_follow_host\":{\"value\":true},\"spaces_2022_h2_reactions_web_send\":{\"value\":false},\"spaces_2022_h2_spacebar\":{\"value\":false},\"spaces_2022_h2_spacebar_use_mock_data\":{\"value\":false},\"spaces_2022_h2_spacebar_web_sidebar\":{\"value\":false},\"spaces_2022_h2_spacebar_web_topnavbar\":{\"value\":\"disabled\"},\"spaces_2022_h2_spacebar_web_use_topnavbar\":{\"value\":true},\"spaces_2022_h2_spaces_communities\":{\"value\":true},\"standardized_nudges_misinfo\":{\"value\":true},\"standardized_nudges_toxicity\":{\"value\":false},\"stateful_login_enabled\":{\"value\":true},\"subscriptions_blue_premium_labeling_enabled\":{\"value\":true},\"subscriptions_enabled\":{\"value\":true},\"subscriptions_feature_1002\":{\"value\":true},\"subscriptions_feature_1003\":{\"value\":true},\"subscriptions_feature_1005\":{\"value\":true},\"subscriptions_feature_1006\":{\"value\":false},\"subscriptions_feature_1007\":{\"value\":true},\"subscriptions_feature_1009\":{\"value\":true},\"subscriptions_feature_1011\":{\"value\":true},\"subscriptions_feature_labs_1001\":{\"value\":true},\"subscriptions_feature_labs_1004\":{\"value\":true},\"subscriptions_long_video_rweb_new_copy_enabled\":{\"value\":true},\"subscriptions_long_video_upload\":{\"value\":true},\"subscriptions_management_enabled\":{\"value\":true},\"subscriptions_marketing_page_refresh_enabled\":{\"value\":true},\"subscriptions_settings_item_enabled\":{\"value\":true},\"subscriptions_sign_up_enabled\":{\"value\":false},\"subscriptions_stripe_testing\":{\"value\":false},\"subscriptions_tab_customization_on_android_enabled\":{\"value\":true},\"subscriptions_top_articles_on_ios_enabled\":{\"value\":true},\"subscriptions_twitter_blue_logo_enabled\":{\"value\":true},\"super_follow_android_web_subscription_enabled\":{\"value\":false},\"super_follow_exclusive_tweet_creation_api_enabled\":{\"value\":true},\"super_follow_tweet_api_enabled\":{\"value\":true},\"super_follow_user_api_enabled\":{\"value\":true},\"super_follow_web_application_enabled\":{\"value\":false},\"super_follow_web_deactivate_enabled\":{\"value\":true},\"super_follow_web_debug_enabled\":{\"value\":false},\"super_follow_web_edit_perks_enabled\":{\"value\":true},\"super_follow_web_onboarding_enabled\":{\"value\":true},\"super_follow_web_rename_enabled\":{\"value\":false},\"targeted_project_friday_enabled\":{\"value\":false},\"topic_landing_page_clearer_controls_enabled\":{\"value\":true},\"topic_landing_page_cta_text\":{\"value\":\"control\"},\"topic_landing_page_share_enabled\":{\"value\":true},\"topics_context_controls_followed_variation\":{\"value\":\"see_more\"},\"topics_context_controls_implicit_context_x_enabled\":{\"value\":true},\"topics_context_controls_implicit_variation\":{\"value\":\"see_more\"},\"topics_context_controls_inline_prompt_enabled\":{\"value\":false},\"topics_discovery_page_enabled\":{\"value\":false},\"toxic_reply_filter_inline_callout_enabled\":{\"value\":false},\"toxic_reply_filter_settings_enabled\":{\"value\":false},\"traffic_rewrite_map\":{\"value\":[]},\"trusted_friends_audience_control_exp_variant\":{\"value\":\"control\"},\"trusted_friends_consumption_enabled\":{\"value\":true},\"trusted_friends_dash_discovery_enabled\":{\"value\":true},\"trusted_friends_tweet_creation_enabled\":{\"value\":true},\"tweet_limited_actions_config_community_tweet_community_deleted\":{\"value\":[\"add_to_bookmarks\",\"add_to_moment\",\"embed\",\"follow\",\"hide_community_tweet\",\"like\",\"lists_add_remove\",\"mute_conversation\",\"pin_to_profile\",\"quote_tweet\",\"react\",\"remove_from_community\",\"reply\",\"retweet\",\"send_via_dm\",\"share_tweet_via\",\"view_hidden_replies\",\"view_tweet_activity\",\"vote_on_poll\"]},\"tweet_limited_actions_config_community_tweet_community_not_found\":{\"value\":[\"add_to_bookmarks\",\"add_to_moment\",\"embed\",\"follow\",\"hide_community_tweet\",\"like\",\"lists_add_remove\",\"mute_conversation\",\"pin_to_profile\",\"quote_tweet\",\"react\",\"remove_from_community\",\"reply\",\"retweet\",\"send_via_dm\",\"share_tweet_via\",\"view_hidden_replies\",\"view_tweet_activity\",\"vote_on_poll\"]},\"tweet_limited_actions_config_community_tweet_community_suspended\":{\"value\":[\"add_to_bookmarks\",\"add_to_moment\",\"embed\",\"follow\",\"hide_community_tweet\",\"like\",\"lists_add_remove\",\"mute_conversation\",\"pin_to_profile\",\"quote_tweet\",\"react\",\"remove_from_community\",\"reply\",\"retweet\",\"send_via_dm\",\"share_tweet_via\",\"view_hidden_replies\",\"view_tweet_activity\",\"vote_on_poll\"]},\"tweet_limited_actions_config_community_tweet_hidden\":{\"value\":[\"add_to_bookmarks\",\"add_to_moment\",\"embed\",\"follow\",\"hide_community_tweet\",\"like\",\"lists_add_remove\",\"mute_conversation\",\"pin_to_profile\",\"quote_tweet\",\"react\",\"reply\",\"retweet\",\"send_via_dm\",\"share_tweet_via\",\"view_hidden_replies\",\"view_tweet_activity\",\"vote_on_poll\"]},\"tweet_limited_actions_config_community_tweet_member\":{\"value\":[\"embed\",\"pin_to_profile\",\"retweet\"]},\"tweet_limited_actions_config_community_tweet_member_removed\":{\"value\":[\"add_to_bookmarks\",\"add_to_moment\",\"embed\",\"follow\",\"hide_community_tweet\",\"like\",\"lists_add_remove\",\"mute_conversation\",\"pin_to_profile\",\"quote_tweet\",\"react\",\"remove_from_community\",\"reply\",\"retweet\",\"send_via_dm\",\"share_tweet_via\",\"view_hidden_replies\",\"view_tweet_activity\",\"vote_on_poll\"]},\"tweet_limited_actions_config_community_tweet_non_member\":{\"value\":[\"embed\",\"like\",\"pin_to_profile\",\"react\",\"reply\",\"reply_down_vote\",\"retweet\",\"share_tweet_via\",\"vote_on_poll\"]},\"tweet_limited_actions_config_disable_state_media_autoplay\":{\"value\":[\"autoplay\"]},\"tweet_limited_actions_config_dpa_enabled\":{\"value\":true},\"tweet_limited_actions_config_dynamic_product_ad\":{\"value\":[\"reply\",\"retweet\",\"quote_tweet\",\"share_tweet_via\",\"send_via_dm\",\"copy_link\",\"add_to_bookmarks\",\"like\"]},\"tweet_limited_actions_config_enabled\":{\"value\":true},\"tweet_limited_actions_config_limit_trusted_friends_tweet\":{\"value\":[\"retweet\",\"quote_tweet\",\"share_tweet_via\",\"send_via_dm\",\"copy_link\",\"view_tweet_activity\",\"embed\",\"add_to_moment\"]},\"tweet_limited_actions_config_non_compliant\":{\"value\":[\"reply\",\"retweet\",\"like\",\"react\",\"send_via_dm\",\"add_to_bookmarks\",\"add_to_moment\",\"pin_to_profile\",\"view_tweet_activity\",\"share_tweet_via\",\"copy_link\"]},\"tweet_limited_actions_config_skip_tweet_detail\":{\"value\":[\"reply\"]},\"tweet_limited_actions_config_skip_tweet_detail_enabled\":{\"value\":true},\"tweet_limited_actions_config_soft_nudge_with_quote_tweet\":{\"value\":[\"show_retweet_action_menu\"]},\"tweet_with_visibility_results_prefer_gql_limited_actions_policy_enabled\":{\"value\":false},\"tweetypie_unmention_optimization_enabled\":{\"value\":true},\"twitter_chat_communities_chat_enabled\":{\"value\":false},\"twitter_delegate_enabled\":{\"value\":false},\"ucpd_enabled\":{\"value\":true},\"unified_cards_ad_metadata_container_dynamic_card_content_query_enabled\":{\"value\":true},\"unified_cards_collection_ads_convert_to_image_website_card\":{\"value\":false},\"unified_cards_dpa_cta_button_enabled\":{\"value\":true},\"unified_cards_dpa_metadata_enabled\":{\"value\":true},\"unified_cards_dpa_placeholder_media_key\":{\"value\":[\"3_1485707239990054912\"]},\"unified_cards_follow_card_consumption_enabled\":{\"value\":true},\"user_display_name_max_limit\":{\"value\":50},\"verified_phone_label_enabled\":{\"value\":false},\"vibe_api_enabled\":{\"value\":true},\"vibe_tweet_context_enabled\":{\"value\":true},\"vod_attribution_tweet_detail_pivot_enabled\":{\"value\":true},\"voice_consumption_enabled\":{\"value\":true},\"voice_rooms_card_version\":{\"value\":2},\"voice_rooms_discovery_page_enabled\":{\"value\":false},\"voice_rooms_end_screen_participants\":{\"value\":true},\"voice_rooms_expanded_dock\":{\"value\":true},\"voice_rooms_expanded_dock_reactions\":{\"value\":true},\"voice_rooms_host_analytics_enabled\":{\"value\":true},\"voice_rooms_recent_search_audiospace_ring_enabled\":{\"value\":true},\"voice_rooms_replay_consumption\":{\"value\":true},\"voice_rooms_search_results_page_audiospace_ring_enabled\":{\"value\":false},\"voice_rooms_sharing_listening_data_with_followers_setting_enabled\":{\"value\":true},\"voice_rooms_speaking_enabled\":{\"value\":false},\"voice_rooms_typeahead_audiospace_ring_enabled\":{\"value\":true},\"web_video_bitrate_persistence_enabled\":{\"value\":false},\"web_video_caption_repositioning_enabled\":{\"value\":true},\"web_video_hls_android_mse_enabled\":{\"value\":true},\"web_video_hls_mp4_threshold_sec\":{\"value\":0},\"web_video_hls_variant_version\":{\"value\":\"1\"},\"web_video_hlsjs_version\":{\"value\":\"\"},\"web_video_playback_rate_enabled\":{\"value\":false},\"web_video_player_size_cap_disabled\":{\"value\":false},\"web_video_prefetch_playlist_autoplay_disabled\":{\"value\":false},\"web_video_transcribed_captions_enabled\":{\"value\":false}},\"impression_pointers\":{},\"impressions\":{},\"keysRead\":{},\"settingsVersion\":\"9d6c8acee1e79074fa8ecd4b0ad59017\",\"behavioralEventAllowlist\":{\"children\":{\"messages\":{\"children\":{\"message\":{\"children\":{\"card\":{\"children\":{\"community_card\":{\"children\":{\"click\":{\"isTerminal\":1},\"impress\":{\"isTerminal\":1}},\"isTerminal\":0}},\"isTerminal\":0}},\"isTerminal\":0}},\"isTerminal\":0},\"community\":{\"children\":{\"impress\":{\"isTerminal\":1},\"**\":{\"children\":{\"impress\":{\"isTerminal\":1},\"click\":{\"isTerminal\":1}},\"isTerminal\":0}},\"isTerminal\":0},\"notification\":{\"children\":{\"background\":{\"children\":{\"impress\":{\"isTerminal\":1}},\"isTerminal\":0}},\"isTerminal\":0},\"fullscreen_media\":{\"children\":{\"impress\":{\"isTerminal\":1}},\"isTerminal\":0},\"home\":{\"children\":{\"timeline\":{\"children\":{\"tweet\":{\"children\":{\"*\":{\"children\":{\"click\":{\"isTerminal\":1}},\"isTerminal\":0},\"avatar\":{\"children\":{\"click\":{\"isTerminal\":1}},\"isTerminal\":0},\"image\":{\"children\":{\"click\":{\"isTerminal\":1}},\"isTerminal\":0},\"click\":{\"isTerminal\":1},\"menu_control\":{\"children\":{\"*\":{\"children\":{\"click\":{\"isTerminal\":1}},\"isTerminal\":0}},\"isTerminal\":0},\"quote_tweet\":{\"children\":{\"image\":{\"children\":{\"click\":{\"isTerminal\":1}},\"isTerminal\":0}},\"isTerminal\":0},\"user\":{\"children\":{\"click\":{\"isTerminal\":1}},\"isTerminal\":0}},\"isTerminal\":0}},\"isTerminal\":0}},\"isTerminal\":0},\"profile\":{\"children\":{\"tweets_replies\":{\"children\":{\"impress\":{\"isTerminal\":1}},\"isTerminal\":0},\"impress\":{\"isTerminal\":1},\"*\":{\"children\":{\"click\":{\"isTerminal\":1},\"timeline\":{\"children\":{\"**\":{\"children\":{\"click\":{\"isTerminal\":1}},\"isTerminal\":0}},\"isTerminal\":0}},\"isTerminal\":0},\"likes\":{\"children\":{\"impress\":{\"isTerminal\":1}},\"isTerminal\":0},\"menu_control\":{\"children\":{\"*\":{\"children\":{\"click\":{\"isTerminal\":1}},\"isTerminal\":0}},\"isTerminal\":0},\"media\":{\"children\":{\"impress\":{\"isTerminal\":1}},\"isTerminal\":0},\"tweets\":{\"children\":{\"impress\":{\"isTerminal\":1}},\"isTerminal\":0}},\"isTerminal\":0},\"**\":{\"children\":{\"tap\":{\"isTerminal\":1},\"rules\":{\"children\":{\"impress\":{\"isTerminal\":1}},\"isTerminal\":0},\"click\":{\"isTerminal\":1}},\"isTerminal\":0},\"push_notification\":{\"children\":{\"background\":{\"children\":{\"dismiss\":{\"children\":{\"click\":{\"isTerminal\":1}},\"isTerminal\":0},\"click\":{\"isTerminal\":1},\"impress\":{\"isTerminal\":1}},\"isTerminal\":0}},\"isTerminal\":0},\"communities\":{\"children\":{\"**\":{\"children\":{\"click\":{\"isTerminal\":1},\"impress\":{\"isTerminal\":1}},\"isTerminal\":0},\"impress\":{\"isTerminal\":1}},\"isTerminal\":0},\"tweet_details\":{\"children\":{\"timeline\":{\"children\":{\"tweet\":{\"children\":{\"menu_control\":{\"children\":{\"*\":{\"children\":{\"click\":{\"isTerminal\":1}},\"isTerminal\":0}},\"isTerminal\":0},\"*\":{\"children\":{\"click\":{\"isTerminal\":1}},\"isTerminal\":0}},\"isTerminal\":0},\"focal_tweet\":{\"children\":{\"*\":{\"children\":{\"click\":{\"isTerminal\":1}},\"isTerminal\":0},\"menu_control\":{\"children\":{\"*\":{\"children\":{\"click\":{\"isTerminal\":1}},\"isTerminal\":0}},\"isTerminal\":0}},\"isTerminal\":0}},\"isTerminal\":0},\"impress\":{\"isTerminal\":1}},\"isTerminal\":0},\"fullscreen_image\":{\"children\":{\"impress\":{\"isTerminal\":1}},\"isTerminal\":0}}}}},\"typeaheadUsers\":{\"fetchStatus\":\"none\",\"users\":{},\"denylist\":{},\"lastUpdated\":0,\"index\":{}},\"altTextPromptPreference\":{\"fetchStatus\":\"none\",\"updateStatus\":\"none\"},\"settings\":{\"local\":{\"nextPushCheckin\":0,\"shouldAutoPlayGif\":false,\"scale\":\"normal\",\"themeColor\":\"blue500\",\"highContrastEnabled\":false,\"themeBackground\":\"light\",\"loginPromptLastShown\":0,\"reducedMotionEnabled\":false,\"showTweetMediaDetailDrawer\":true,\"autoPollNewTweets\":false,\"shouldAutoTagLocation\":false,\"undoPreview\":{},\"replyVotingSurveyClicked\":0,\"pushNotificationsPermission\":null},\"remote\":{\"settings\":{\"display_sensitive_media\":false},\"fetchStatus\":\"none\"},\"dataSaver\":{\"dataSaverMode\":false},\"transient\":{\"dtabBarInfo\":{\"hide\":false},\"loginPromptShown\":false,\"lastViewedDmInboxPath\":\"/messages\",\"themeFocus\":\"\"}},\"devices\":{\"browserPush\":{\"fetchStatus\":\"none\",\"pushNotificationsPrompt\":{\"dismissed\":false,\"fetchStatus\":\"none\"},\"subscribed\":false,\"supported\":null},\"devices\":{\"data\":{\"emails\":[],\"phone_numbers\":[]},\"fetchStatus\":\"none\"},\"notificationSettings\":{\"push_settings\":{\"error\":null,\"fetchStatus\":\"none\"},\"push_settings_template\":{\"template\":{\"settings\":[]}},\"checkin_time\":null}},\"toasts\":[],\"educationFlags\":{},\"userClaim\":{\"config\":{\"subscriptions\":{},\"features\":{}},\"debug\":{},\"fetchStatus\":\"none\"},\"subscriptionProductFeatures\":{\"data\":{},\"fetchStatus\":\"none\"},\"session\":{\"country\":\"MX\",\"isActiveCreator\":false,\"isRestrictedSession\":false,\"guestId\":\"166758649299563326\",\"hasCommunityMemberships\":false,\"language\":\"en\",\"oneFactorLoginEligibility\":{\"fetchStatus\":\"none\"},\"ssoInitTokens\":{}},\"conversationFollowNudge\":{\"conversationIdMap\":{}},\"urt\":{},\"visibilityResults\":{\"tweets\":{}},\"navigation\":{},\"mediaUpload\":[],\"directMessages\":{\"conversations\":{},\"entries\":{\"entries\":{},\"entryIdsByConversationId\":{},\"reactionsByMessageId\":{}},\"inbox\":{\"cursors\":{\"inbox\":{\"fetchStatus\":\"none\"},\"trusted\":{\"fetchStatus\":\"none\"},\"untrusted\":{\"fetchStatus\":\"none\"},\"untrusted_low_quality\":{\"fetchStatus\":\"none\"}},\"lastSeenEventIds\":{},\"poppedOutConversationId\":null,\"drawerVisibility\":\"collapsed\"},\"search\":{\"searchResults\":{},\"recentSearches\":[]},\"updates\":{\"isLoaded\":false,\"isLoading\":false}},\"homeTimeline\":{\"fetchStatus\":\"none\",\"selectedTimeline\":{\"type\":\"home\"},\"useLatest\":false},\"audio\":{\"conversationLookup\":{}},\"multiAccount\":{\"fetchStatus\":\"none\",\"users\":[],\"badgeCounts\":{},\"addAccountFetchStatus\":\"none\"},\"hashflags\":{\"fetchStatus\":\"none\",\"hashflags\":{\"brandedHashtags\":{},\"brandedLikes\":{}}},\"teams\":{\"fetchStatus\":\"none\",\"teams\":{}},\"ssrExperiments\":{}};window.__META_DATA__={\"env\":\"prod\",\"isCanary\":false,\"sha\":\"85e1d866fbfc2b3b00c42c2f4495f5b0efa137dd\",\"isLoggedIn\":false,\"hasMultiAccountCookie\":false,\"uaParserTags\":[\"m2\",\"rweb_unsupported\",\"msw\"],\"serverDate\":1667586493057,\"cookies\":{\"version\":\"1661819456366\",\"fetchedTime\":1661971138705,\"categories\":{\"2\":[\"Authorization\",\"DECLINED_DATE\",\"LAST_INVITATION_VIEW\",\"NEW_SUBSCRIPTION_ACCOUNT\",\"SUBMITTED_DATE\",\"_ep_sess\",\"_mb_tk\",\"_sl\",\"_support_session\",\"_ttc_session\",\"_twitter_sess\",\"aa_u\",\"ab_decider\",\"ads_prefs\",\"aem-lang-preference\",\"app_shell_visited\",\"att\",\"auth_multi\",\"auth_token\",\"backendDataInSessionFlag\",\"bouncer_reset_cookie\",\"cd_user_id\",\"client_token\",\"cms-csp-nonce\",\"co\",\"connect.sid\",\"cookies_enabled\",\"csrf_id\",\"csrf_same_site\",\"csrf_same_site_set\",\"csrftoken\",\"ct0\",\"d_prefs\",\"daa\",\"dnt\",\"dtab_local\",\"email_read_only\",\"email_uid\",\"eu_cn\",\"fm\",\"form-lead-gen\",\"gscr\",\"gt\",\"guest_id\",\"kampyleInvitePresented\",\"kampyleSessionPageCounter\",\"kampyleUserPercentile\",\"kampyleUserSessionCount\",\"kampyleUserSessionsCount\",\"kampyle_userid\",\"kdt\",\"lang\",\"lang-preference\",\"language\",\"lastOwnerId\",\"lscr\",\"lv-ctx-\",\"lv-ctx-zzz*\",\"lv-uid\",\"m_session\",\"mdLogger\",\"md_isSurveySubmittedInSession\",\"messages\",\"mobile_ads_stat_type\",\"mobile_ads_time_interval\",\"momentmaker.tos.accepted*\",\"muc\",\"night_mode\",\"request_method\",\"scroll0\",\"scroll1\",\"sessionid\",\"shopify_app_session\",\"shopify_app_session.sig\",\"signup_ui_metrics\",\"ssa-calendar-signup\",\"studio_account\",\"timezone\",\"tooltip\",\"tweetdeck_version\",\"twid\",\"ui_metrics\",\"user_id\",\"zipbox_auth_token\",\"zipbox_forms_auth_token\"]}}};</script><script id=\"nonce-csp\" nonce=\"YmExNDEzNzItY2UyYy00MTc0LTgzNzItYWJkOGI5NTkzZjdi\"></script><script charset=\"utf-8\" nonce=\"YmExNDEzNzItY2UyYy00MTc0LTgzNzItYWJkOGI5NTkzZjdi\" type=\"text/javascript\">window.__SCRIPTS_LOADED__ = {};(()=>{\"use strict\";var e,d,n,a,o,r={},i={};function l(e){var d=i[e];if(void 0!==d)return d.exports;var n=i[e]={id:e,loaded:!1,exports:{}};return r[e].call(n.exports,n,n.exports,l),n.loaded=!0,n.exports}l.m=r,l.amdO={},e=[],l.O=(d,n,a,o)=>{if(!n){var r=1/0;for(u=0;u<e.length;u++){for(var[n,a,o]=e[u],i=!0,t=0;t<n.length;t++)(!1&o||r>=o)&&Object.keys(l.O).every((e=>l.O[e](n[t])))?n.splice(t--,1):(i=!1,o<r&&(r=o));if(i){e.splice(u--,1);var s=a();void 0!==s&&(d=s)}}return d}o=o||0;for(var u=e.length;u>0&&e[u-1][2]>o;u--)e[u]=e[u-1];e[u]=[n,a,o]},l.n=e=>{var d=e&&e.__esModule?()=>e.default:()=>e;return l.d(d,{a:d}),d},n=Object.getPrototypeOf?e=>Object.getPrototypeOf(e):e=>e.__proto__,l.t=function(e,a){if(1&a&&(e=this(e)),8&a)return e;if(\"object\"==typeof e&&e){if(4&a&&e.__esModule)return e;if(16&a&&\"function\"==typeof e.then)return e}var o=Object.create(null);l.r(o);var r={};d=d||[null,n({}),n([]),n(n)];for(var i=2&a&&e;\"object\"==typeof i&&!~d.indexOf(i);i=n(i))Object.getOwnPropertyNames(i).forEach((d=>r[d]=()=>e[d]));return r.default=()=>e,l.d(o,r),o},l.d=(e,d)=>{for(var n in d)l.o(d,n)&&!l.o(e,n)&&Object.defineProperty(e,n,{enumerable:!0,get:d[n]})},l.f={},l.e=e=>Promise.all(Object.keys(l.f).reduce(((d,n)=>(l.f[n](e,d),d)),[])),l.u=e=>e+\".\"+{\"bundle.NetworkInstrument\":\"eb00293\",\"loader.HoverCard\":\"c099655\",\"ondemand.Dropdown\":\"96393b3\",\"ondemand.ModelViewer\":\"556f9f5\",\"loader.graphQLDarkReads\":\"9109b11\",\"shared~bundle.Conversation\":\"1954e3f\",\"shared~loader.AudioDock~loader.DMDrawer~bundle.AudioSpacePeek~bundle.AudioSpaceAnalytics~bundle.AudioSpaceRep\":\"944bf20\",\"shared~loader.AudioDock~bundle.AudioSpacePeek~bundle.AudioSpaceAnalytics~bundle.AudioSpaceReport~bundle.Birdw\":\"cebaba7\",\"loader.AudioDock\":\"7d8e8cb\",\"loader.richScribeAction\":\"60d7617\",\"shared~loader.DashMenu~bundle.Account\":\"47aa0a7\",\"loader.DashMenu\":\"3fba832\",\"shared~bundle.Articles~bundle.AudioSpaceDetail~bundle.AudioSpaceDiscovery~bundle.AudioSpacebarScreen~bundle.B\":\"bbd7684\",\"shared~bundle.AudioSpaceDetail~bundle.AudioSpaceDiscovery~bundle.AudioSpacebarScreen~bundle.Birdwatch~bundle.\":\"b6dc54e\",\"shared~bundle.Birdwatch~bundle.Compose~bundle.RichTextCompose~bundle.Settings~bundle.Display~bundle.Ocf~bundl\":\"a6bd63c\",\"shared~loader.DMDrawer~bundle.DirectMessages~bundle.Notifications\":\"1fbb5bd\",\"bundle.Notifications\":\"a132913\",\"loader.NewTweetsPill\":\"b7986e5\",\"loader.SideNav\":\"83d11a3\",\"shared~loader.Typeahead~loader.DMDrawer~bundle.MultiAccount~bundle.AudioSpaceDiscovery~bundle.Birdwatch~bundl\":\"d18b515\",\"shared~loader.Typeahead~loader.DMDrawer~bundle.AudioSpaceDiscovery~bundle.Communities~bundle.Compose~bundle.R\":\"0b294f2\",\"shared~loader.Typeahead~loader.DMDrawer~bundle.Communities~bundle.Compose~bundle.RichTextCompose~bundle.Deleg\":\"9add300\",\"shared~loader.Typeahead~loader.DMDrawer~bundle.Communities~bundle.Delegate~bundle.DirectMessages~bundle.DMRic\":\"cb15b14\",\"shared~loader.Typeahead~bundle.Communities~bundle.Delegate~bundle.Ocf~bundle.LoggedOutHome~bundle.Search~bund\":\"b122159\",\"shared~loader.Typeahead~bundle.LoggedOutHome~bundle.Search\":\"a8bb1ae\",\"loader.Typeahead\":\"a47c98e\",\"shared~loader.AppModules~bundle.LoggedOutHome~bundle.Search\":\"cfa1a70\",\"loader.AppModules\":\"89ff56f\",\"ondemand.BranchSdk\":\"0e8ba43\",\"shared~loader.DMDrawer~bundle.Compose~bundle.RichTextCompose~bundle.AccountVerification~bundle.SettingsProfil\":\"8fd5b79\",\"shared~loader.DMDrawer~bundle.Compose~bundle.RichTextCompose~bundle.DirectMessages~bundle.DMRichTextCompose~b\":\"9cc2ddc\",\"shared~loader.DMDrawer~bundle.Compose~bundle.RichTextCompose~bundle.DMRichTextCompose~bundle.DirectMessages~b\":\"b8be614\",\"shared~loader.DMDrawer~bundle.DMRichTextCompose~bundle.DirectMessages\":\"bd490bb\",\"shared~loader.DMDrawer~bundle.DirectMessages~bundle.DMRichTextCompose\":\"5235937\",\"shared~loader.DMDrawer~bundle.DirectMessages\":\"b56f6a3\",\"loader.DMDrawer\":\"a0fd202\",\"bundle.AboutThisAd\":\"9a35130\",\"bundle.NotMyAccount\":\"efde697\",\"bundle.Account\":\"4b92118\",\"shared~bundle.MultiAccount~bundle.Birdwatch~bundle.BookmarkFolders~bundle.Communities~ondemand.ComposeSchedul\":\"f466a8a\",\"bundle.MultiAccount\":\"885afc7\",\"bundle.Articles\":\"ced7954\",\"bundle.AudioSpaceDetail\":\"4658b65\",\"shared~bundle.AudioSpacePeek~bundle.Communities~ondemand.CommunityHandler\":\"c6f2c9e\",\"bundle.AudioSpacePeek\":\"fe8ab34\",\"bundle.AudioSpaceDiscovery\":\"5951fce\",\"bundle.AudioSpaceAnalytics\":\"43f4503\",\"bundle.AudioSpaceReport\":\"21e77fc\",\"bundle.AudioSpacebarScreen\":\"88fade7\",\"shared~bundle.Birdwatch~ondemand.inlineTombstoneHandler~ondemand.tweetHandler\":\"1dd980b\",\"shared~bundle.Birdwatch~bundle.Explore~bundle.Topics\":\"c930b07\",\"bundle.Birdwatch\":\"323de03\",\"shared~bundle.BookmarkFolders~bundle.TwitterArticles\":\"9d04429\",\"bundle.BookmarkFolders\":\"e82aff4\",\"bundle.Bookmarks\":\"47a1973\",\"src_app_screens_BrandedLikesPreview_index_js-modules_horizon-web_src_exports_Reaction_tempAss-ae55df\":\"7807a75\",\"shared~bundle.LiveEvent~ondemand.MomentSummaryHandler\":\"b9ba78a\",\"bundle.LiveEvent\":\"06e3df3\",\"bundle.Collection\":\"e49ee20\",\"shared~bundle.Communities~bundle.ComposeMedia~ondemand.SettingsInternals~ondemand.SettingsRevamp~bundle.Setti\":\"1eb3793\",\"shared~bundle.Communities~bundle.ComposeMedia~bundle.SettingsProfile~bundle.Ocf~bundle.TwitterArticles~bundle\":\"6477491\",\"shared~bundle.Communities~bundle.SettingsProfessionalProfileProfileSpotlight~bundle.SettingsProfessionalProfi\":\"d988323\",\"shared~bundle.Communities~bundle.UserLists\":\"418fc94\",\"bundle.Communities\":\"5f296ec\",\"bundle.CommunitySSR\":\"6117372\",\"shared~bundle.Compose~bundle.RichTextCompose~bundle.Ocf~bundle.PlainTextCompose\":\"fd0c88b\",\"shared~bundle.Compose~bundle.RichTextCompose~bundle.PlainTextCompose\":\"7fad139\",\"shared~bundle.Compose~bundle.RichTextCompose\":\"4f6a9af\",\"bundle.Compose\":\"883b375\",\"shared~bundle.ComposeMedia~bundle.TwitterArticles\":\"07d7dae\",\"bundle.ComposeMedia\":\"4bd97be\",\"shared~ondemand.ComposeScheduling~bundle.SettingsProfessionalProfileLocationSpotlight\":\"5fb875b\",\"ondemand.ComposeScheduling\":\"dce1a10\",\"shared~bundle.RichTextCompose~bundle.DMRichTextCompose~bundle.TwitterArticles~ondemand.RichText\":\"747effc\",\"bundle.RichTextCompose\":\"b59a53e\",\"bundle.ConnectTab\":\"a3908c5\",src_app_screens_ConversationFollowNudge_index_js:\"1c38b26\",\"bundle.CustomTimelineTools\":\"173c83a\",\"shared~bundle.Delegate~ondemand.SettingsRevamp~ondemand.SettingsInternals~ondemand.SensitiveMediaSettings~bun\":\"5e9e503\",\"bundle.Delegate\":\"34229ca\",\"shared~bundle.AccountVerification~bundle.BadgeViolationsNotification~bundle.SettingsRevamp\":\"66a9eb2\",\"shared~bundle.AccountVerification~bundle.TwitterArticles\":\"a632539\",\"bundle.AccountVerification\":\"adcc0d8\",\"shared~ondemand.SettingsInternals~bundle.SettingsRevamp~bundle.SettingsTransparency\":\"5b955a6\",\"shared~ondemand.SettingsInternals~ondemand.SettingsRevamp\":\"f5bd623\",\"ondemand.SettingsInternals\":\"d54ac22\",\"shared~ondemand.SettingsRevamp~ondemand.SettingsMonetization~ondemand.SettingsSuperFollows~bundle.SuperFollow\":\"d416394\",\"shared~ondemand.SettingsRevamp~ondemand.SettingsMonetization\":\"cc45b35\",\"ondemand.SettingsRevamp\":\"5458312\",\"bundle.AccountAutomation\":\"69d04a1\",\"shared~bundle.Settings~bundle.Display\":\"079eaef\",\"shared~bundle.Settings~bundle.SettingsRevamp\":\"7f85df1\",\"bundle.Settings\":\"d922a05\",\"bundle.SettingsInternals\":\"93489b3\",\"shared~bundle.SettingsProfile~bundle.Ocf\":\"a400eac\",\"bundle.SettingsProfile\":\"9fbb8a1\",\"ondemand.SensitiveMediaSettings\":\"81743fa\",\"shared~ondemand.SettingsMonetization~ondemand.SettingsSuperFollows~bundle.SuperFollowsSubscribe\":\"93d47a0\",\"shared~ondemand.SettingsMonetization~ondemand.SettingsSuperFollows\":\"93fc43a\",\"ondemand.SettingsMonetization\":\"5d50200\",\"ondemand.SettingsSuperFollows\":\"5c0b6ac\",\"shared~bundle.DirectMessages~bundle.TweetMediaDetail~bundle.UserAvatar~bundle.UserNft\":\"9aaff8d\",\"shared~bundle.DMRichTextCompose~bundle.DirectMessages\":\"5978042\",\"bundle.DirectMessages\":\"a4964ad\",\"bundle.DMRichTextCompose\":\"f98e62d\",\"bundle.Display\":\"a72f6cf\",\"bundle.Explore\":\"4666cab\",\"bundle.GenericTimeline\":\"c57fb34\",\"shared~bundle.GifSearch~bundle.TwitterArticles\":\"940e4f3\",\"bundle.GifSearch\":\"c3eb8a4\",\"bundle.KeyboardShortcuts\":\"13e39f0\",\"bundle.HomeTimeline\":\"97f8d84\",\"shared~bundle.Login~bundle.Ocf\":\"50fd54c\",\"bundle.Login\":\"4d7e97d\",\"bundle.SmsLogin\":\"e598edc\",\"bundle.Logout\":\"0965b01\",\"bundle.MomentMaker\":\"1754732\",\"ondemand.ReactBeautifulDnd\":\"77aaddc\",\"bundle.NewsLanding\":\"877aa26\",\"bundle.Newsletters\":\"d4e63d4\",\"bundle.BadgeViolationsNotification\":\"8e9f668\",\"bundle.Twitterversary\":\"4b87845\",\"bundle.NotificationDetail\":\"38f5616\",\"bundle.OAuth\":\"d584752\",\"bundle.Ocf\":\"86e647a\",\"bundle.Place\":\"f44d4ce\",\"bundle.SettingsProfessionalProfile\":\"450f7cd\",\"shared~bundle.SettingsProfessionalProfileProfileSpotlight~bundle.SettingsProfessionalProfileLocationSpotlight\":\"4f4b590\",\"bundle.SettingsProfessionalProfileProfileSpotlight\":\"6460a7a\",\"bundle.SettingsProfessionalProfileLocationSpotlight\":\"e6da80e\",\"bundle.SettingsProfessionalProfileMobileAppSpotlight\":\"71799b6\",\"bundle.SettingsProfessionalProfileCommunitiesSpotlight\":\"ef432de\",\"bundle.ProfessionalHome\":\"315cbf9\",\"shared~bundle.ReaderMode~bundle.TweetMediaDetail~bundle.ImmersiveMediaViewer\":\"ac72b88\",\"bundle.ReaderMode\":\"ed9bb15\",\"bundle.Report\":\"d85c2ce\",\"shared~bundle.ReportCenter~bundle.SafetyCenter\":\"60fb9b2\",\"bundle.ReportCenter\":\"aa6a00b\",\"bundle.SafetyCenter\":\"9030137\",\"shared~bundle.LoggedOutHome~bundle.Search\":\"3fda916\",\"bundle.LoggedOutHome\":\"a251c99\",\"bundle.SafetyModeModal\":\"6ad396d\",\"bundle.Search\":\"7d35f68\",\"bundle.AdvancedSearch\":\"1871f98\",\"bundle.SettingsRevamp\":\"8800ab8\",\"bundle.SettingsTransparency\":\"137402c\",\"bundle.Download\":\"b37d4e0\",\"bundle.Topics\":\"1652450\",\"bundle.ExploreTopics\":\"a797f09\",\"bundle.Trends\":\"b2eca8b\",\"bundle.TrustedFriendsManagement\":\"134190e\",\"bundle.TrustedFriendsRedirect\":\"917b9cb\",\"bundle.Conversation\":\"a626534\",\"bundle.ConversationWithRelay\":\"79d29f6\",\"bundle.TweetMediaTags\":\"8410568\",\"bundle.ConversationParticipants\":\"cb1df86\",\"shared~bundle.TweetMediaDetail~bundle.ImmersiveMediaViewer\":\"4545e44\",\"bundle.TweetMediaDetail\":\"ae9a442\",\"bundle.ImmersiveMediaViewer\":\"373b9ac\",\"bundle.TweetEditHistory\":\"76b2205\",\"bundle.QuoteTweetActivity\":\"6985347\",\"bundle.TweetActivity\":\"89c64ed\",\"bundle.TweetActivityReactions\":\"724b79f\",\"bundle.TwitterArticles\":\"3b46069\",\"bundle.TwitterBluePaymentFailureFix\":\"cfe63a8\",\"bundle.TwitterBlue\":\"9ac0f35\",\"bundle.Moment\":\"acc82ec\",\"shared~bundle.UserLists~ondemand.HoverCard\":\"7ece191\",\"bundle.UserLists\":\"d630942\",\"shared~ondemand.EditPinned~ondemand.EventSummaryHandler~ondemand.TileHandler~ondemand.ListHandler\":\"c456134\",\"shared~ondemand.EditPinned~ondemand.ListHandler\":\"d1d6a24\",\"ondemand.EditPinned\":\"b8f4d1d\",\"bundle.UserMoments\":\"8784552\",\"bundle.UserAvatar\":\"1d8cf02\",\"bundle.UserNft\":\"cca2ad8\",\"bundle.UserRedirect\":\"b507863\",\"bundle.SuperFollowsManage\":\"0a7c41d\",\"bundle.FollowerRequests\":\"c5dab85\",\"bundle.ProfileRedirect\":\"12ea424\",\"bundle.SuperFollowsSubscribe\":\"ef07980\",\"bundle.UserFollowLists\":\"8f0ff1a\",\"bundle.UserProfile\":\"0d43dc7\",\"ondemand.StaticAssets\":\"9019d22\",\"loader.LoggedOutNotifications\":\"b14c454\",\"shared~ondemand.EmojiPickerData~ondemand.ParticipantReaction~ondemand.EmojiPicker\":\"e84fed7\",\"shared~loaders.video.VideoPlayerDefaultUI~loaders.video.VideoPlayerHashtagHighlightUI~loaders.video.VideoPlay\":\"602b8bc\",\"shared~loaders.video.VideoPlayerDefaultUI~loaders.video.VideoPlayerEventsUI~loaders.video.VideoPlayerPrerollU\":\"b48f66b\",\"shared~loaders.video.VideoPlayerDefaultUI~loaders.video.VideoPlayerEventsUI\":\"ed13ddc\",\"shared~loaders.video.VideoPlayerDefaultUI~loaders.video.VideoPlayerPrerollUI\":\"7c7f9ef\",\"loaders.video.VideoPlayerDefaultUI\":\"9e926cb\",\"loaders.video.VideoPlayerHashtagHighlightUI\":\"fe20ca5\",\"ondemand.HoverCard\":\"1744105\",\"loader.AudioContextSpaceClip\":\"7cc70d8\",\"loader.AudioContextSpaceMedia\":\"aa70059\",\"loader.AudioContextVoiceMedia\":\"00b94da\",\"shared~ondemand.InlinePlayer~loader.AudioOnlyVideoPlayer~ondemand.immersiveTweetHandler\":\"9aae92f\",\"ondemand.InlinePlayer\":\"a221640\",\"ondemand.video.PlayerHls1.2\":\"14782b6\",\"loaders.video.PlayerHls1.1\":\"4b54ae5\",\"loaders.video.VideoPlayerMiniUI\":\"787f564\",\"ondemand.emoji.ar\":\"403a4be\",\"ondemand.emoji.ar-x-fm\":\"2448e41\",\"ondemand.emoji.bg\":\"dae4f0d\",\"ondemand.emoji.bn\":\"4b15463\",\"ondemand.emoji.ca\":\"768790b\",\"ondemand.emoji.cs\":\"120e3ec\",\"ondemand.emoji.da\":\"6a3e439\",\"ondemand.emoji.de\":\"7562e19\",\"ondemand.emoji.el\":\"a950175\",\"ondemand.emoji.en\":\"4ba28d1\",\"ondemand.emoji.en-GB\":\"5b56793\",\"ondemand.emoji.en-ss\":\"2613bcf\",\"ondemand.emoji.en-xx\":\"5d96eda\",\"ondemand.emoji.es\":\"1f667e7\",\"ondemand.emoji.eu\":\"b66a41a\",\"ondemand.emoji.fa\":\"a2e826f\",\"ondemand.emoji.fi\":\"53c3b4b\",\"ondemand.emoji.fil\":\"a31bbb4\",\"ondemand.emoji.fr\":\"8fd472f\",\"ondemand.emoji.ga\":\"30f1394\",\"ondemand.emoji.gl\":\"0aaca9b\",\"ondemand.emoji.gu\":\"6e2acf9\",\"ondemand.emoji.ha\":\"e3e46b4\",\"ondemand.emoji.he\":\"113809a\",\"ondemand.emoji.hi\":\"9ff05d0\",\"ondemand.emoji.hr\":\"5e6b7fb\",\"ondemand.emoji.hu\":\"7b1f640\",\"ondemand.emoji.id\":\"9bc9eee\",\"ondemand.emoji.ig\":\"efeddcd\",\"ondemand.emoji.it\":\"e984241\",\"ondemand.emoji.ja\":\"95e2cb8\",\"ondemand.emoji.kn\":\"59c14d6\",\"ondemand.emoji.ko\":\"83cc481\",\"ondemand.emoji.mr\":\"4c6ed4b\",\"ondemand.emoji.ms\":\"2b05c95\",\"ondemand.emoji.nb\":\"733e584\",\"ondemand.emoji.nl\":\"2d4e79d\",\"ondemand.emoji.pl\":\"142b12c\",\"ondemand.emoji.pt\":\"ce795ed\",\"ondemand.emoji.ro\":\"52c8fea\",\"ondemand.emoji.ru\":\"cbaddfe\",\"ondemand.emoji.sk\":\"f23be23\",\"ondemand.emoji.sr\":\"69aa42b\",\"ondemand.emoji.sv\":\"be8da04\",\"ondemand.emoji.ta\":\"0244da4\",\"ondemand.emoji.th\":\"8b19587\",\"ondemand.emoji.tr\":\"9dadcf4\",\"ondemand.emoji.uk\":\"c7ca698\",\"ondemand.emoji.ur\":\"21d1b0f\",\"ondemand.emoji.vi\":\"84755c4\",\"ondemand.emoji.yo\":\"f35b276\",\"ondemand.emoji.zh\":\"97a498b\",\"ondemand.emoji.zh-Hant\":\"ff9bbcd\",\"ondemand.ParticipantReaction\":\"9331f06\",\"loader.AudioOnlyVideoPlayer\":\"b10a542\",\"loader.WideLayout\":\"55f8b73\",\"loader.AbsolutePower\":\"d6b165a\",\"ondemand.LottieWeb\":\"c65896b\",\"loader.TimelineRenderer\":\"fb1a4c4\",\"ondemand.DividerHandler\":\"3e1d890\",\"ondemand.TombstonedEntryHandler\":\"6fca99f\",\"ondemand.ArticleHandler\":\"9c332b7\",\"ondemand.collectionHeaderHandler\":\"4319c35\",\"ondemand.CommunityHandler\":\"40d384f\",\"ondemand.EventSummaryHandler\":\"ff519ce\",\"ondemand.InlinePromptHandler\":\"772ce8c\",\"ondemand.TransparentLabelHandler\":\"592435d\",\"ondemand.LabelHandler\":\"b8ed4eb\",\"ondemand.MomentAnnotationHandler\":\"4c9c2e1\",\"ondemand.MomentSummaryHandler\":\"ee7f118\",\"ondemand.newsArticleHandler\":\"01e0b76\",\"ondemand.newsPreviewHandler\":\"f140628\",\"ondemand.NotificationHandler\":\"03614a2\",\"ondemand.ScoreEventSummaryHandler\":\"70e68ed\",\"ondemand.TimelineCardHandler\":\"aa418ab\",\"ondemand.topicHandler\":\"5cc17dc\",\"ondemand.TopicFollowPromptHandler\":\"38f1be2\",\"ondemand.topicLandingHeaderHandler\":\"4a37855\",\"ondemand.TrendHandler\":\"06c29a3\",\"ondemand.VerticalGridItemHandler\":\"c8a4ced\",\"ondemand.MessageHandler\":\"d8e428e\",\"ondemand.PagedCarouselItemHandler\":\"8331522\",\"ondemand.RelatedSearchHandler\":\"b10186a\",\"ondemand.selfThreadTweetComposerHandler\":\"2580aaa\",\"ondemand.spellingHandler\":\"3a7f413\",\"ondemand.ThreadHeaderHandler\":\"e5dead0\",\"ondemand.TileHandler\":\"093f676\",\"ondemand.GapHandler\":\"cad43f9\",\"ondemand.IconLabelHandler\":\"56e96a2\",\"ondemand.ListHandler\":\"2707023\",\"ondemand.newsEntriesGapHandler\":\"b8486cc\",\"ondemand.promptHandler\":\"c2caf37\",\"ondemand.CarouselTimelineHandler\":\"37d99b1\",\"ondemand.ConversationGapHandler\":\"c867be7\",\"ondemand.FooterLoader\":\"1bd76a0\",\"ondemand.ModuleHeader\":\"1251481\",\"ondemand.ImpressionPlaceholderHandler\":\"116cbdf\",\"ondemand.ShowMoreHandler\":\"f488a0c\",\"ondemand.VerticalGridListHandler\":\"1d35a30\",\"ondemand.VerticalGridRowHandler\":\"58afc14\",\"shared~ondemand.inlineTombstoneHandler~ondemand.tweetHandler\":\"f1524a0\",\"ondemand.inlineTombstoneHandler\":\"f491272\",\"ondemand.tweetUnavailableTombstoneHandler\":\"cc0ffc5\",\"ondemand.disconnectedRepliesTombstoneHandler\":\"f3d600a\",\"ondemand.tweetHandler\":\"07d615b\",\"ondemand.unsupportedHandler\":\"0666f13\",\"ondemand.UserHandler\":\"53f0d2d\",\"shared~loader.AudioSpacebar~loader.SidebarSpacebar\":\"fb223da\",\"loader.AudioSpacebar\":\"806f104\",\"loader.SidebarSpacebar\":\"cac0cb7\",\"loader.ExploreSidebar\":\"76fa9da\",\"loader.SignupModule\":\"2d0d1f6\",\"loader.FeedbackSheet\":\"7dc93f7\",\"ondemand.RichText\":\"3881d94\",\"loader.PushNotificationsPrompt\":\"2986f1f\",\"ondemand.EmojiPicker\":\"934ab70\",\"loader.MediaPreviewVideoPlayer\":\"76843b1\",\"ondemand.AudioSpacebar.Mocks\":\"049ca69\",\"ondemand.inertPolyfill\":\"0a8d7ff\",\"loader.PreviewActions\":\"4ae3553\",\"ondemand.IntentPrompt\":\"6c644a4\",\"loader.TweetCurationActionMenu\":\"1442780\",\"ondemand.PivotLabelHandler\":\"e93d015\",\"loaders.video.VideoPlayerEventsUI\":\"a41be4f\",\"loader.MediaPickerWithPreview\":\"c1ed74e\",\"ondemand.countries-ar\":\"2b87b48\",\"ondemand.countries-bg\":\"cd550a0\",\"ondemand.countries-bn\":\"9fff155\",\"ondemand.countries-ca\":\"6d04487\",\"ondemand.countries-cs\":\"204041e\",\"ondemand.countries-da\":\"03046f1\",\"ondemand.countries-de\":\"0eac749\",\"ondemand.countries-el\":\"6ae9483\",\"ondemand.countries-en-GB\":\"97ed6c4\",\"ondemand.countries-en\":\"22818c8\",\"ondemand.countries-es\":\"00e3a7f\",\"ondemand.countries-eu\":\"ba65710\",\"ondemand.countries-fa\":\"0eaa8e0\",\"ondemand.countries-fi\":\"6200ea0\",\"ondemand.countries-fil\":\"593198c\",\"ondemand.countries-fr\":\"5898610\",\"ondemand.countries-ga\":\"49d9ad4\",\"ondemand.countries-gl\":\"75b3533\",\"ondemand.countries-gu\":\"698a8d4\",\"ondemand.countries-he\":\"d2ec221\",\"ondemand.countries-hi\":\"51b0c9a\",\"ondemand.countries-hr\":\"25d6436\",\"ondemand.countries-hu\":\"1927264\",\"ondemand.countries-id\":\"eff3ec0\",\"ondemand.countries-ig\":\"8027976\",\"ondemand.countries-it\":\"59b2d5c\",\"ondemand.countries-ja\":\"c6b7973\",\"ondemand.countries-kn\":\"6e65b3d\",\"ondemand.countries-ko\":\"69c6ea0\",\"ondemand.countries-mr\":\"5efa902\",\"ondemand.countries-ms\":\"2674dd6\",\"ondemand.countries-nb\":\"329cc6e\",\"ondemand.countries-nl\":\"6490108\",\"ondemand.countries-pl\":\"6c28efd\",\"ondemand.countries-pt\":\"e7ef9b7\",\"ondemand.countries-ro\":\"abc0ba8\",\"ondemand.countries-ru\":\"e3c9df9\",\"ondemand.countries-sk\":\"59aec01\",\"ondemand.countries-sr\":\"772e835\",\"ondemand.countries-sv\":\"c059190\",\"ondemand.countries-ta\":\"d03ec55\",\"ondemand.countries-th\":\"f6b8ad3\",\"ondemand.countries-tr\":\"30d1a36\",\"ondemand.countries-uk\":\"d174f36\",\"ondemand.countries-ur\":\"3173ec3\",\"ondemand.countries-yo\":\"6d9dffe\",\"ondemand.countries-zh-Hant\":\"d00b457\",\"ondemand.countries-zh\":\"e762d27\",\"ondemand.EditBirthdate\":\"a4fe7b9\",\"ondemand.framerateTracking\":\"a474fc9\",\"ondemand.qrcode\":\"e99d878\",\"bundle.TimezoneSelector.timezones\":\"edfe69e\",\"ondemand.immersiveTweetHandler\":\"cc94405\",\"loader.ProfileClusterFollow\":\"20c2750\",\"ondemand.Balloons\":\"2d0b67a\",\"ondemand.ProfileSidebar\":\"48b75ca\",\"loaders.video.VideoPlayerPrerollUI\":\"dea3a58\",\"ondemand.CarouselScroller\":\"6fb1b17\",\"bundle.PlainTextCompose\":\"d6429f3\",\"ondemand.DownvoteEducation\":\"7cfe5f8\",\"ondemand.LeaveThisConversation\":\"dcf46a9\",\"ondemand.CommunityTweetPinning\":\"0772038\"}[e]+\"9.js\",l.g=function(){if(\"object\"==typeof globalThis)return globalThis;try{return this||new Function(\"return this\")()}catch(e){if(\"object\"==typeof window)return window}}(),l.hmd=e=>((e=Object.create(e)).children||(e.children=[]),Object.defineProperty(e,\"exports\",{enumerable:!0,set:()=>{throw new Error(\"ES Modules may not assign module.exports or exports.*, Use ESM export syntax, instead: \"+e.id)}}),e),l.o=(e,d)=>Object.prototype.hasOwnProperty.call(e,d),a={},o=\"@twitter/responsive-web:\",l.l=(e,d,n,r)=>{if(a[e])a[e].push(d);else{var i,t;if(void 0!==n)for(var s=document.getElementsByTagName(\"script\"),u=0;u<s.length;u++){var b=s[u];if(b.getAttribute(\"src\")==e||b.getAttribute(\"data-webpack\")==o+n){i=b;break}}i||(t=!0,(i=document.createElement(\"script\")).charset=\"utf-8\",i.timeout=120,l.nc&&i.setAttribute(\"nonce\",l.nc),i.setAttribute(\"data-webpack\",o+n),i.src=e),a[e]=[d];var c=(d,n)=>{i.onerror=i.onload=null,clearTimeout(m);var o=a[e];if(delete a[e],i.parentNode&&i.parentNode.removeChild(i),o&&o.forEach((e=>e(n))),d)return d(n)},m=setTimeout(c.bind(null,void 0,{type:\"timeout\",target:i}),12e4);i.onerror=c.bind(null,i.onerror),i.onload=c.bind(null,i.onload),t&&document.head.appendChild(i)}},l.r=e=>{\"undefined\"!=typeof Symbol&&Symbol.toStringTag&&Object.defineProperty(e,Symbol.toStringTag,{value:\"Module\"}),Object.defineProperty(e,\"__esModule\",{value:!0})},l.nmd=e=>(e.paths=[],e.children||(e.children=[]),e),l.p=\"https://abs.twimg.com/responsive-web/client-web-legacy/\",(()=>{var e={runtime:0};l.f.j=(d,n)=>{var a=l.o(e,d)?e[d]:void 0;if(0!==a)if(a)n.push(a[2]);else if(\"runtime\"!=d){var o=new Promise(((n,o)=>a=e[d]=[n,o]));n.push(a[2]=o);var r=l.p+l.u(d),i=new Error;l.l(r,(n=>{if(l.o(e,d)&&(0!==(a=e[d])&&(e[d]=void 0),a)){var o=n&&(\"load\"===n.type?\"missing\":n.type),r=n&&n.target&&n.target.src;i.message=\"Loading chunk \"+d+\" failed.\\n(\"+o+\": \"+r+\")\",i.name=\"ChunkLoadError\",i.type=o,i.request=r,a[1](i)}}),\"chunk-\"+d,d)}else e[d]=0},l.O.j=d=>0===e[d];var d=(d,n)=>{var a,o,[r,i,t]=n,s=0;if(r.some((d=>0!==e[d]))){for(a in i)l.o(i,a)&&(l.m[a]=i[a]);if(t)var u=t(l)}for(d&&d(n);s<r.length;s++)o=r[s],l.o(e,o)&&e[o]&&e[o][0](),e[o]=0;return l.O(u)},n=self.webpackChunk_twitter_responsive_web=self.webpackChunk_twitter_responsive_web||[];n.forEach(d.bind(null,0)),n.push=d.bind(null,n.push.bind(n))})()})(),window.__SCRIPTS_LOADED__.runtime=!0;\n",
       "</script><script charset=\"utf-8\" nonce=\"YmExNDEzNzItY2UyYy00MTc0LTgzNzItYWJkOGI5NTkzZjdi\" type=\"text/javascript\">performance && performance.mark && performance.mark('scripts-blocking-start')</script><script charset=\"utf-8\" crossorigin=\"anonymous\" nonce=\"YmExNDEzNzItY2UyYy00MTc0LTgzNzItYWJkOGI5NTkzZjdi\" src=\"https://abs.twimg.com/responsive-web/client-web-legacy/polyfills.c7dfc719.js\" type=\"text/javascript\"></script><script charset=\"utf-8\" crossorigin=\"anonymous\" nonce=\"YmExNDEzNzItY2UyYy00MTc0LTgzNzItYWJkOGI5NTkzZjdi\" src=\"https://abs.twimg.com/responsive-web/client-web-legacy/vendor.d9a7d629.js\" type=\"text/javascript\"></script><script charset=\"utf-8\" crossorigin=\"anonymous\" nonce=\"YmExNDEzNzItY2UyYy00MTc0LTgzNzItYWJkOGI5NTkzZjdi\" src=\"https://abs.twimg.com/responsive-web/client-web-legacy/i18n/en.675f83d9.js\" type=\"text/javascript\"></script><script charset=\"utf-8\" crossorigin=\"anonymous\" nonce=\"YmExNDEzNzItY2UyYy00MTc0LTgzNzItYWJkOGI5NTkzZjdi\" src=\"https://abs.twimg.com/responsive-web/client-web-legacy/main.75f983c9.js\" type=\"text/javascript\"></script><script charset=\"utf-8\" nonce=\"YmExNDEzNzItY2UyYy00MTc0LTgzNzItYWJkOGI5NTkzZjdi\" type=\"text/javascript\">performance && performance.measure && performance.measure('scripts-blocking', 'scripts-blocking-start')</script><script nonce=\"YmExNDEzNzItY2UyYy00MTc0LTgzNzItYWJkOGI5NTkzZjdi\">(function () {\n",
       "  if (!window.__SCRIPTS_LOADED__['main']) {\n",
       "    document.getElementById('ScriptLoadFailure').style.display = 'block';\n",
       "    var criticalScripts = [\"polyfills\",\"vendor\",\"i18n\",\"main\"];\n",
       "    for (var i = 0; i < criticalScripts.length; i++) {\n",
       "      var criticalScript = criticalScripts[i];\n",
       "      if (!window.__SCRIPTS_LOADED__[criticalScript]) {\n",
       "        document.getElementsByName('failedScript')[0].value = criticalScript;\n",
       "        break;\n",
       "      }\n",
       "    }\n",
       "  }\n",
       "})();</script><script nonce=\"YmExNDEzNzItY2UyYy00MTc0LTgzNzItYWJkOGI5NTkzZjdi\">document.cookie = decodeURIComponent(\"gt=1588599008481533952; Max-Age=10800; Domain=.twitter.com; Path=/; Secure\");</script></body></html>>"
      ]
     },
     "execution_count": 49,
     "metadata": {},
     "output_type": "execute_result"
    }
   ],
   "source": [
    "soup.prettify"
   ]
  },
  {
   "cell_type": "markdown",
   "metadata": {
    "id": "qjOuinybXqIl"
   },
   "source": [
    "#### Number of followers of a given twitter account"
   ]
  },
  {
   "cell_type": "markdown",
   "metadata": {
    "id": "ZuYoymPBXqIl"
   },
   "source": [
    "You will need to include a ***try/except block*** in case account/s name not found. \n",
    "<br>***Hint:*** the program should count the followers for any provided account"
   ]
  },
  {
   "cell_type": "code",
   "execution_count": 4,
   "metadata": {
    "id": "PPnQtV1QXqIl"
   },
   "outputs": [],
   "source": [
    "# This is the url you will scrape in this exercise \n",
    "# You will need to add the account credentials to this url\n"
   ]
  },
  {
   "cell_type": "code",
   "execution_count": 55,
   "metadata": {
    "id": "QwhH70yiXqIl",
    "scrolled": false
   },
   "outputs": [
    {
     "name": "stdout",
     "output_type": "stream",
     "text": [
      "Input your account name on Twitter: elonmusk\n",
      "Account name not found...\n"
     ]
    }
   ],
   "source": [
    "handle = input('Input your account name on Twitter: ')\n",
    "temp = requests.get('https://twitter.com/'+handle)\n",
    "bs = BeautifulSoup(temp.text,'lxml')\n",
    "\n",
    "try:\n",
    "    tweet_box = bs.find('li',{'class':'ProfileNav-item ProfileNav-item--tweets is-active'})\n",
    "    tweets= tweet_box.find('a').find('span',{'class':'ProfileNav-value'})\n",
    "    print(\"{} tweets {} number of tweets.\".format(handle,tweets.get('data-count')))\n",
    "\n",
    "except:\n",
    "    print('Account name not found...')"
   ]
  },
  {
   "cell_type": "markdown",
   "metadata": {
    "id": "oyb7lssmXqIl"
   },
   "source": [
    "#### List all language names and number of related articles in the order they appear in wikipedia.org"
   ]
  },
  {
   "cell_type": "code",
   "execution_count": 128,
   "metadata": {
    "id": "tYjcBeT0XqIl"
   },
   "outputs": [],
   "source": [
    "# This is the url you will scrape in this exercise\n",
    "url = 'https://www.wikipedia.org/'\n",
    "response = requests.get(url)\n",
    "soup = BeautifulSoup(response.content, \"html.parser\")"
   ]
  },
  {
   "cell_type": "code",
   "execution_count": 137,
   "metadata": {
    "colab": {
     "base_uri": "https://localhost:8080/"
    },
    "id": "GTtu-U7UXqIm",
    "outputId": "99b48f4d-7417-478f-cab1-2e8ca452b0eb"
   },
   "outputs": [
    {
     "data": {
      "text/plain": [
       "[('English', '6.458.000+ articles'),\n",
       " ('日本語', '1.314.000+ 記事'),\n",
       " ('Español', '1.755.000+ artículos'),\n",
       " ('Русский', '1.798.000+ статей'),\n",
       " ('Français', '2.400.000+ articles'),\n",
       " ('Deutsch', '2.667.000+ Artikel'),\n",
       " ('Italiano', '1.742.000+ voci'),\n",
       " ('中文', '1.256.000+ 条目 / 條目'),\n",
       " ('Português', '1.085.000+ artigos'),\n",
       " ('العربية', '1.159.000+ مقالة')]"
      ]
     },
     "execution_count": 137,
     "metadata": {},
     "output_type": "execute_result"
    }
   ],
   "source": [
    "languages_tags = soup.find_all('div', {'class': 'central-featured-lang'})\n",
    "\n",
    "languages = [tag.strong.text for tag in languages_tags]\n",
    "articles = [tag.small.text.replace('\\xa0', '.') for tag in languages_tags]\n",
    "total = list(zip(languages, articles))\n",
    "total\n"
   ]
  },
  {
   "cell_type": "markdown",
   "metadata": {
    "id": "rBqrjZQFXqIm"
   },
   "source": [
    "#### A list with the different kind of datasets available in data.gov.uk "
   ]
  },
  {
   "cell_type": "code",
   "execution_count": 138,
   "metadata": {
    "id": "wc3p3s9XXqIm"
   },
   "outputs": [],
   "source": [
    "# This is the url you will scrape in this exercise\n",
    "url = 'https://data.gov.uk/'\n",
    "response = requests.get(url)\n",
    "soup = BeautifulSoup(response.content, \"html.parser\")"
   ]
  },
  {
   "cell_type": "code",
   "execution_count": 145,
   "metadata": {
    "colab": {
     "base_uri": "https://localhost:8080/"
    },
    "id": "zn6KcYfgXqIm",
    "outputId": "31abffab-09c8-4295-cd1d-69416d29b12e"
   },
   "outputs": [
    {
     "data": {
      "text/plain": [
       "['Business and economy',\n",
       " 'Crime and justice',\n",
       " 'Defence',\n",
       " 'Education',\n",
       " 'Environment',\n",
       " 'Government',\n",
       " 'Government spending',\n",
       " 'Health',\n",
       " 'Mapping',\n",
       " 'Society',\n",
       " 'Towns and cities',\n",
       " 'Transport',\n",
       " 'Digital service performance',\n",
       " 'Government reference data']"
      ]
     },
     "execution_count": 145,
     "metadata": {},
     "output_type": "execute_result"
    }
   ],
   "source": [
    "data_sets = soup.find_all('h3')\n",
    "clean_data_sets = [tag.a.text for tag in data_sets]\n",
    "clean_data_sets"
   ]
  },
  {
   "cell_type": "markdown",
   "metadata": {
    "id": "jSKhJVTwXqIm"
   },
   "source": [
    "#### Top 10 languages by number of native speakers stored in a Pandas Dataframe"
   ]
  },
  {
   "cell_type": "code",
   "execution_count": 146,
   "metadata": {
    "id": "Qndxj8rrXqIm"
   },
   "outputs": [],
   "source": [
    "# This is the url you will scrape in this exercise\n",
    "url = 'https://en.wikipedia.org/wiki/List_of_languages_by_number_of_native_speakers'\n",
    "response = requests.get(url)\n",
    "soup = BeautifulSoup(response.content, \"html.parser\")"
   ]
  },
  {
   "cell_type": "code",
   "execution_count": 151,
   "metadata": {
    "colab": {
     "base_uri": "https://localhost:8080/",
     "height": 394
    },
    "id": "FdjwlzoEXqIm",
    "outputId": "56bf8845-2b19-4346-c2fa-45091a717887"
   },
   "outputs": [
    {
     "data": {
      "text/html": [
       "\n",
       "  <div id=\"df-8a95df2d-fe22-4727-a0d7-dcaa0b2bb809\">\n",
       "    <div class=\"colab-df-container\">\n",
       "      <div>\n",
       "<style scoped>\n",
       "    .dataframe tbody tr th:only-of-type {\n",
       "        vertical-align: middle;\n",
       "    }\n",
       "\n",
       "    .dataframe tbody tr th {\n",
       "        vertical-align: top;\n",
       "    }\n",
       "\n",
       "    .dataframe thead th {\n",
       "        text-align: right;\n",
       "    }\n",
       "</style>\n",
       "<table border=\"1\" class=\"dataframe\">\n",
       "  <thead>\n",
       "    <tr style=\"text-align: right;\">\n",
       "      <th></th>\n",
       "      <th>Language</th>\n",
       "      <th>Native speakers(millions)</th>\n",
       "      <th>Language family</th>\n",
       "      <th>Branch</th>\n",
       "    </tr>\n",
       "  </thead>\n",
       "  <tbody>\n",
       "    <tr>\n",
       "      <th>0</th>\n",
       "      <td>Mandarin Chinese(incl. Standard Chinese, but e...</td>\n",
       "      <td>920.0</td>\n",
       "      <td>Sino-Tibetan</td>\n",
       "      <td>Sinitic</td>\n",
       "    </tr>\n",
       "    <tr>\n",
       "      <th>1</th>\n",
       "      <td>Spanish</td>\n",
       "      <td>475.0</td>\n",
       "      <td>Indo-European</td>\n",
       "      <td>Romance</td>\n",
       "    </tr>\n",
       "    <tr>\n",
       "      <th>2</th>\n",
       "      <td>English</td>\n",
       "      <td>373.0</td>\n",
       "      <td>Indo-European</td>\n",
       "      <td>Germanic</td>\n",
       "    </tr>\n",
       "    <tr>\n",
       "      <th>3</th>\n",
       "      <td>Hindi(excl. Urdu)</td>\n",
       "      <td>344.0</td>\n",
       "      <td>Indo-European</td>\n",
       "      <td>Indo-Aryan</td>\n",
       "    </tr>\n",
       "    <tr>\n",
       "      <th>4</th>\n",
       "      <td>Bengali</td>\n",
       "      <td>234.0</td>\n",
       "      <td>Indo-European</td>\n",
       "      <td>Indo-Aryan</td>\n",
       "    </tr>\n",
       "    <tr>\n",
       "      <th>5</th>\n",
       "      <td>Portuguese</td>\n",
       "      <td>232.0</td>\n",
       "      <td>Indo-European</td>\n",
       "      <td>Romance</td>\n",
       "    </tr>\n",
       "    <tr>\n",
       "      <th>6</th>\n",
       "      <td>Russian</td>\n",
       "      <td>154.0</td>\n",
       "      <td>Indo-European</td>\n",
       "      <td>Balto-Slavic</td>\n",
       "    </tr>\n",
       "    <tr>\n",
       "      <th>7</th>\n",
       "      <td>Japanese</td>\n",
       "      <td>125.0</td>\n",
       "      <td>Japonic</td>\n",
       "      <td>Japanese</td>\n",
       "    </tr>\n",
       "    <tr>\n",
       "      <th>8</th>\n",
       "      <td>Yue Chinese(incl. Cantonese)</td>\n",
       "      <td>85.2</td>\n",
       "      <td>Sino-Tibetan</td>\n",
       "      <td>Sinitic</td>\n",
       "    </tr>\n",
       "    <tr>\n",
       "      <th>9</th>\n",
       "      <td>Vietnamese</td>\n",
       "      <td>84.6</td>\n",
       "      <td>Austroasiatic</td>\n",
       "      <td>Vietic</td>\n",
       "    </tr>\n",
       "    <tr>\n",
       "      <th>10</th>\n",
       "      <td>Marathi</td>\n",
       "      <td>83.1</td>\n",
       "      <td>Indo-European</td>\n",
       "      <td>Indo-Aryan</td>\n",
       "    </tr>\n",
       "  </tbody>\n",
       "</table>\n",
       "</div>\n",
       "      <button class=\"colab-df-convert\" onclick=\"convertToInteractive('df-8a95df2d-fe22-4727-a0d7-dcaa0b2bb809')\"\n",
       "              title=\"Convert this dataframe to an interactive table.\"\n",
       "              style=\"display:none;\">\n",
       "        \n",
       "  <svg xmlns=\"http://www.w3.org/2000/svg\" height=\"24px\"viewBox=\"0 0 24 24\"\n",
       "       width=\"24px\">\n",
       "    <path d=\"M0 0h24v24H0V0z\" fill=\"none\"/>\n",
       "    <path d=\"M18.56 5.44l.94 2.06.94-2.06 2.06-.94-2.06-.94-.94-2.06-.94 2.06-2.06.94zm-11 1L8.5 8.5l.94-2.06 2.06-.94-2.06-.94L8.5 2.5l-.94 2.06-2.06.94zm10 10l.94 2.06.94-2.06 2.06-.94-2.06-.94-.94-2.06-.94 2.06-2.06.94z\"/><path d=\"M17.41 7.96l-1.37-1.37c-.4-.4-.92-.59-1.43-.59-.52 0-1.04.2-1.43.59L10.3 9.45l-7.72 7.72c-.78.78-.78 2.05 0 2.83L4 21.41c.39.39.9.59 1.41.59.51 0 1.02-.2 1.41-.59l7.78-7.78 2.81-2.81c.8-.78.8-2.07 0-2.86zM5.41 20L4 18.59l7.72-7.72 1.47 1.35L5.41 20z\"/>\n",
       "  </svg>\n",
       "      </button>\n",
       "      \n",
       "  <style>\n",
       "    .colab-df-container {\n",
       "      display:flex;\n",
       "      flex-wrap:wrap;\n",
       "      gap: 12px;\n",
       "    }\n",
       "\n",
       "    .colab-df-convert {\n",
       "      background-color: #E8F0FE;\n",
       "      border: none;\n",
       "      border-radius: 50%;\n",
       "      cursor: pointer;\n",
       "      display: none;\n",
       "      fill: #1967D2;\n",
       "      height: 32px;\n",
       "      padding: 0 0 0 0;\n",
       "      width: 32px;\n",
       "    }\n",
       "\n",
       "    .colab-df-convert:hover {\n",
       "      background-color: #E2EBFA;\n",
       "      box-shadow: 0px 1px 2px rgba(60, 64, 67, 0.3), 0px 1px 3px 1px rgba(60, 64, 67, 0.15);\n",
       "      fill: #174EA6;\n",
       "    }\n",
       "\n",
       "    [theme=dark] .colab-df-convert {\n",
       "      background-color: #3B4455;\n",
       "      fill: #D2E3FC;\n",
       "    }\n",
       "\n",
       "    [theme=dark] .colab-df-convert:hover {\n",
       "      background-color: #434B5C;\n",
       "      box-shadow: 0px 1px 3px 1px rgba(0, 0, 0, 0.15);\n",
       "      filter: drop-shadow(0px 1px 2px rgba(0, 0, 0, 0.3));\n",
       "      fill: #FFFFFF;\n",
       "    }\n",
       "  </style>\n",
       "\n",
       "      <script>\n",
       "        const buttonEl =\n",
       "          document.querySelector('#df-8a95df2d-fe22-4727-a0d7-dcaa0b2bb809 button.colab-df-convert');\n",
       "        buttonEl.style.display =\n",
       "          google.colab.kernel.accessAllowed ? 'block' : 'none';\n",
       "\n",
       "        async function convertToInteractive(key) {\n",
       "          const element = document.querySelector('#df-8a95df2d-fe22-4727-a0d7-dcaa0b2bb809');\n",
       "          const dataTable =\n",
       "            await google.colab.kernel.invokeFunction('convertToInteractive',\n",
       "                                                     [key], {});\n",
       "          if (!dataTable) return;\n",
       "\n",
       "          const docLinkHtml = 'Like what you see? Visit the ' +\n",
       "            '<a target=\"_blank\" href=https://colab.research.google.com/notebooks/data_table.ipynb>data table notebook</a>'\n",
       "            + ' to learn more about interactive tables.';\n",
       "          element.innerHTML = '';\n",
       "          dataTable['output_type'] = 'display_data';\n",
       "          await google.colab.output.renderOutput(dataTable, element);\n",
       "          const docLink = document.createElement('div');\n",
       "          docLink.innerHTML = docLinkHtml;\n",
       "          element.appendChild(docLink);\n",
       "        }\n",
       "      </script>\n",
       "    </div>\n",
       "  </div>\n",
       "  "
      ],
      "text/plain": [
       "                                             Language  \\\n",
       "0   Mandarin Chinese(incl. Standard Chinese, but e...   \n",
       "1                                             Spanish   \n",
       "2                                             English   \n",
       "3                                   Hindi(excl. Urdu)   \n",
       "4                                             Bengali   \n",
       "5                                          Portuguese   \n",
       "6                                             Russian   \n",
       "7                                            Japanese   \n",
       "8                        Yue Chinese(incl. Cantonese)   \n",
       "9                                          Vietnamese   \n",
       "10                                            Marathi   \n",
       "\n",
       "    Native speakers(millions) Language family        Branch  \n",
       "0                       920.0    Sino-Tibetan       Sinitic  \n",
       "1                       475.0   Indo-European       Romance  \n",
       "2                       373.0   Indo-European      Germanic  \n",
       "3                       344.0   Indo-European    Indo-Aryan  \n",
       "4                       234.0   Indo-European    Indo-Aryan  \n",
       "5                       232.0   Indo-European       Romance  \n",
       "6                       154.0   Indo-European  Balto-Slavic  \n",
       "7                       125.0         Japonic      Japanese  \n",
       "8                        85.2    Sino-Tibetan       Sinitic  \n",
       "9                        84.6   Austroasiatic        Vietic  \n",
       "10                       83.1   Indo-European    Indo-Aryan  "
      ]
     },
     "execution_count": 151,
     "metadata": {},
     "output_type": "execute_result"
    }
   ],
   "source": [
    "tabla1 = soup.find_all('table', {'class':'wikitable'})[0]\n",
    "df1 = pd.DataFrame(pd.read_html(str(tabla1))[0])\n",
    "df2 = df1.drop(df1.index[11:])\n",
    "df2"
   ]
  },
  {
   "cell_type": "markdown",
   "metadata": {
    "id": "VOmX6CcLXqIn"
   },
   "source": [
    "### BONUS QUESTIONS"
   ]
  },
  {
   "cell_type": "markdown",
   "metadata": {
    "id": "G_8hzNaDXqIn"
   },
   "source": [
    "#### Scrape a certain number of tweets of a given Twitter account."
   ]
  },
  {
   "cell_type": "code",
   "execution_count": null,
   "metadata": {
    "id": "UToiMX5gXqIn"
   },
   "outputs": [],
   "source": [
    "# This is the url you will scrape in this exercise \n",
    "# You will need to add the account credentials to this url\n",
    "url = 'https://twitter.com/'"
   ]
  },
  {
   "cell_type": "code",
   "execution_count": null,
   "metadata": {
    "id": "5su2O0TsXqIn"
   },
   "outputs": [],
   "source": [
    "# your code"
   ]
  },
  {
   "cell_type": "markdown",
   "metadata": {
    "id": "KGSXlmy_XqIn"
   },
   "source": [
    "#### IMDB's Top 250 data (movie name, Initial release, director name and stars) as a pandas dataframe"
   ]
  },
  {
   "cell_type": "code",
   "execution_count": 152,
   "metadata": {
    "id": "Ml3E8NLCXqIn"
   },
   "outputs": [],
   "source": [
    "# This is the url you will scrape in this exercise \n",
    "url = 'https://www.imdb.com/chart/top'\n",
    "response = requests.get(url)\n",
    "soup = BeautifulSoup(response.content, \"html.parser\")"
   ]
  },
  {
   "cell_type": "code",
   "execution_count": 174,
   "metadata": {
    "colab": {
     "base_uri": "https://localhost:8080/",
     "height": 423
    },
    "id": "6bhF4i1MXqIn",
    "outputId": "8c225caf-7b3a-4287-f4f0-1556adde3c2d"
   },
   "outputs": [
    {
     "data": {
      "text/html": [
       "\n",
       "  <div id=\"df-c5c203f6-101a-4235-80f5-8b44d60dc7c9\">\n",
       "    <div class=\"colab-df-container\">\n",
       "      <div>\n",
       "<style scoped>\n",
       "    .dataframe tbody tr th:only-of-type {\n",
       "        vertical-align: middle;\n",
       "    }\n",
       "\n",
       "    .dataframe tbody tr th {\n",
       "        vertical-align: top;\n",
       "    }\n",
       "\n",
       "    .dataframe thead th {\n",
       "        text-align: right;\n",
       "    }\n",
       "</style>\n",
       "<table border=\"1\" class=\"dataframe\">\n",
       "  <thead>\n",
       "    <tr style=\"text-align: right;\">\n",
       "      <th></th>\n",
       "      <th>Title</th>\n",
       "      <th>Release</th>\n",
       "      <th>Director</th>\n",
       "      <th>Star</th>\n",
       "    </tr>\n",
       "  </thead>\n",
       "  <tbody>\n",
       "    <tr>\n",
       "      <th>0</th>\n",
       "      <td>The Shawshank Redemption</td>\n",
       "      <td>1994</td>\n",
       "      <td>Frank Darabont</td>\n",
       "      <td>Tim Robbins</td>\n",
       "    </tr>\n",
       "    <tr>\n",
       "      <th>1</th>\n",
       "      <td>The Godfather</td>\n",
       "      <td>1972</td>\n",
       "      <td>Francis Ford Coppola</td>\n",
       "      <td>Marlon Brando</td>\n",
       "    </tr>\n",
       "    <tr>\n",
       "      <th>2</th>\n",
       "      <td>The Dark Knight</td>\n",
       "      <td>2008</td>\n",
       "      <td>Christopher Nolan</td>\n",
       "      <td>Christian Bale</td>\n",
       "    </tr>\n",
       "    <tr>\n",
       "      <th>3</th>\n",
       "      <td>The Godfather Part II</td>\n",
       "      <td>1974</td>\n",
       "      <td>Francis Ford Coppola</td>\n",
       "      <td>Al Pacino</td>\n",
       "    </tr>\n",
       "    <tr>\n",
       "      <th>4</th>\n",
       "      <td>12 Angry Men</td>\n",
       "      <td>1957</td>\n",
       "      <td>Sidney Lumet</td>\n",
       "      <td>Henry Fonda</td>\n",
       "    </tr>\n",
       "    <tr>\n",
       "      <th>...</th>\n",
       "      <td>...</td>\n",
       "      <td>...</td>\n",
       "      <td>...</td>\n",
       "      <td>...</td>\n",
       "    </tr>\n",
       "    <tr>\n",
       "      <th>245</th>\n",
       "      <td>Dersu Uzala</td>\n",
       "      <td>1975</td>\n",
       "      <td>Akira Kurosawa</td>\n",
       "      <td>Maksim Munzuk</td>\n",
       "    </tr>\n",
       "    <tr>\n",
       "      <th>246</th>\n",
       "      <td>The Help</td>\n",
       "      <td>2011</td>\n",
       "      <td>Tate Taylor</td>\n",
       "      <td>Viola Davis</td>\n",
       "    </tr>\n",
       "    <tr>\n",
       "      <th>247</th>\n",
       "      <td>Aladdin</td>\n",
       "      <td>1992</td>\n",
       "      <td>Ron Clements</td>\n",
       "      <td>Scott Weinger</td>\n",
       "    </tr>\n",
       "    <tr>\n",
       "      <th>248</th>\n",
       "      <td>Gandhi</td>\n",
       "      <td>1982</td>\n",
       "      <td>Richard Attenborough</td>\n",
       "      <td>Ben Kingsley</td>\n",
       "    </tr>\n",
       "    <tr>\n",
       "      <th>249</th>\n",
       "      <td>The Iron Giant</td>\n",
       "      <td>1999</td>\n",
       "      <td>Brad Bird</td>\n",
       "      <td>Eli Marienthal</td>\n",
       "    </tr>\n",
       "  </tbody>\n",
       "</table>\n",
       "<p>250 rows × 4 columns</p>\n",
       "</div>\n",
       "      <button class=\"colab-df-convert\" onclick=\"convertToInteractive('df-c5c203f6-101a-4235-80f5-8b44d60dc7c9')\"\n",
       "              title=\"Convert this dataframe to an interactive table.\"\n",
       "              style=\"display:none;\">\n",
       "        \n",
       "  <svg xmlns=\"http://www.w3.org/2000/svg\" height=\"24px\"viewBox=\"0 0 24 24\"\n",
       "       width=\"24px\">\n",
       "    <path d=\"M0 0h24v24H0V0z\" fill=\"none\"/>\n",
       "    <path d=\"M18.56 5.44l.94 2.06.94-2.06 2.06-.94-2.06-.94-.94-2.06-.94 2.06-2.06.94zm-11 1L8.5 8.5l.94-2.06 2.06-.94-2.06-.94L8.5 2.5l-.94 2.06-2.06.94zm10 10l.94 2.06.94-2.06 2.06-.94-2.06-.94-.94-2.06-.94 2.06-2.06.94z\"/><path d=\"M17.41 7.96l-1.37-1.37c-.4-.4-.92-.59-1.43-.59-.52 0-1.04.2-1.43.59L10.3 9.45l-7.72 7.72c-.78.78-.78 2.05 0 2.83L4 21.41c.39.39.9.59 1.41.59.51 0 1.02-.2 1.41-.59l7.78-7.78 2.81-2.81c.8-.78.8-2.07 0-2.86zM5.41 20L4 18.59l7.72-7.72 1.47 1.35L5.41 20z\"/>\n",
       "  </svg>\n",
       "      </button>\n",
       "      \n",
       "  <style>\n",
       "    .colab-df-container {\n",
       "      display:flex;\n",
       "      flex-wrap:wrap;\n",
       "      gap: 12px;\n",
       "    }\n",
       "\n",
       "    .colab-df-convert {\n",
       "      background-color: #E8F0FE;\n",
       "      border: none;\n",
       "      border-radius: 50%;\n",
       "      cursor: pointer;\n",
       "      display: none;\n",
       "      fill: #1967D2;\n",
       "      height: 32px;\n",
       "      padding: 0 0 0 0;\n",
       "      width: 32px;\n",
       "    }\n",
       "\n",
       "    .colab-df-convert:hover {\n",
       "      background-color: #E2EBFA;\n",
       "      box-shadow: 0px 1px 2px rgba(60, 64, 67, 0.3), 0px 1px 3px 1px rgba(60, 64, 67, 0.15);\n",
       "      fill: #174EA6;\n",
       "    }\n",
       "\n",
       "    [theme=dark] .colab-df-convert {\n",
       "      background-color: #3B4455;\n",
       "      fill: #D2E3FC;\n",
       "    }\n",
       "\n",
       "    [theme=dark] .colab-df-convert:hover {\n",
       "      background-color: #434B5C;\n",
       "      box-shadow: 0px 1px 3px 1px rgba(0, 0, 0, 0.15);\n",
       "      filter: drop-shadow(0px 1px 2px rgba(0, 0, 0, 0.3));\n",
       "      fill: #FFFFFF;\n",
       "    }\n",
       "  </style>\n",
       "\n",
       "      <script>\n",
       "        const buttonEl =\n",
       "          document.querySelector('#df-c5c203f6-101a-4235-80f5-8b44d60dc7c9 button.colab-df-convert');\n",
       "        buttonEl.style.display =\n",
       "          google.colab.kernel.accessAllowed ? 'block' : 'none';\n",
       "\n",
       "        async function convertToInteractive(key) {\n",
       "          const element = document.querySelector('#df-c5c203f6-101a-4235-80f5-8b44d60dc7c9');\n",
       "          const dataTable =\n",
       "            await google.colab.kernel.invokeFunction('convertToInteractive',\n",
       "                                                     [key], {});\n",
       "          if (!dataTable) return;\n",
       "\n",
       "          const docLinkHtml = 'Like what you see? Visit the ' +\n",
       "            '<a target=\"_blank\" href=https://colab.research.google.com/notebooks/data_table.ipynb>data table notebook</a>'\n",
       "            + ' to learn more about interactive tables.';\n",
       "          element.innerHTML = '';\n",
       "          dataTable['output_type'] = 'display_data';\n",
       "          await google.colab.output.renderOutput(dataTable, element);\n",
       "          const docLink = document.createElement('div');\n",
       "          docLink.innerHTML = docLinkHtml;\n",
       "          element.appendChild(docLink);\n",
       "        }\n",
       "      </script>\n",
       "    </div>\n",
       "  </div>\n",
       "  "
      ],
      "text/plain": [
       "                        Title  Release              Director            Star\n",
       "0    The Shawshank Redemption     1994        Frank Darabont     Tim Robbins\n",
       "1               The Godfather     1972  Francis Ford Coppola   Marlon Brando\n",
       "2             The Dark Knight     2008     Christopher Nolan  Christian Bale\n",
       "3       The Godfather Part II     1974  Francis Ford Coppola       Al Pacino\n",
       "4                12 Angry Men     1957          Sidney Lumet     Henry Fonda\n",
       "..                        ...      ...                   ...             ...\n",
       "245               Dersu Uzala     1975        Akira Kurosawa   Maksim Munzuk\n",
       "246                  The Help     2011           Tate Taylor     Viola Davis\n",
       "247                   Aladdin     1992          Ron Clements   Scott Weinger\n",
       "248                    Gandhi     1982  Richard Attenborough    Ben Kingsley\n",
       "249            The Iron Giant     1999             Brad Bird  Eli Marienthal\n",
       "\n",
       "[250 rows x 4 columns]"
      ]
     },
     "execution_count": 174,
     "metadata": {},
     "output_type": "execute_result"
    }
   ],
   "source": [
    "table_data = soup.find_all('td')\n",
    "title = [t.find('img')['alt'] for t in table_data if t.find('img')]\n",
    "people = [t.a.get('title').replace(' (dir.)', '').split(', ') for t in table_data if (t.a and t.a.get('title'))]\n",
    "\n",
    "directors = [x[0] for x in people]\n",
    "Star = [x[1] for x in people]\n",
    "year = [int(t.text[1:-1]) for t in soup.find_all('span', {'class':'secondaryInfo'})]\n",
    "\n",
    "\n",
    "imdb = pd.DataFrame(list(zip(title, year, directors, Star)), columns= ['Title', 'Release', 'Director', 'Star'])\n",
    "\n",
    "imdb"
   ]
  },
  {
   "cell_type": "markdown",
   "metadata": {
    "id": "76KGTCarXqIo"
   },
   "source": [
    "#### Movie name, year and a brief summary of the top 10 random movies (IMDB) as a pandas dataframe."
   ]
  },
  {
   "cell_type": "code",
   "execution_count": null,
   "metadata": {
    "id": "m0ANHUGnXqIo"
   },
   "outputs": [],
   "source": [
    "#This is the url you will scrape in this exercise\n",
    "url = 'http://www.imdb.com/chart/top'"
   ]
  },
  {
   "cell_type": "code",
   "execution_count": null,
   "metadata": {
    "id": "zpOxB4wCXqIo"
   },
   "outputs": [],
   "source": [
    "#your code"
   ]
  },
  {
   "cell_type": "markdown",
   "metadata": {
    "id": "OzeJIV9sXqIo"
   },
   "source": [
    "#### Find the live weather report (temperature, wind speed, description and weather) of a given city."
   ]
  },
  {
   "cell_type": "code",
   "execution_count": null,
   "metadata": {
    "id": "t82r--10XqIo"
   },
   "outputs": [],
   "source": [
    "#https://openweathermap.org/current\n",
    "city = city=input('Enter the city:')\n",
    "url = 'http://api.openweathermap.org/data/2.5/weather?'+'q='+city+'&APPID=b35975e18dc93725acb092f7272cc6b8&units=metric'"
   ]
  },
  {
   "cell_type": "code",
   "execution_count": null,
   "metadata": {
    "id": "ZD3-WKhFXqIo"
   },
   "outputs": [],
   "source": [
    "# your code"
   ]
  },
  {
   "cell_type": "markdown",
   "metadata": {
    "id": "NMcCa6vIXqIo"
   },
   "source": [
    "#### Book name,price and stock availability as a pandas dataframe."
   ]
  },
  {
   "cell_type": "code",
   "execution_count": null,
   "metadata": {
    "id": "JfPBGNR4XqIp"
   },
   "outputs": [],
   "source": [
    "# This is the url you will scrape in this exercise. \n",
    "# It is a fictional bookstore created to be scraped. \n",
    "url = 'http://books.toscrape.com/'"
   ]
  },
  {
   "cell_type": "code",
   "execution_count": null,
   "metadata": {
    "id": "hTAY_X5sXqIp"
   },
   "outputs": [],
   "source": [
    "#your code"
   ]
  }
 ],
 "metadata": {
  "colab": {
   "collapsed_sections": [
    "G_8hzNaDXqIn",
    "OzeJIV9sXqIo",
    "NMcCa6vIXqIo"
   ],
   "provenance": []
  },
  "kernelspec": {
   "display_name": "Python 3 (ipykernel)",
   "language": "python",
   "name": "python3"
  },
  "language_info": {
   "codemirror_mode": {
    "name": "ipython",
    "version": 3
   },
   "file_extension": ".py",
   "mimetype": "text/x-python",
   "name": "python",
   "nbconvert_exporter": "python",
   "pygments_lexer": "ipython3",
   "version": "3.9.13"
  }
 },
 "nbformat": 4,
 "nbformat_minor": 1
}
