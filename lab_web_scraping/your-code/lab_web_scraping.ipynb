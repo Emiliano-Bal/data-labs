{
  "nbformat": 4,
  "nbformat_minor": 0,
  "metadata": {
    "colab": {
      "provenance": []
    },
    "kernelspec": {
      "name": "python3",
      "display_name": "Python 3"
    },
    "language_info": {
      "name": "python"
    }
  },
  "cells": [
    {
      "cell_type": "code",
      "execution_count": null,
      "metadata": {
        "id": "ecDT-6yJlDKa"
      },
      "outputs": [],
      "source": [
        "import pandas as pd\n",
        "import re\n",
        "import requests #para manejar el protocolo http\n",
        "from bs4 import BeautifulSoup #es para traerse el html de páginas"
      ]
    },
    {
      "cell_type": "code",
      "source": [
        "urldisney = 'https://en.wikipedia.org/wiki/Walt_Disney'\n",
        "disney = requests.get(urldisney) \n",
        "disney_soup = BeautifulSoup(disney.text,'html.parser')\n",
        "table_disney = disney_soup.find_all('a' , {'class':'image'})\n",
        "#print(table_disney)\n",
        "hrefs_disney = [a['href'] for a in disney_soup.select('a.image')]\n",
        "print(hrefs_disney)"
      ],
      "metadata": {
        "colab": {
          "base_uri": "https://localhost:8080/"
        },
        "id": "dP8xZARXlKin",
        "outputId": "819a6e6e-4166-4613-d931-4e2ec5e7611e"
      },
      "execution_count": null,
      "outputs": [
        {
          "output_type": "stream",
          "name": "stdout",
          "text": [
            "['/wiki/File:Walt_Disney_1946.JPG', '/wiki/File:Walt_Disney_1942_signature.svg', '/wiki/File:Walt_Disney_Birthplace_Exterior_Hermosa_Chicago_Illinois.jpg', '/wiki/File:Walt_Disney_envelope_ca._1921.jpg', '/wiki/File:Trolley_Troubles_poster.jpg', '/wiki/File:Steamboat-willie.jpg', '/wiki/File:Walt_Disney_1935.jpg', '/wiki/File:Walt_Disney_Snow_white_1937_trailer_screenshot_(13).jpg', '/wiki/File:Disney_drawing_goofy.jpg', '/wiki/File:WaltDisneyplansDisneylandDec1954.jpg', '/wiki/File:Walt_disney_portrait_right.jpg', '/wiki/File:Walt_Disney_Grave.JPG', '/wiki/File:Roy_O._Disney_with_Company_at_Press_Conference.jpg', '/wiki/File:DisneySchiphol1951.jpg', '/wiki/File:Disney1968.jpg', '/wiki/File:Disney_Oscar_1953_(cropped).jpg', '/wiki/File:Disneyland_Resort_logo.svg', '/wiki/File:Animation_disc.svg', '/wiki/File:Magic_Kingdom_castle.jpg', '/wiki/File:Blank_television_set.svg']\n"
          ]
        }
      ]
    },
    {
      "cell_type": "code",
      "source": [
        "python_url ='https://es.wikipedia.org/wiki/Python'\n",
        "pythons = requests.get(python_url)\n",
        "python_soup = BeautifulSoup(pythons.content,'html.parser')\n",
        "table_python = python_soup.find_all('a')\n",
        "# anchors = python_soup.select('a.href')\n",
        "hrefs = [a['href'] for a in python_soup.select('a[href]')]\n",
        "print(hrefs)"
      ],
      "metadata": {
        "colab": {
          "base_uri": "https://localhost:8080/"
        },
        "id": "7kPO_-3qlTEu",
        "outputId": "6d337bf4-a2ac-4c44-bff9-5fa498f08690"
      },
      "execution_count": null,
      "outputs": [
        {
          "output_type": "stream",
          "name": "stdout",
          "text": [
            "['#mw-head', '#searchInput', '/wiki/Monty_Python', '/wiki/Colt_Python', '/wiki/Pythonidae', '/wiki/Pit%C3%B3n', '/wiki/Archivo:Python-logo-notext.svg', '/wiki/Python_Software_Foundation', 'https://www.python.org/', '/wiki/Extensi%C3%B3n_de_archivo', '/wiki/Paradigma_de_programaci%C3%B3n', '/w/index.php?title=Lenguaje_de_programaci%C3%B3n_multiparadigma&action=edit&redlink=1', '/wiki/Programaci%C3%B3n_orientada_a_objetos', '/wiki/Programaci%C3%B3n_imperativa', '/wiki/Programaci%C3%B3n_funcional', '/wiki/Reflexi%C3%B3n_(inform%C3%A1tica)', '/wiki/Guido_van_Rossum', '#cite_note-1', '/wiki/Sistema_de_tipos', '/wiki/Tipado_fuerte', '/wiki/Tipado_din%C3%A1mico', '/wiki/CPython', '/wiki/IronPython', '/wiki/Jython', '/wiki/PyPy', '/w/index.php?title=ActivePython&action=edit&redlink=1', '/w/index.php?title=Stackless_Python&action=edit&redlink=1', '/wiki/RPython', '/wiki/ABC_(lenguaje_de_programaci%C3%B3n)', '/wiki/C_(lenguaje_de_programaci%C3%B3n)', '/wiki/Haskell', '/wiki/Icon', '/wiki/Lisp', '/wiki/Modula-3', '/wiki/Perl', '/wiki/Smalltalk', '/wiki/Java_(lenguaje_de_programaci%C3%B3n)', '/wiki/Boo_(lenguaje_de_programaci%C3%B3n)', '/wiki/D_(lenguaje_de_programaci%C3%B3n)', '/wiki/Falcon_(lenguaje_de_programaci%C3%B3n)', '/wiki/Genie_(lenguaje_de_programaci%C3%B3n)', '/wiki/Groovy_(lenguaje_de_programaci%C3%B3n)', '/wiki/Ruby', '/wiki/JavaScript', '/wiki/Cython', '/wiki/Go_(lenguaje_de_programaci%C3%B3n)', '/wiki/Latino_(Lenguaje_de_Programaci%C3%B3n)', '/wiki/Sistema_operativo', '/wiki/Multiplataforma', '/wiki/Licencia_de_software', '/wiki/Python_Software_Foundation_License', 'https://www.wikidata.org/wiki/Q28865', '/wiki/Lenguaje_de_programaci%C3%B3n', '/wiki/Int%C3%A9rprete_(inform%C3%A1tica)', '/wiki/Codigo_fuente', '/wiki/Instagram', '/wiki/Netflix', '/wiki/Spotify', '/w/index.php?title=Panda_3D&action=edit&redlink=1', '#cite_note-Glosario_LUCA,_2020-2', '/wiki/Lenguaje_de_programaci%C3%B3n#Paradigma_de_programación', '/wiki/Programaci%C3%B3n_orientada_a_objetos', '/wiki/Wikipedia:Palabras_que_evitar#Hay_quien_dice,_se_dice_que,_muchos_creen_que', '/wiki/Programaci%C3%B3n_funcional', '/wiki/Lenguaje_de_programaci%C3%B3n_interpretado', '/wiki/Tipado_din%C3%A1mico', '/wiki/Multiplataforma', '/wiki/Python_Software_Foundation', '/wiki/Licencia_de_software', '/wiki/C%C3%B3digo_abierto', '/wiki/Python_Software_Foundation_License', '#cite_note-lib-history-3', '#Historia', '#Características_y_paradigmas', '#Filosofía', '#Modo_interactivo', '#Elementos_del_lenguaje_y_sintaxis', '#Comentarios', '#Variables', '#Tipos_de_datos', '#Condicionales', '#Bucle_for', '#Bucle_while', '#Listas_y_Tuplas', '#Diccionarios', '#Sentencia_Switch_Case', '#Usando_if,_elif,_else', '#Usando_diccionario', '#Conjuntos', '#Listas_por_comprensión', '#Funciones', '#Clases', '#Módulos', '#Instalación_de_módulos_(pip)', '#Interfaz_al_sistema_operativo', '#Comodines_de_archivos', '#Argumentos_de_línea_de_órdenes', '#Matemática', '#Fechas_y_Tiempos', '#Módulo_Turtle', '#Sistema_de_objetos', '#Biblioteca_estándar', '#Implementaciones', '#Incidencias', '#Véase_también', '#Referencias', '#Bibliografía', '#Enlaces_externos', '/w/index.php?title=Python&action=edit&section=1', '/wiki/Historia_de_Python', '/wiki/Archivo:Guido_van_Rossum_OSCON_2006.jpg', '/wiki/Archivo:Guido_van_Rossum_OSCON_2006.jpg', '/wiki/Guido_van_Rossum', '#cite_note-venners-interview-pt-1-4', '/wiki/Guido_van_Rossum', '/w/index.php?title=Centrum_Wiskunde_%26_Informatica&action=edit&redlink=1', '/wiki/Pa%C3%ADses_Bajos', '/wiki/Lenguaje_de_programaci%C3%B3n_ABC', '/wiki/Manejo_de_excepciones', '/wiki/Amoeba_(Inform%C3%A1tica)', '#cite_note-whycreated-5', '/wiki/Humorista', '/wiki/Monty_Python', '#cite_note-6', '/wiki/Benevolent_Dictator_for_Life', '#cite_note-7', '#cite_note-8', 'news:alt.sources', '#cite_note-9', '/wiki/Herencia_(inform%C3%A1tica)', '/wiki/Subrutina', '/wiki/Modula-3', '#cite_note-venners-interview-pt-1-4', '#cite_note-whycreated-5', 'news:comp.lang.python', '/wiki/Programaci%C3%B3n_funcional', '/wiki/C%C3%A1lculo_lambda', '#cite_note-10', '/wiki/Lisp', '#cite_note-11', 'https://en.wikipedia.org/wiki/Corporation_for_National_Research_Initiatives', '/wiki/Virginia', '/wiki/Software', '/wiki/DARPA', '#cite_note-12', '#cite_note-13', '/w/index.php?title=BeOpen.com&action=edit&redlink=1', '/w/index.php?title=PythonLabs&action=edit&redlink=1', '#cite_note-newin-2.0-14', '/w/index.php?title=Digital_Creations&action=edit&redlink=1', '/wiki/Programaci%C3%B3n_funcional', '/wiki/Haskell', '/wiki/Recolecci%C3%B3n_de_basura', '#cite_note-newin-2.0-14', '/wiki/GNU_General_Public_License', '/wiki/Python_License', '/wiki/Virginia', '/wiki/Free_Software_Foundation', '/wiki/Python_Software_Foundation_License', '/wiki/FSF_Award_for_the_Advancement_of_Free_Software', '/wiki/Archivo:Python_add5_syntax.svg', '/wiki/Archivo:Python_add5_syntax.svg', '/wiki/Coloreado_de_sintaxis', '/wiki/Python_Software_Foundation', '/wiki/Apache_Software_Foundation', '#cite_note-lib-history-3', '/w/index.php?title=Static_scoping&action=edit&redlink=1', '/wiki/Scheme', '#cite_note-15', '#cite_note-16', '/wiki/Generador_(inform%C3%A1tica)', '/wiki/Icon', '#cite_note-17', '/wiki/Lenguaje_de_programaci%C3%B3n_Java', '#cite_note-18', '/wiki/Log4j', '/wiki/Simple_API_for_XML', '#cite_note-19', '#cite_note-20', '#cite_note-21', '#cite_note-22', '/wiki/Inteligencia_artificial', '/wiki/Machine_learning', '#cite_note-23', '/w/index.php?title=Python&action=edit&section=2', '/wiki/Lenguaje_de_programaci%C3%B3n#Paradigma_de_programación', '/wiki/Programaci%C3%B3n_orientada_a_objetos', '/wiki/Lenguaje_de_programaci%C3%B3n#Clasificación_por_paradigmas', '/wiki/Programaci%C3%B3n_funcional', '/wiki/Tipado_din%C3%A1mico', '/wiki/Conteo_de_referencias', '/wiki/Gesti%C3%B3n_de_memoria', '/wiki/Variable_(programaci%C3%B3n)', '/wiki/C_(lenguaje_de_programaci%C3%B3n)', '/wiki/C%2B%2B', '/wiki/Lisp', '/wiki/Scheme', '/w/index.php?title=Python&action=edit&section=3', '/wiki/Unix', '/wiki/Tim_Peters', '/wiki/Zen_de_Python', '#cite_note-24', '/wiki/Tim_Peters', '/wiki/Zen_de_Python', '/wiki/Huevo_de_pascua_(virtual)', '#cite_note-25', '/wiki/Archivo:LAMP_software_bundle.svg', '/wiki/Archivo:LAMP_software_bundle.svg', '/wiki/LAMP', '/wiki/Squid_(programa)', '/w/index.php?title=Python&action=edit&section=4', '/wiki/Int%C3%A9rprete_de_comandos', '/wiki/IDLE', 'http://bpython-interpreter.org/', '/wiki/IPython', '#cite_note-26', '/wiki/Coloreado_de_sintaxis', '/w/index.php?title=Python&action=edit&section=5', '/wiki/Pascal_(lenguaje_de_programaci%C3%B3n)', '/wiki/COBOL', '/wiki/Indentaci%C3%B3n', '#cite_note-27', '#cite_note-28', '#cite_note-29', '#cite_note-30', '/wiki/Factorial', '/wiki/Lenguaje_de_programaci%C3%B3n_C', '/wiki/Factorial', '/w/index.php?title=Python&action=edit&section=6', '/w/index.php?title=Python&action=edit&section=7', '/wiki/Tipado_din%C3%A1mico', '#cite_note-Green_Tea_Press,_2002-31', '/w/index.php?title=Python&action=edit&section=8', '/wiki/Archivo:Python_3._The_standard_type_hierarchy.png', '/wiki/Archivo:Python_3._The_standard_type_hierarchy.png', '/wiki/Unicode', '/w/index.php?title=Python&action=edit&section=9', '/wiki/Sentencia_condicional', '/wiki/Bloque_de_c%C3%B3digo', '/w/index.php?title=Python&action=edit&section=10', '/wiki/Bucle_for#Bucle_Por_Cada_(For_Each)', '/w/index.php?title=Python&action=edit&section=11', '/wiki/Bucle_while', '/w/index.php?title=Python&action=edit&section=12', '/w/index.php?title=Python&action=edit&section=13', '/w/index.php?title=Python&action=edit&section=14', 'https://www.python.org/dev/peps/pep-0636/', '/w/index.php?title=Python&action=edit&section=15', '/w/index.php?title=Python&action=edit&section=16', '/w/index.php?title=Python&action=edit&section=17', '/wiki/Intersecci%C3%B3n_de_conjuntos', '/wiki/Uni%C3%B3n_de_conjuntos', '/wiki/Diferencia_de_conjuntos', '/wiki/Diferencia_sim%C3%A9trica', '/w/index.php?title=Python&action=edit&section=18', '/w/index.php?title=Python&action=edit&section=19', '/wiki/Lisp', '/w/index.php?title=Python&action=edit&section=20', '/wiki/Herencia_m%C3%BAltiple', '/wiki/Clase_(inform%C3%A1tica)', '#cite_note-Recuero,_2020-32', '#cite_note-33', '/w/index.php?title=Python&action=edit&section=21', '/wiki/Tkinter', '#cite_note-34', '/wiki/Tk', '#cite_note-35', '/w/index.php?title=Python&action=edit&section=22', '/wiki/Software', '/wiki/Pip_(administrador_de_paquetes)', '/w/index.php?title=Python&action=edit&section=23', '/w/index.php?title=Python&action=edit&section=24', '/w/index.php?title=Python&action=edit&section=25', '/w/index.php?title=Python&action=edit&section=26', '/w/index.php?title=Python&action=edit&section=27', '/w/index.php?title=Python&action=edit&section=28', '/wiki/Gr%C3%A1ficas_tortuga', '/w/index.php?title=Python&action=edit&section=29', '/wiki/Clase_(inform%C3%A1tica)', '/wiki/Metaclase', '/wiki/Herencia_m%C3%BAltiple', '/wiki/Polimorfismo_(inform%C3%A1tica)', '/w/index.php?title=Python&action=edit&section=30', '/wiki/Archivo:Python_batteries_included.jpg', '/wiki/Archivo:Python_batteries_included.jpg', '#cite_note-36', '/w/index.php?title=Python&action=edit&section=31', '/wiki/CPython', '/wiki/IronPython', '/w/index.php?title=Stackless_Python&action=edit&redlink=1', '/wiki/Lenguaje_de_programaci%C3%B3n_C', 'http://www.stackless.com/', '/wiki/Jython', '/wiki/Lenguaje_de_programaci%C3%B3n_Java', '/w/index.php?title=Pippy&action=edit&redlink=1', 'http://pippy.sourceforge.net/', '/wiki/PyPy', '/wiki/Compilaci%C3%B3n_en_tiempo_de_ejecuci%C3%B3n', 'http://pypy.org/', '/w/index.php?title=ActivePython&action=edit&redlink=1', '/w/index.php?title=Python&action=edit&section=32', '#cite_note-37', '#cite_note-38', '#cite_note-39', '#cite_note-40', '/wiki/Windows_10', '#cite_note-41', '/w/index.php?title=Python&action=edit&section=33', '/wiki/PyPI', '/wiki/Django_(framework)', '/wiki/Cython', '/wiki/Flask', '/wiki/CubicWeb', '/wiki/Pygame', '/wiki/Tkinter', '/wiki/Binding', '/wiki/Biblioteca_(programaci%C3%B3n)', '/wiki/GUI', '/wiki/Tcl/Tk', '/wiki/PyGTK', '/wiki/Binding', '/wiki/Biblioteca_(programaci%C3%B3n)', '/wiki/GUI', '/wiki/GTK', '/wiki/WxPython', '/wiki/Binding', '/wiki/Biblioteca_(programaci%C3%B3n)', '/wiki/GUI', '/wiki/WxWidgets', '/wiki/PyQt', '/wiki/Binding', '/wiki/Biblioteca_(programaci%C3%B3n)', '/wiki/GUI', '/wiki/Qt_(biblioteca)', '/wiki/PySide', '/wiki/Binding', '/wiki/Biblioteca_(programaci%C3%B3n)', '/wiki/GUI', '/wiki/Qt_(biblioteca)', '/wiki/Nokia', '/wiki/Plone', '/wiki/Biopython', '/wiki/NumPy', '/wiki/SciPy', '/wiki/Pandas_(software)', '/wiki/Pyomo', '/wiki/Scikit-learn', '/wiki/Aprendizaje_autom%C3%A1tico', '/w/index.php?title=Python&action=edit&section=34', '#cite_ref-1', 'https://docs.python.org/3.11/whatsnew/changelog.html', '#cite_ref-Glosario_LUCA,_2020_2-0', 'https://web.archive.org/web/20200224120525/https://luca-d3.com/es/data-speaks/diccionario-tecnologico/python-lenguaje', '/wiki/Telef%C3%B3nica#Premios_y_reconocimientos', 'https://luca-d3.com/es/data-speaks/diccionario-tecnologico/python-lenguaje', '#cite_ref-lib-history_3-0', '#cite_ref-lib-history_3-1', 'https://docs.python.org/3/license.html', '#cite_ref-venners-interview-pt-1_4-0', '#cite_ref-venners-interview-pt-1_4-1', 'http://www.artima.com/intv/pythonP.html', '#cite_ref-whycreated_5-0', '#cite_ref-whycreated_5-1', 'https://docs.python.org/faq/general#why-was-python-created-in-the-first-place', '#cite_ref-6', 'https://docs.python.org/tutorial/appetite.html', '#cite_ref-7', 'https://web.archive.org/web/20180712235229/https://lamiradadelreplicante.com/2018/07/12/guido-van-rossum-dimite-como-lider-de-python/', 'https://lamiradadelreplicante.com/2018/07/12/guido-van-rossum-dimite-como-lider-de-python/', '#cite_ref-8', 'https://web.archive.org/web/20180712225051/https://www.mail-archive.com/python-committers@python.org/msg05628.html', 'https://www.mail-archive.com/python-committers@python.org/msg05628.html', '#cite_ref-9', '/wiki/Guido_van_Rossum', 'http://python-history.blogspot.com/2009/01/brief-timeline-of-python.html', '#cite_ref-10', '/wiki/ISBN', '/wiki/Especial:FuentesDeLibros/8426732437', '#cite_ref-11', 'http://www.artima.com/weblogs/viewpost.jsp?thread=98196', '#cite_ref-12', 'https://web.archive.org/web/20090223101648/http://python.org/doc/essays/cp4e.html', '#cite_ref-13', 'https://web.archive.org/web/20070312152257/http://www.python.org/cp4e/', '#cite_ref-newin-2.0_14-0', '#cite_ref-newin-2.0_14-1', 'https://web.archive.org/web/20070329043037/http://www.amk.ca/python/2.0/', '#cite_ref-15', 'https://www.python.org/dev/peps/pep-0227/', '#cite_ref-16', 'https://docs.python.org/whatsnew/2.2.html#peps-252-and-253-type-and-class-changes', '#cite_ref-17', 'https://docs.python.org/whatsnew/2.2.html#pep-255-simple-generators', '#cite_ref-18', 'https://www.python.org/dev/peps/pep-0282/', '#cite_ref-19', 'https://docs.python.org/library/threading.html', '#cite_ref-20', 'https://www.python.org/doc/sunset-python-2/', '#cite_ref-21', 'https://www.python.org/dev/peps/pep-0373/', '#cite_ref-22', 'https://devguide.python.org/#status-of-python-branches', '#cite_ref-23', 'https://www.edx.org/course/machine-learning-aprendizaje-automatico-con-python', '#cite_ref-24', '/wiki/Guido_van_Rossum', '/wiki/Pa%C3%ADses_Bajos', '#cite_ref-25', 'https://www.python.org/dev/peps/pep-0020/', '#cite_ref-26', 'https://web.archive.org/web/20180804135112/http://ipython.scipy.org/', 'http://ipython.scipy.org/', '#cite_ref-27', 'https://docs.python.org/2/tutorial/controlflow.html#defining-functions', '#cite_ref-28', 'https://web.archive.org/web/20150118141700/http://www.acm.uiuc.edu/webmonkeys/book/c_guide/index.html', 'http://www.acm.uiuc.edu/webmonkeys/book/c_guide/index.html', '#cite_ref-29', 'http://www.desarrolloweb.com/articulos/583.php', '#cite_ref-30', 'https://web.archive.org/web/20140527204143/http://python.net/~goodger/projects/pycon/2007/idiomatic/handout.html#whitespace-1', 'http://python.net/~goodger/projects/pycon/2007/idiomatic/handout.html#whitespace-1', '#cite_ref-Green_Tea_Press,_2002_31-0', 'https://web.archive.org/web/20171023174011/https://argentinaenpython.com/quiero-aprender-python/aprenda-a-pensar-como-un-programador-con-python.pdf', 'https://argentinaenpython.com/quiero-aprender-python/aprenda-a-pensar-como-un-programador-con-python.pdf', '#cite_ref-Recuero,_2020_32-0', 'https://web.archive.org/web/20200514004933/https://empresas.blogthinkbig.com/python-para-todos-metodo-vs-funcion/', 'https://empresas.blogthinkbig.com/python-para-todos-metodo-vs-funcion/', '#cite_ref-33', 'http://www.genbetadev.com/python/cazadores-de-mitos-las-propiedades-privadas-en-python', '#cite_ref-34', 'https://likegeeks.com/es/ejemplos-de-la-gui-de-python/', '#cite_ref-35', 'https://web.archive.org/web/20170915165232/http://docs.python.org.ar/tutorial/3/stdlib.html', 'http://docs.python.org.ar/tutorial/3/stdlib.html', '#cite_ref-36', 'https://docs.python.org/es/3.9/library/index.html', '#cite_ref-37', 'https://www.python.org/downloads/release/python-301/', '#cite_ref-38', 'https://www.python.org/dev/peps/pep-3000/', '#cite_ref-39', 'https://docs.python.org/3.1/library/2to3.html', '#cite_ref-40', 'https://docs.python.org/3.1/whatsnew/3.0.html', '#cite_ref-41', 'https://devblogs.microsoft.com/python/python-in-the-windows-10-may-2019-update/', '/w/index.php?title=Python&action=edit&section=35', '/wiki/ISBN', '/wiki/Especial:FuentesDeLibros/978-84-415-2513-9', '/wiki/ISBN', '/wiki/Especial:FuentesDeLibros/978-84-415-2317-3', '/w/index.php?title=Python&action=edit&section=36', 'https://es.wikibooks.org/wiki/Python', 'https://github.com/politrons/Dive-into-Python', 'https://wiki.python.org/moin/BeginnersGuide', '/wiki/Control_de_autoridades', '/wiki/Wikidata', 'https://www.wikidata.org/wiki/Q28865', '/wiki/Wikimedia_Commons', 'https://commons.wikimedia.org/wiki/Category:Python_(programming_language)', 'https://commons.wikimedia.org/wiki/Special:MediaSearch?type=image&search=%22Q28865%22', '/wiki/Wikilibros', 'https://es.wikibooks.org/wiki/Python', '/wiki/MediaWiki', 'https://www.mediawiki.org/wiki/Python', '/wiki/Biblioteca_Nacional_de_Francia', 'https://catalogue.bnf.fr/ark:/12148/cb13560465c', 'http://data.bnf.fr/ark:/12148/cb13560465c', '/wiki/Gemeinsame_Normdatei', 'https://d-nb.info/gnd/4434275-5', '/wiki/Library_of_Congress_Control_Number', 'https://id.loc.gov/authorities/sh96008834', '/wiki/Biblioteca_Nacional_de_la_Rep%C3%BAblica_Checa', 'https://aleph.nkp.cz/F/?func=find-c&local_base=aut&ccl_term=ica=ph170668', '/wiki/Syst%C3%A8me_universitaire_de_documentation', 'https://www.idref.fr/051626225', '/wiki/Wikidata', 'https://www.wikidata.org/wiki/Q28865', '/wiki/Wikimedia_Commons', 'https://commons.wikimedia.org/wiki/Category:Python_(programming_language)', 'https://commons.wikimedia.org/wiki/Special:MediaSearch?type=image&search=%22Q28865%22', '/wiki/Wikilibros', 'https://es.wikibooks.org/wiki/Python', '/wiki/MediaWiki', 'https://www.mediawiki.org/wiki/Python', 'https://es.wikipedia.org/w/index.php?title=Python&oldid=147015522', '/wiki/Especial:Categor%C3%ADas', '/wiki/Categor%C3%ADa:Python', '/wiki/Categor%C3%ADa:Lenguajes_de_programaci%C3%B3n_orientada_a_objetos', '/wiki/Categor%C3%ADa:Lenguajes_de_programaci%C3%B3n_de_alto_nivel', '/wiki/Categor%C3%ADa:Lenguajes_de_programaci%C3%B3n_din%C3%A1micamente_tipados', '/wiki/Categor%C3%ADa:Lenguajes_de_programaci%C3%B3n_educativos', '/wiki/Categor%C3%ADa:Software_de_1991', '/wiki/Categor%C3%ADa:Pa%C3%ADses_Bajos_en_1991', '/wiki/Categor%C3%ADa:Ciencia_y_tecnolog%C3%ADa_de_los_Pa%C3%ADses_Bajos', '/wiki/Categor%C3%ADa:Wikipedia:Art%C3%ADculos_con_datos_por_trasladar_a_Wikidata', '/wiki/Categor%C3%ADa:Wikipedia:Art%C3%ADculos_buenos_en_la_Wikipedia_en_%C3%A1rabe', '/wiki/Categor%C3%ADa:Wikipedia:Art%C3%ADculos_buenos_en_la_Wikipedia_en_alem%C3%A1n', '/wiki/Categor%C3%ADa:Wikipedia:Art%C3%ADculos_buenos_en_la_Wikipedia_en_ingl%C3%A9s', '/wiki/Categor%C3%ADa:Wikipedia:Art%C3%ADculos_con_pasajes_que_requieren_referencias', '/wiki/Categor%C3%ADa:Wikipedia:Art%C3%ADculos_con_identificadores_BNF', '/wiki/Categor%C3%ADa:Wikipedia:Art%C3%ADculos_con_identificadores_GND', '/wiki/Categor%C3%ADa:Wikipedia:Art%C3%ADculos_con_identificadores_LCCN', '/wiki/Especial:MiDiscusi%C3%B3n', '/wiki/Especial:MisContribuciones', '/w/index.php?title=Especial:Crear_una_cuenta&returnto=Python', '/w/index.php?title=Especial:Entrar&returnto=Python', '/wiki/Python', '/wiki/Discusi%C3%B3n:Python', '/wiki/Python', '/w/index.php?title=Python&action=edit', '/w/index.php?title=Python&action=history', '/wiki/Wikipedia:Portada', '/wiki/Wikipedia:Portada', '/wiki/Portal:Comunidad', '/wiki/Portal:Actualidad', '/wiki/Especial:CambiosRecientes', '/wiki/Especial:P%C3%A1ginasNuevas', '/wiki/Especial:Aleatoria', '/wiki/Ayuda:Contenidos', '//donate.wikimedia.org/wiki/Special:FundraiserRedirector?utm_source=donate&utm_medium=sidebar&utm_campaign=C13_es.wikipedia.org&uselang=es', '/wiki/Wikipedia:Informes_de_error', '/wiki/Especial:LoQueEnlazaAqu%C3%AD/Python', '/wiki/Especial:CambiosEnEnlazadas/Python', '//commons.wikimedia.org/wiki/Special:UploadWizard?uselang=es', '/wiki/Especial:P%C3%A1ginasEspeciales', '/w/index.php?title=Python&oldid=147015522', '/w/index.php?title=Python&action=info', '/w/index.php?title=Especial:Citar&page=Python&id=147015522&wpFormIdentifier=titleform', 'https://www.wikidata.org/wiki/Special:EntityPage/Q28865', '/w/index.php?title=Especial:Libro&bookcmd=book_creator&referer=Python', '/w/index.php?title=Especial:DownloadAsPdf&page=Python&action=show-download-screen', '/w/index.php?title=Python&printable=yes', 'https://commons.wikimedia.org/wiki/Python_(programming_language)', 'https://www.mediawiki.org/wiki/Python', 'https://es.wikibooks.org/wiki/Python', 'https://af.wikipedia.org/wiki/Python_(programmeertaal)', 'https://als.wikipedia.org/wiki/Python_(Programmiersprache)', 'https://an.wikipedia.org/wiki/Python', 'https://ar.wikipedia.org/wiki/%D8%A8%D8%A7%D9%8A%D8%AB%D9%88%D9%86_(%D9%84%D8%BA%D8%A9_%D8%A8%D8%B1%D9%85%D8%AC%D8%A9)', 'https://as.wikipedia.org/wiki/%E0%A6%AA%E0%A6%BE%E0%A6%87%E0%A6%A5%E0%A6%A8', 'https://ast.wikipedia.org/wiki/Python', 'https://az.wikipedia.org/wiki/Python_(proqramla%C5%9Fd%C4%B1rma_dili)', 'https://azb.wikipedia.org/wiki/%D9%BE%D8%A7%DB%8C%D8%AA%D9%88%D9%86', 'https://ban.wikipedia.org/wiki/Python', 'https://be.wikipedia.org/wiki/Python_(%D0%BC%D0%BE%D0%B2%D0%B0_%D0%BF%D1%80%D0%B0%D0%B3%D1%80%D0%B0%D0%BC%D0%B0%D0%B2%D0%B0%D0%BD%D0%BD%D1%8F)', 'https://bg.wikipedia.org/wiki/Python', 'https://bh.wikipedia.org/wiki/%E0%A4%AA%E0%A4%BE%E0%A4%87%E0%A4%A5%E0%A4%A8', 'https://bn.wikipedia.org/wiki/%E0%A6%AA%E0%A6%BE%E0%A6%87%E0%A6%A5%E0%A6%A8_(%E0%A6%AA%E0%A7%8D%E0%A6%B0%E0%A7%8B%E0%A6%97%E0%A7%8D%E0%A6%B0%E0%A6%BE%E0%A6%AE%E0%A6%BF%E0%A6%82_%E0%A6%AD%E0%A6%BE%E0%A6%B7%E0%A6%BE)', 'https://br.wikipedia.org/wiki/Python_(lavar_programmi%C3%B1)', 'https://bs.wikipedia.org/wiki/Python_(programski_jezik)', 'https://bug.wikipedia.org/wiki/Python', 'https://ca.wikipedia.org/wiki/Python', 'https://ceb.wikipedia.org/wiki/Python_(programming_language)', 'https://ckb.wikipedia.org/wiki/%D9%BE%D8%A7%DB%8C%D8%AA%DB%86%D9%86_(%D8%B2%D9%85%D8%A7%D9%86%DB%8C_%D8%A8%DB%95%D8%B1%D9%86%D8%A7%D9%85%DB%95%D8%B3%D8%A7%D8%B2%DB%8C)', 'https://cs.wikipedia.org/wiki/Python', 'https://cy.wikipedia.org/wiki/Python_(iaith_raglennu)', 'https://da.wikipedia.org/wiki/Python_(programmeringssprog)', 'https://de.wikipedia.org/wiki/Python_(Programmiersprache)', 'https://el.wikipedia.org/wiki/Python', 'https://en.wikipedia.org/wiki/Python_(programming_language)', 'https://eo.wikipedia.org/wiki/Python_(programlingvo)', 'https://et.wikipedia.org/wiki/Python_(programmeerimiskeel)', 'https://eu.wikipedia.org/wiki/Python_(informatika)', 'https://fa.wikipedia.org/wiki/%D9%BE%D8%A7%DB%8C%D8%AA%D9%88%D9%86_(%D8%B2%D8%A8%D8%A7%D9%86_%D8%A8%D8%B1%D9%86%D8%A7%D9%85%D9%87%E2%80%8C%D9%86%D9%88%DB%8C%D8%B3%DB%8C)', 'https://fi.wikipedia.org/wiki/Python_(ohjelmointikieli)', 'https://fj.wikipedia.org/wiki/Python', 'https://fr.wikipedia.org/wiki/Python_(langage)', 'https://gl.wikipedia.org/wiki/Python', 'https://gu.wikipedia.org/wiki/%E0%AA%AA%E0%AA%BE%E0%AA%AF%E0%AA%A5%E0%AB%8B%E0%AA%A8(%E0%AA%AA%E0%AB%8D%E0%AA%B0%E0%AB%8B%E0%AA%97%E0%AB%8D%E0%AA%B0%E0%AA%BE%E0%AA%AE%E0%AA%BF%E0%AA%82%E0%AA%97_%E0%AA%AD%E0%AA%BE%E0%AA%B7%E0%AA%BE)', 'https://he.wikipedia.org/wiki/%D7%A4%D7%99%D7%99%D7%AA%D7%95%D7%9F', 'https://hi.wikipedia.org/wiki/%E0%A4%AA%E0%A4%BE%E0%A4%87%E0%A4%A5%E0%A4%A8', 'https://hr.wikipedia.org/wiki/Python_(programski_jezik)', 'https://hu.wikipedia.org/wiki/Python_(programoz%C3%A1si_nyelv)', 'https://hy.wikipedia.org/wiki/Python', 'https://ia.wikipedia.org/wiki/Python_(linguage_de_programmation)', 'https://id.wikipedia.org/wiki/Python_(bahasa_pemrograman)', 'https://is.wikipedia.org/wiki/Python_(forritunarm%C3%A1l)', 'https://it.wikipedia.org/wiki/Python', 'https://ja.wikipedia.org/wiki/Python', 'https://jbo.wikipedia.org/wiki/paiton', 'https://ka.wikipedia.org/wiki/%E1%83%9E%E1%83%90%E1%83%98%E1%83%97%E1%83%9D%E1%83%9C%E1%83%98_(%E1%83%9E%E1%83%A0%E1%83%9D%E1%83%92%E1%83%A0%E1%83%90%E1%83%9B%E1%83%98%E1%83%A0%E1%83%94%E1%83%91%E1%83%98%E1%83%A1_%E1%83%94%E1%83%9C%E1%83%90)', 'https://kk.wikipedia.org/wiki/Python', 'https://km.wikipedia.org/wiki/%E1%9E%95%E1%9E%B6%E1%9E%99%E1%9E%90%E1%9E%BB%E1%9E%93', 'https://ko.wikipedia.org/wiki/%ED%8C%8C%EC%9D%B4%EC%8D%AC', 'https://ku.wikipedia.org/wiki/Python_(ziman%C3%AA_bernamesaziy%C3%AA)', 'https://ky.wikipedia.org/wiki/Python', 'https://la.wikipedia.org/wiki/Python_(lingua_programmandi)', 'https://lmo.wikipedia.org/wiki/Python', 'https://lt.wikipedia.org/wiki/Python', 'https://lv.wikipedia.org/wiki/Python_(programm%C4%93%C5%A1anas_valoda)', 'https://mk.wikipedia.org/wiki/%D0%9F%D0%B0%D1%98%D1%82%D0%BE%D0%BD_(%D0%BF%D1%80%D0%BE%D0%B3%D1%80%D0%B0%D0%BC%D1%81%D0%BA%D0%B8_%D1%98%D0%B0%D0%B7%D0%B8%D0%BA)', 'https://ml.wikipedia.org/wiki/%E0%B4%AA%E0%B5%88%E0%B4%A4%E0%B5%8D%E0%B4%A4%E0%B5%BA_(%E0%B4%AA%E0%B5%8D%E0%B4%B0%E0%B5%8B%E0%B4%97%E0%B5%8D%E0%B4%B0%E0%B4%BE%E0%B4%AE%E0%B4%BF%E0%B4%99%E0%B5%8D%E0%B4%99%E0%B5%8D_%E0%B4%AD%E0%B4%BE%E0%B4%B7)', 'https://mn.wikipedia.org/wiki/Python', 'https://mr.wikipedia.org/wiki/%E0%A4%AA%E0%A4%BE%E0%A4%AF%E0%A4%A5%E0%A5%89%E0%A4%A8', 'https://ms.wikipedia.org/wiki/Python', 'https://my.wikipedia.org/wiki/Python_(programming_language)', 'https://nds.wikipedia.org/wiki/Python_(Programmeerspraak)', 'https://nl.wikipedia.org/wiki/Python_(programmeertaal)', 'https://nn.wikipedia.org/wiki/Python', 'https://no.wikipedia.org/wiki/Python', 'https://nqo.wikipedia.org/wiki/%DF%94%DF%8A%DF%8C%DF%95%DF%90%DF%B2%DF%AC', 'https://or.wikipedia.org/wiki/%E0%AC%AA%E0%AC%BE%E0%AC%87%E0%AC%A5%E0%AC%A8%E0%AD%8D_(%E0%AC%AA%E0%AD%8D%E0%AC%B0%E0%AD%8B%E0%AC%97%E0%AD%8D%E0%AC%B0%E0%AC%BE%E0%AC%AE%E0%AC%BF%E0%AC%82_%E0%AC%AD%E0%AC%BE%E0%AC%B7%E0%AC%BE)', 'https://pa.wikipedia.org/wiki/%E0%A8%AA%E0%A8%BE%E0%A8%88%E0%A8%A5%E0%A8%A8_(%E0%A8%AA%E0%A9%8D%E0%A8%B0%E0%A9%8B%E0%A8%97%E0%A8%B0%E0%A8%BE%E0%A8%AE%E0%A8%BF%E0%A9%B0%E0%A8%97_%E0%A8%AD%E0%A8%BE%E0%A8%B8%E0%A8%BC%E0%A8%BE)', 'https://pl.wikipedia.org/wiki/Python', 'https://pnb.wikipedia.org/wiki/%D9%BE%D8%A7%D8%A6%DB%8C%D8%AA%DA%BE%D9%86_(%DA%A9%D9%85%D9%BE%DB%8C%D9%88%D9%B9%D8%B1_%D8%A8%D9%88%D9%84%DB%8C)', 'https://pt.wikipedia.org/wiki/Python', 'https://ro.wikipedia.org/wiki/Python', 'https://ru.wikipedia.org/wiki/Python', 'https://sah.wikipedia.org/wiki/Python', 'https://sat.wikipedia.org/wiki/%E1%B1%AF%E1%B1%9F%E1%B1%AD%E1%B1%9B%E1%B1%B7%E1%B1%9A%E1%B1%B1(%E1%B1%AF%E1%B1%A8%E1%B1%B3%E1%B1%9C%E1%B1%BD%E1%B1%A8%E1%B1%9F%E1%B1%A2%E1%B1%A4%E1%B1%9D_%E1%B1%AF%E1%B1%9F%E1%B1%B9%E1%B1%A8%E1%B1%A5%E1%B1%A4)', 'https://sco.wikipedia.org/wiki/Python_(programmin_leid)', 'https://sh.wikipedia.org/wiki/Python_programski_jezik', 'https://shn.wikipedia.org/wiki/Python_(programming_language)', 'https://si.wikipedia.org/wiki/%E0%B6%B4%E0%B6%BA%E0%B7%92%E0%B6%AD%E0%B6%B1%E0%B7%8A', 'https://simple.wikipedia.org/wiki/Python_(programming_language)', 'https://sk.wikipedia.org/wiki/Python_(programovac%C3%AD_jazyk)', 'https://sl.wikipedia.org/wiki/Python_(programski_jezik)', 'https://sq.wikipedia.org/wiki/Python', 'https://sr.wikipedia.org/wiki/Python_(%D0%BF%D1%80%D0%BE%D0%B3%D1%80%D0%B0%D0%BC%D1%81%D0%BA%D0%B8_%D1%98%D0%B5%D0%B7%D0%B8%D0%BA)', 'https://sv.wikipedia.org/wiki/Python_(programspr%C3%A5k)', 'https://sw.wikipedia.org/wiki/Python_(Lugha_ya_programu)', 'https://ta.wikipedia.org/wiki/%E0%AE%AA%E0%AF%88%E0%AE%A4%E0%AF%8D%E0%AE%A4%E0%AE%BE%E0%AE%A9%E0%AF%8D', 'https://te.wikipedia.org/wiki/%E0%B0%AA%E0%B1%88%E0%B0%A5%E0%B0%BE%E0%B0%A8%E0%B1%8D_(%E0%B0%95%E0%B0%82%E0%B0%AA%E0%B1%8D%E0%B0%AF%E0%B1%82%E0%B0%9F%E0%B0%B0%E0%B1%8D_%E0%B0%AD%E0%B0%BE%E0%B0%B7)', 'https://tg.wikipedia.org/wiki/Python', 'https://th.wikipedia.org/wiki/%E0%B9%84%E0%B8%9E%E0%B8%97%E0%B8%AD%E0%B8%99_(%E0%B8%A0%E0%B8%B2%E0%B8%A9%E0%B8%B2%E0%B9%82%E0%B8%9B%E0%B8%A3%E0%B9%81%E0%B8%81%E0%B8%A3%E0%B8%A1)', 'https://tl.wikipedia.org/wiki/Python_(wikang_pamprograma)', 'https://tr.wikipedia.org/wiki/Python', 'https://tt.wikipedia.org/wiki/Python', 'https://ug.wikipedia.org/wiki/%D9%BE%D8%A7%D9%8A%D8%B3%D9%88%D9%86', 'https://uk.wikipedia.org/wiki/Python', 'https://ur.wikipedia.org/wiki/%D9%BE%D8%A7%D8%A6%DB%8C%D8%AA%DA%BE%D9%86_(%D9%BE%D8%B1%D9%88%DA%AF%D8%B1%D8%A7%D9%85%D9%86%DA%AF_%D8%B2%D8%A8%D8%A7%D9%86)', 'https://uz.wikipedia.org/wiki/Python', 'https://vi.wikipedia.org/wiki/Python_(ng%C3%B4n_ng%E1%BB%AF_l%E1%BA%ADp_tr%C3%ACnh)', 'https://wa.wikipedia.org/wiki/Python_(lingaedje_%C3%A9ndjolike)', 'https://war.wikipedia.org/wiki/Python_(programming_language)', 'https://wuu.wikipedia.org/wiki/Python', 'https://zh.wikipedia.org/wiki/Python', 'https://zh-classical.wikipedia.org/wiki/%E7%9A%AE%E5%90%8C', 'https://zh-min-nan.wikipedia.org/wiki/Python', 'https://zh-yue.wikipedia.org/wiki/Python', 'https://www.wikidata.org/wiki/Special:EntityPage/Q28865#sitelinks-wikipedia', '//es.wikipedia.org/wiki/Wikipedia:Texto_de_la_Licencia_Creative_Commons_Atribuci%C3%B3n-CompartirIgual_3.0_Unported', 'http://creativecommons.org/licenses/by-sa/3.0/', '//wikimediafoundation.org/wiki/Terms_of_Use', '//wikimediafoundation.org/wiki/Privacy_policy', '//www.wikimediafoundation.org/', 'https://meta.wikimedia.org/wiki/Privacy_policy/es', '/wiki/Wikipedia:Acerca_de', '/wiki/Wikipedia:Limitaci%C3%B3n_general_de_responsabilidad', '//es.m.wikipedia.org/w/index.php?title=Python&mobileaction=toggle_view_mobile', 'https://developer.wikimedia.org', 'https://stats.wikimedia.org/#/es.wikipedia.org', 'https://foundation.wikimedia.org/wiki/Cookie_statement/es', 'https://wikimediafoundation.org/', 'https://www.mediawiki.org/']\n"
          ]
        }
      ]
    },
    {
      "cell_type": "code",
      "source": [
        "quakes_url = 'https://www.emsc-csem.org/Earthquake/'\n",
        "quakes_request = requests.get(quakes_url)\n",
        "quakes_soup = BeautifulSoup(quakes_request.content,'html.parser')\n",
        "quakes_table = quakes_soup.find_all('tbody')\n",
        "#print(quakes_table)"
      ],
      "metadata": {
        "id": "64z62omplWhv"
      },
      "execution_count": null,
      "outputs": []
    },
    {
      "cell_type": "code",
      "source": [
        "#From this I get Date and Time\n",
        "#From this I get Date and Time\n",
        "quakes_dates_text= [a.text for a in quakes_soup.select('td.tabev6')]\n",
        "quakes_dates_list = []\n",
        "quakes_times_list =[]\n",
        "for i in range(len(quakes_dates_text)):\n",
        "  quakes_dates_text[i] = quakes_dates_text[i].replace('earthquake','').split('\\xa0\\xa0\\xa0')\n",
        "  quakes_dates_list.append(quakes_dates_text[i][0])\n",
        "  quakes_times_list.append(quakes_dates_text[i][1])\n",
        "quakes_dates_list #all the quakes dates -OK\n",
        "#quakes_times_list #needs cleaning"
      ],
      "metadata": {
        "colab": {
          "base_uri": "https://localhost:8080/"
        },
        "id": "VehdPGLblkH7",
        "outputId": "e0f0d07d-841e-4b1c-840b-369d2911b409"
      },
      "execution_count": null,
      "outputs": [
        {
          "output_type": "execute_result",
          "data": {
            "text/plain": [
              "['2022-11-02',\n",
              " '2022-11-02',\n",
              " '2022-11-02',\n",
              " '2022-11-02',\n",
              " '2022-11-02',\n",
              " '2022-11-02',\n",
              " '2022-11-02',\n",
              " '2022-11-02',\n",
              " '2022-11-02',\n",
              " '2022-11-02',\n",
              " '2022-11-02',\n",
              " '2022-11-02',\n",
              " '2022-11-02',\n",
              " '2022-11-02',\n",
              " '2022-11-02',\n",
              " '2022-11-02',\n",
              " '2022-11-02',\n",
              " '2022-11-02',\n",
              " '2022-11-02',\n",
              " '2022-11-02',\n",
              " '2022-11-02',\n",
              " '2022-11-02',\n",
              " '2022-11-02',\n",
              " '2022-11-02',\n",
              " '2022-11-02',\n",
              " '2022-11-02',\n",
              " '2022-11-02',\n",
              " '2022-11-02',\n",
              " '2022-11-02',\n",
              " '2022-11-02',\n",
              " '2022-11-02',\n",
              " '2022-11-02',\n",
              " '2022-11-02',\n",
              " '2022-11-02',\n",
              " '2022-11-02',\n",
              " '2022-11-02',\n",
              " '2022-11-02',\n",
              " '2022-11-02',\n",
              " '2022-11-02',\n",
              " '2022-11-02',\n",
              " '2022-11-02',\n",
              " '2022-11-02',\n",
              " '2022-11-02',\n",
              " '2022-11-02',\n",
              " '2022-11-02',\n",
              " '2022-11-02',\n",
              " '2022-11-02',\n",
              " '2022-11-02',\n",
              " '2022-11-02',\n",
              " '2022-11-02']"
            ]
          },
          "metadata": {},
          "execution_count": 7
        }
      ]
    },
    {
      "cell_type": "code",
      "source": [
        "pattern = '\\.[0-9](.*)'\n",
        "times_ok = []\n",
        "for element in quakes_times_list:\n",
        "  ending = re.findall(pattern,element)\n",
        "  strending = str(ending).replace(\"'\",\"\").replace(\"[\",\"\").replace(\"]\",\"\")\n",
        "  new_element = element.replace(strending,'')\n",
        "  times_ok.append(new_element)\n",
        "times_ok # every time of the eartquakes cleaned - OK"
      ],
      "metadata": {
        "colab": {
          "base_uri": "https://localhost:8080/"
        },
        "id": "99ZSEqnGl1Pg",
        "outputId": "5adb3c61-5370-4a88-9381-5d02284e6917"
      },
      "execution_count": null,
      "outputs": [
        {
          "output_type": "execute_result",
          "data": {
            "text/plain": [
              "['17:41:23.9',\n",
              " '17:32:30.0',\n",
              " '17:26:43.0',\n",
              " '17:04:43.3',\n",
              " '17:03:40.0',\n",
              " '16:56:13.0',\n",
              " '16:44:57.9',\n",
              " '16:27:56.1',\n",
              " '16:20:51.1',\n",
              " '16:06:07.0',\n",
              " '15:59:33.2',\n",
              " '15:58:51.4',\n",
              " '15:37:01.0',\n",
              " '15:23:35.0',\n",
              " '15:23:10.0',\n",
              " '15:23:04.4',\n",
              " '15:08:41.6',\n",
              " '15:06:45.0',\n",
              " '14:57:51.0',\n",
              " '14:51:55.0',\n",
              " '14:51:29.9',\n",
              " '14:35:55.0',\n",
              " '14:32:08.0',\n",
              " '14:27:29.0',\n",
              " '14:23:31.9',\n",
              " '14:23:31.0',\n",
              " '14:18:44.0',\n",
              " '14:17:52.8',\n",
              " '14:09:54.4',\n",
              " '13:48:19.0',\n",
              " '13:39:04.0',\n",
              " '13:27:14.0',\n",
              " '13:13:49.5',\n",
              " '13:07:42.9',\n",
              " '13:02:44.0',\n",
              " '13:02:41.3',\n",
              " '12:59:30.0',\n",
              " '12:41:08.3',\n",
              " '12:29:05.0',\n",
              " '12:16:03.2',\n",
              " '12:14:02.0',\n",
              " '12:05:37.5',\n",
              " '11:59:31.4',\n",
              " '11:50:16.0',\n",
              " '11:45:10.1',\n",
              " '11:29:04.0',\n",
              " '11:23:52.0',\n",
              " '11:16:31.8',\n",
              " '11:16:18.5',\n",
              " '11:12:23.4']"
            ]
          },
          "metadata": {},
          "execution_count": 8
        }
      ]
    },
    {
      "cell_type": "code",
      "source": [
        "#From this I get Region\n",
        "quakes_regions = quakes_soup.find_all('td', {'class':'tb_region'})\n",
        "#print(quakes_regions)\n",
        "quakes_regions_text= [td.text for td in quakes_soup.select('td.tb_region')]\n",
        "#quakes_regions_text\n",
        "quakes_regions_list = []\n",
        "for i in range(len(quakes_regions_text)):\n",
        "   quakes_regions_text[i] = quakes_regions_text[i].replace('\\xa0','')\n",
        "   quakes_regions_list.append(quakes_regions_text[i])\n",
        "quakes_regions_list #-Regions list OK"
      ],
      "metadata": {
        "colab": {
          "base_uri": "https://localhost:8080/"
        },
        "id": "WuGlUy_Fl5MR",
        "outputId": "27507426-5578-41f5-c0ee-302b916768c0"
      },
      "execution_count": null,
      "outputs": [
        {
          "output_type": "execute_result",
          "data": {
            "text/plain": [
              "['EASTERN MEDITERRANEAN SEA',\n",
              " 'EASTERN HONSHU, JAPAN',\n",
              " 'MOLUCCA SEA',\n",
              " 'KANSAS',\n",
              " 'VALPARAISO, CHILE',\n",
              " 'NEAR N COAST OF PAPUA, INDONESIA',\n",
              " 'UTAH',\n",
              " 'POLAND',\n",
              " 'NORTHWEST OF KURIL ISLANDS',\n",
              " 'ANTOFAGASTA, CHILE',\n",
              " 'SWITZERLAND',\n",
              " 'BAJA CALIFORNIA, MEXICO',\n",
              " 'SULAWESI, INDONESIA',\n",
              " 'GULF OF CALIFORNIA',\n",
              " 'COQUIMBO, CHILE',\n",
              " 'KAZAKHSTAN-XINJIANG BORDER REG.',\n",
              " 'WEST OF GIBRALTAR',\n",
              " 'HALMAHERA, INDONESIA',\n",
              " 'SAVU SEA',\n",
              " 'OFFSHORE MICHOACAN, MEXICO',\n",
              " 'PUERTO RICO',\n",
              " 'PAPUA, INDONESIA',\n",
              " 'MINDANAO, PHILIPPINES',\n",
              " 'CERAM SEA, INDONESIA',\n",
              " 'ISLAND OF HAWAII, HAWAII',\n",
              " 'SUNDA STRAIT, INDONESIA',\n",
              " 'SANTIAGO DEL ESTERO, ARGENTINA',\n",
              " 'SOUTH SANDWICH ISLANDS REGION',\n",
              " 'ISLAND OF HAWAII, HAWAII',\n",
              " 'OFFSHORE MICHOACAN, MEXICO',\n",
              " 'BANDA SEA',\n",
              " 'QUEEN CHARLOTTE ISLANDS REGION',\n",
              " 'FRANCE',\n",
              " 'BABUYAN ISL REGION, PHILIPPINES',\n",
              " 'OFFSHORE MICHOACAN, MEXICO',\n",
              " 'ISLAND OF HAWAII, HAWAII',\n",
              " 'COSTA RICA',\n",
              " 'WESTERN TURKEY',\n",
              " 'MINAHASA, SULAWESI, INDONESIA',\n",
              " 'NORWEGIAN SEA',\n",
              " 'SOUTHERN SUMATRA, INDONESIA',\n",
              " 'FRANCE',\n",
              " 'PUERTO RICO REGION',\n",
              " 'STRAIT OF GIBRALTAR',\n",
              " 'ISLAND OF HAWAII, HAWAII',\n",
              " 'SUMBA REGION, INDONESIA',\n",
              " 'FLORES REGION, INDONESIA',\n",
              " 'CENTRAL TURKEY',\n",
              " 'SPAIN',\n",
              " 'NORTHERN CALIFORNIA']"
            ]
          },
          "metadata": {},
          "execution_count": 9
        }
      ]
    },
    {
      "cell_type": "code",
      "source": [
        "#I need latitude and longitude\n",
        "quakes_soup.find(id=\"tbody\")\n",
        "ones = quakes_soup.find_all(\"td\", {\"class\":\"tabev1\"})\n",
        "ones_text = [td.text for td in quakes_soup.select(\"td.tabev1\")]\n",
        "ones_text\n",
        "pattern = '(.*)'\n",
        "ones_ok = []\n",
        "for element in ones_text:\n",
        "  new_element = element.replace(\"\\xa0\",\"\")\n",
        "  ones_ok.append(new_element)\n",
        "ones_ok"
      ],
      "metadata": {
        "colab": {
          "base_uri": "https://localhost:8080/"
        },
        "id": "jM-rQ_bdl9Ce",
        "outputId": "f8b5fba9-c6d4-45fd-9718-4cbb6a80ff13"
      },
      "execution_count": null,
      "outputs": [
        {
          "output_type": "execute_result",
          "data": {
            "text/plain": [
              "['35.91',\n",
              " '30.88',\n",
              " '37.20',\n",
              " '140.10',\n",
              " '0.97',\n",
              " '126.10',\n",
              " '38.40',\n",
              " '96.86',\n",
              " '32.97',\n",
              " '71.55',\n",
              " '2.65',\n",
              " '140.49',\n",
              " '41.50',\n",
              " '112.18',\n",
              " '51.34',\n",
              " '15.91',\n",
              " '48.34',\n",
              " '150.99',\n",
              " '21.41',\n",
              " '68.68',\n",
              " '47.34',\n",
              " '7.37',\n",
              " '31.99',\n",
              " '115.33',\n",
              " '0.14',\n",
              " '123.91',\n",
              " '27.88',\n",
              " '111.96',\n",
              " '29.41',\n",
              " '70.92',\n",
              " '47.26',\n",
              " '85.21',\n",
              " '36.68',\n",
              " '8.35',\n",
              " '1.86',\n",
              " '127.20',\n",
              " '10.01',\n",
              " '121.73',\n",
              " '18.12',\n",
              " '103.34',\n",
              " '17.99',\n",
              " '66.99',\n",
              " '2.48',\n",
              " '138.90',\n",
              " '6.05',\n",
              " '126.62',\n",
              " '2.19',\n",
              " '128.22',\n",
              " '19.21',\n",
              " '155.39',\n",
              " '6.15',\n",
              " '105.08',\n",
              " '28.15',\n",
              " '65.05',\n",
              " '60.75',\n",
              " '25.93',\n",
              " '19.45',\n",
              " '155.85',\n",
              " '17.74',\n",
              " '102.78',\n",
              " '6.87',\n",
              " '129.45',\n",
              " '53.39',\n",
              " '133.14',\n",
              " '46.81',\n",
              " '6.34',\n",
              " '19.59',\n",
              " '121.73',\n",
              " '18.56',\n",
              " '103.81',\n",
              " '19.27',\n",
              " '155.39',\n",
              " '9.43',\n",
              " '84.50',\n",
              " '39.21',\n",
              " '27.73',\n",
              " '0.87',\n",
              " '120.62',\n",
              " '72.09',\n",
              " '1.06',\n",
              " '4.34',\n",
              " '101.93',\n",
              " '45.88',\n",
              " '6.96',\n",
              " '17.94',\n",
              " '66.84',\n",
              " '35.44',\n",
              " '3.60',\n",
              " '19.16',\n",
              " '155.38',\n",
              " '9.74',\n",
              " '119.89',\n",
              " '8.54',\n",
              " '119.71',\n",
              " '37.73',\n",
              " '37.55',\n",
              " '37.00',\n",
              " '3.73',\n",
              " '37.31',\n",
              " '121.68']"
            ]
          },
          "metadata": {},
          "execution_count": 30
        }
      ]
    },
    {
      "cell_type": "code",
      "source": [
        "twos = quakes_soup.find_all(\"td\", {\"class\":\"tabev2\"})\n",
        "type(str(twos[0]))\n",
        "twos_ok = []\n",
        "pattern ='([A-Z])'\n",
        "for i in range(len(twos)):\n",
        "    x = re.findall(pattern,str(twos[i]))\n",
        "    if len(x)>0:\n",
        "      twos_ok.append(x)\n",
        "twos_ok"
      ],
      "metadata": {
        "colab": {
          "base_uri": "https://localhost:8080/"
        },
        "id": "Hx7s2MoD1oTH",
        "outputId": "db887de5-8823-4713-9700-014ba0dfea10"
      },
      "execution_count": null,
      "outputs": [
        {
          "output_type": "execute_result",
          "data": {
            "text/plain": [
              "[['N'],\n",
              " ['E'],\n",
              " ['N'],\n",
              " ['E'],\n",
              " ['N'],\n",
              " ['E'],\n",
              " ['N'],\n",
              " ['W'],\n",
              " ['S'],\n",
              " ['W'],\n",
              " ['S'],\n",
              " ['E'],\n",
              " ['N'],\n",
              " ['W'],\n",
              " ['N'],\n",
              " ['E'],\n",
              " ['N'],\n",
              " ['E'],\n",
              " ['S'],\n",
              " ['W'],\n",
              " ['N'],\n",
              " ['E'],\n",
              " ['N'],\n",
              " ['W'],\n",
              " ['S'],\n",
              " ['E'],\n",
              " ['N'],\n",
              " ['W'],\n",
              " ['S'],\n",
              " ['W'],\n",
              " ['N'],\n",
              " ['E'],\n",
              " ['N'],\n",
              " ['W'],\n",
              " ['N'],\n",
              " ['E'],\n",
              " ['S'],\n",
              " ['E'],\n",
              " ['N'],\n",
              " ['W'],\n",
              " ['N'],\n",
              " ['W'],\n",
              " ['S'],\n",
              " ['E'],\n",
              " ['N'],\n",
              " ['E'],\n",
              " ['S'],\n",
              " ['E'],\n",
              " ['N'],\n",
              " ['W'],\n",
              " ['S'],\n",
              " ['E'],\n",
              " ['S'],\n",
              " ['W'],\n",
              " ['S'],\n",
              " ['W'],\n",
              " ['N'],\n",
              " ['W'],\n",
              " ['N'],\n",
              " ['W'],\n",
              " ['S'],\n",
              " ['E'],\n",
              " ['N'],\n",
              " ['W'],\n",
              " ['N'],\n",
              " ['E'],\n",
              " ['N'],\n",
              " ['E'],\n",
              " ['N'],\n",
              " ['W'],\n",
              " ['N'],\n",
              " ['W'],\n",
              " ['N'],\n",
              " ['W'],\n",
              " ['N'],\n",
              " ['E'],\n",
              " ['N'],\n",
              " ['E'],\n",
              " ['N'],\n",
              " ['E'],\n",
              " ['S'],\n",
              " ['E'],\n",
              " ['N'],\n",
              " ['E'],\n",
              " ['N'],\n",
              " ['W'],\n",
              " ['N'],\n",
              " ['W'],\n",
              " ['N'],\n",
              " ['W'],\n",
              " ['S'],\n",
              " ['E'],\n",
              " ['S'],\n",
              " ['E'],\n",
              " ['N'],\n",
              " ['E'],\n",
              " ['N'],\n",
              " ['W'],\n",
              " ['N'],\n",
              " ['W']]"
            ]
          },
          "metadata": {},
          "execution_count": 32
        }
      ]
    },
    {
      "cell_type": "code",
      "source": [
        "#Joining latitude and longitud with its cardinal points\n",
        "lat = []\n",
        "lon = []\n",
        "for i in range(0,len(ones_ok),2):\n",
        "  lat_ok = (str(ones_ok[i])+\" \"+str(twos_ok[i][0]))\n",
        "  lat.append(lat_ok)\n",
        "for i in range(1,len(ones_ok),2):\n",
        "   lon_ok = (str(ones_ok[i])+\" \"+str(twos_ok[i][0]))\n",
        "   lon.append(lon_ok)\n",
        "lat\n",
        "lon"
      ],
      "metadata": {
        "colab": {
          "base_uri": "https://localhost:8080/"
        },
        "id": "fqVZ1lzK1vUr",
        "outputId": "88fe4c46-fbd8-413c-981e-02578ba7c0eb"
      },
      "execution_count": null,
      "outputs": [
        {
          "output_type": "execute_result",
          "data": {
            "text/plain": [
              "['30.88 E',\n",
              " '140.10 E',\n",
              " '126.10 E',\n",
              " '96.86 W',\n",
              " '71.55 W',\n",
              " '140.49 E',\n",
              " '112.18 W',\n",
              " '15.91 E',\n",
              " '150.99 E',\n",
              " '68.68 W',\n",
              " '7.37 E',\n",
              " '115.33 W',\n",
              " '123.91 E',\n",
              " '111.96 W',\n",
              " '70.92 W',\n",
              " '85.21 E',\n",
              " '8.35 W',\n",
              " '127.20 E',\n",
              " '121.73 E',\n",
              " '103.34 W',\n",
              " '66.99 W',\n",
              " '138.90 E',\n",
              " '126.62 E',\n",
              " '128.22 E',\n",
              " '155.39 W',\n",
              " '105.08 E',\n",
              " '65.05 W',\n",
              " '25.93 W',\n",
              " '155.85 W',\n",
              " '102.78 W',\n",
              " '129.45 E',\n",
              " '133.14 W',\n",
              " '6.34 E',\n",
              " '121.73 E',\n",
              " '103.81 W',\n",
              " '155.39 W',\n",
              " '84.50 W',\n",
              " '27.73 E',\n",
              " '120.62 E',\n",
              " '1.06 E',\n",
              " '101.93 E',\n",
              " '6.96 E',\n",
              " '66.84 W',\n",
              " '3.60 W',\n",
              " '155.38 W',\n",
              " '119.89 E',\n",
              " '119.71 E',\n",
              " '37.55 E',\n",
              " '3.73 W',\n",
              " '121.68 W']"
            ]
          },
          "metadata": {},
          "execution_count": 33
        }
      ]
    }
  ]
}